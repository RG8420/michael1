{
 "cells": [
  {
   "cell_type": "code",
   "execution_count": null,
   "metadata": {
    "colab": {
     "base_uri": "https://localhost:8080/"
    },
    "id": "5RD_ZAnRaR2Y",
    "outputId": "06ae6b1e-d0a6-4342-fe7a-c83b6bd42b4d"
   },
   "outputs": [],
   "source": [
    "from google.colab import drive\n",
    "\n",
    "drive.mount(\"./gdrive\", force_remount=True)\n",
    "\n",
    "%cd \"./gdrive/My Drive/Colab_Notebooks/ground-water-quality-prediction/\"\n",
    "\n",
    "!ls -l"
   ]
  },
  {
   "cell_type": "code",
   "execution_count": null,
   "metadata": {
    "id": "GfbHFVSnaUn2"
   },
   "outputs": [],
   "source": [
    "proj_path = \"/data-phase-3/\"  #change dir to your project folder"
   ]
  },
  {
   "cell_type": "code",
   "execution_count": null,
   "metadata": {
    "colab": {
     "base_uri": "https://localhost:8080/"
    },
    "id": "C3KY-CYBaXmG",
    "outputId": "642b769b-bab1-40bf-8785-af91938f8e26"
   },
   "outputs": [],
   "source": [
    "%cd \"./data-phase-3/\""
   ]
  },
  {
   "cell_type": "code",
   "execution_count": null,
   "metadata": {
    "colab": {
     "base_uri": "https://localhost:8080/"
    },
    "id": "hV7l4g72adr3",
    "outputId": "61ee26b7-03aa-433c-ef71-1fca910db4b9"
   },
   "outputs": [],
   "source": [
    "ls -l"
   ]
  },
  {
   "cell_type": "markdown",
   "metadata": {
    "id": "rFAKNW0UYqnN"
   },
   "source": [
    "# Vietnam Ground Water Quality Analysis "
   ]
  },
  {
   "cell_type": "markdown",
   "metadata": {
    "id": "uD7fTpZVYqnP"
   },
   "source": [
    "# 1.Bussiness/Real World Problem"
   ]
  },
  {
   "cell_type": "markdown",
   "metadata": {
    "id": "1RJXTw34YqnQ"
   },
   "source": [
    "### 1.1 Problem Statement"
   ]
  },
  {
   "cell_type": "markdown",
   "metadata": {
    "id": "JN2WA51KYqnR"
   },
   "source": [
    "**To be updated** </br>\n",
    "The chemical quality of ground water of Odisha has been evaluated by chemically analyzing water samples\n",
    "collected from National Hydrograph Network Stations (NHNS). The water samples for\n",
    "these purposes were collected in clean 1.0 litre polyethylene bottles after rinsing 2 to 3 times with the water\n",
    "samples to be collected.\n",
    "<br>\n",
    "<br>\n",
    "The samples were analysed for 14 parameters namely pH, Electrical Conductivity (EC),\n",
    "Total Dissolved Solids (TDS), Total Hardness (TH), Alkalinity, Calcium (Ca), Magnesium (Mg), Sodium (Na),\n",
    "Potassium (K), Carbonate (CO 3 ), Bicarbonate (HCO 3 ), Chloride (Cl), Sulphate (SO 4 ), and Fluoride (F)\n",
    "<br>\n",
    "<br>\n",
    "<br>\n",
    "Problem  - - <b>Vietnam Ground Water Quality Analysis <b>\n",
    "    \n",
    "    "
   ]
  },
  {
   "cell_type": "markdown",
   "metadata": {
    "id": "q_BX2UbhYqnT"
   },
   "source": [
    "Image Source -   http://cgwb.gov.in/Regions/SER/Reports/GROUND%20WATER%20YEAR%20BOOK%202019_2020.pdf"
   ]
  },
  {
   "cell_type": "markdown",
   "metadata": {
    "id": "qSfyjsOMYqnU"
   },
   "source": [
    "### 1.2 Sources / Useful Links"
   ]
  },
  {
   "cell_type": "markdown",
   "metadata": {
    "id": "t_vyQKQtYqnU"
   },
   "source": [
    "**To be updated**\n",
    "\n",
    "To monitor the effect caused by indiscriminate use of this precious resource on groundwater regime, Central Ground\n",
    "Water Board, South Eastern Region, Bhubaneswar has established about 1600 National Hydrograph Network\n",
    "Stations (NHNS) (open / dug wells) and piezometres in the state of Odisha. The water levels are being monitored\n",
    "four times a year. Besides, to study the change in chemical quality of groundwater in time and space, the water\n",
    "samples from these NHNS are being collected once a year (Pre-monsoon) and analysed in the Water Quality\n",
    "Laboratory of the Region.\n",
    "<br>\n",
    "<br>\n",
    "\n",
    "Central Ground Water Year book - \n",
    "<br>\n",
    "<br>\n",
    "The data got extracted from the Report of <br>\n",
    "Govt. of India <br>\n",
    "Ministry of Jal Shakti <br>\n",
    "Department of Water Resources, <br>\n",
    "River Development & Ganga Rejuvenation <br>\n",
    "CENTRAL GROUND WATER BOARD (2019-2020)"
   ]
  },
  {
   "cell_type": "markdown",
   "metadata": {
    "id": "ncBGBhGfYqnV"
   },
   "source": [
    "### 1.3 Real World Bussiness Objective "
   ]
  },
  {
   "cell_type": "markdown",
   "metadata": {
    "id": "AYecUt9MYqnW"
   },
   "source": [
    "1.Binary Classification <br>\n",
    "2.Multi class Classification <br>\n"
   ]
  },
  {
   "cell_type": "markdown",
   "metadata": {
    "id": "FiSh_yhhYqnW"
   },
   "source": [
    "# 2.MACHINE LEARNING PROBLEM"
   ]
  },
  {
   "cell_type": "markdown",
   "metadata": {
    "id": "HchfQuTaYqnW"
   },
   "source": [
    "## 2.1 Data "
   ]
  },
  {
   "cell_type": "markdown",
   "metadata": {
    "id": "Y_wE94tsYqnX"
   },
   "source": [
    "### 2.1.1 Data Overview "
   ]
  },
  {
   "cell_type": "markdown",
   "metadata": {
    "id": "TA_MQW7fYqnX"
   },
   "source": [
    "**To be updated**\n",
    "\n",
    "<li>PH(potential of hydrogen)</li> pH is a scale used to specify the acidity or basicity of an aqueous solution.\n",
    "\n",
    "<li>Electrical Conductivity (EC)</li>Measurement of the dissolved material in an aqueous solution, which relates to the ability of the material to conduct electrical current through it.\n",
    "\n",
    "<li>Total Dissolved Solids (TDS)</li>used to describe the inorganic salts and small amounts of organic matter present in solution in water.\n",
    "\n",
    "<li>Total Hardness (TH)</li>measurement of calcium and magnesium, and is expressed as calcium carbonate; our body needs both Ca and Mg to remain healthy.\n",
    "\n",
    "<li>Alkalinity</li>Alkalinity is the strength of a buffer solution composed of weak acids and their conjugate bases. \n",
    "\n",
    "<li>Calcium (Ca)</li>\n",
    "<li>Magnesium (Mg)</li>\n",
    "<li>Sodium (Na)</li>\n",
    "<li>Potassium (K)</li>\n",
    "<li>Carbonate (CO 3 )</li>\n",
    "<li>Bicarbonate (HCO 3 )</li>\n",
    "<li>Chloride (Cl)</li>\n",
    "<li>Sulphate (SO 4)</li>\n",
    "<li>Fluoride (F)</li>"
   ]
  },
  {
   "cell_type": "markdown",
   "metadata": {
    "id": "T1sUqw3tYqnX"
   },
   "source": [
    "### 2.1.2   STANDARDS"
   ]
  },
  {
   "cell_type": "raw",
   "metadata": {
    "id": "5tF1UzUhYqnY"
   },
   "source": [
    "Parameters and Permisible Limits\n",
    "\n",
    "1 . PH level            6.5-8.5\n",
    "2 . Conductivity(EC)    1000\n",
    "3 . TDS                 500    \n",
    "4 . Total Hardness      300 \n",
    "5 . Alkalinity          200\n",
    "6 . Calcium             75\n",
    "7 . Magnesium           30\n",
    "8 . Sodium              200\n",
    "9 . Potassium           12\n",
    "10 .Bicarbonate         350 \n",
    "11 .Chloride            250\n",
    "12 .Sulphate            200\n",
    "13 .Fluoride            1.5\n",
    "\n",
    "(1 ppm = approximately 1 mg/L)"
   ]
  },
  {
   "cell_type": "markdown",
   "metadata": {
    "id": "2HB0Fj12YqnY"
   },
   "source": [
    "## 2.2 Mapping the real-world problem to an ML problem "
   ]
  },
  {
   "cell_type": "markdown",
   "metadata": {
    "id": "xLGyx8fiYqnY"
   },
   "source": [
    "### 2.2.1 Type of Machine Leaning Problem "
   ]
  },
  {
   "cell_type": "markdown",
   "metadata": {
    "id": "n87zt9C0YqnY"
   },
   "source": [
    "1. It can be a binary class problem where we can check whether all the parameters within permissible limit.\n",
    "2. It can be multiclass classification problem where we calculate the WQI which is a standard way determining        quality of water."
   ]
  },
  {
   "cell_type": "markdown",
   "metadata": {
    "id": "N3XjKi31YqnZ"
   },
   "source": [
    "# 3.EXPLORATORY DATA ANALYSIS "
   ]
  },
  {
   "cell_type": "code",
   "execution_count": null,
   "metadata": {
    "id": "ZI-7C9Cos6tD"
   },
   "outputs": [],
   "source": [
    "#library\n",
    "import pandas as pd\n",
    "import numpy as np\n",
    "import random as rnd\n",
    "import os\n",
    "import re\n",
    "import time\n",
    "import seaborn as sns\n",
    "import matplotlib.pyplot as plt\n",
    "%matplotlib inline\n",
    "\n",
    "from sklearn import svm, tree, linear_model, neighbors, naive_bayes, ensemble, discriminant_analysis, gaussian_process\n",
    "from xgboost import XGBClassifier\n",
    "\n",
    "#Common Model Helpers\n",
    "from sklearn.preprocessing import OneHotEncoder, LabelEncoder\n",
    "from sklearn import feature_selection\n",
    "from sklearn import model_selection\n",
    "from sklearn import metrics\n",
    "\n",
    "#Visualization\n",
    "import matplotlib as mpl\n",
    "import matplotlib.pyplot as plt\n",
    "import matplotlib.pylab as pylab\n",
    "import seaborn as sns\n",
    "from pandas.plotting import scatter_matrix\n",
    "\n",
    "# Importing Models\n",
    "from sklearn import svm, tree, linear_model, neighbors, naive_bayes, ensemble, discriminant_analysis, gaussian_process\n",
    "from sklearn.linear_model import LogisticRegression\n",
    "from sklearn.tree import DecisionTreeClassifier\n",
    "from sklearn.discriminant_analysis import LinearDiscriminantAnalysis\n",
    "from sklearn.ensemble import AdaBoostClassifier, RandomForestClassifier, GradientBoostingClassifier\n",
    "from sklearn.neighbors import KNeighborsClassifier\n",
    "from sklearn.svm import SVC, LinearSVC\n",
    "from xgboost import XGBClassifier\n",
    "from lightgbm import LGBMClassifier\n",
    "\n",
    "# Importing other tools\n",
    "from sklearn import model_selection\n",
    "from sklearn.metrics import confusion_matrix, classification_report, make_scorer\n",
    "from sklearn.metrics import accuracy_score, recall_score, precision_recall_curve\n",
    "from sklearn.model_selection import StratifiedKFold, cross_validate\n",
    "from sklearn.preprocessing import StandardScaler\n",
    "from sklearn.pipeline import Pipeline\n",
    "from sklearn.calibration import CalibratedClassifierCV\n",
    "\n",
    "import warnings\n",
    "warnings.filterwarnings('ignore')"
   ]
  },
  {
   "cell_type": "code",
   "execution_count": null,
   "metadata": {
    "id": "bE5q_aSL0DUb"
   },
   "outputs": [],
   "source": [
    "#This is for pandas profiling\n",
    "#!pip install https://github.com/pandas-profiling/pandas-profiling/archive/master.zip"
   ]
  },
  {
   "cell_type": "code",
   "execution_count": null,
   "metadata": {
    "colab": {
     "base_uri": "https://localhost:8080/",
     "height": 36
    },
    "id": "aoXyGok1gzPF",
    "outputId": "7976dd4d-d4dd-48cd-9c7f-063e4ca0f179"
   },
   "outputs": [],
   "source": [
    "pwd"
   ]
  },
  {
   "cell_type": "markdown",
   "metadata": {
    "id": "OyzcJwjAYqnZ"
   },
   "source": [
    "### 3.1 Importing the Data "
   ]
  },
  {
   "cell_type": "code",
   "execution_count": null,
   "metadata": {
    "id": "XC8KzEO3nug3"
   },
   "outputs": [],
   "source": [
    "df= pd.read_excel('./daluong.xlsx')"
   ]
  },
  {
   "cell_type": "code",
   "execution_count": null,
   "metadata": {
    "colab": {
     "base_uri": "https://localhost:8080/"
    },
    "id": "fy58FyjAoWBW",
    "outputId": "4dfd2c28-4496-4bc8-8d5a-cf58d33f2964"
   },
   "outputs": [],
   "source": [
    "df.shape"
   ]
  },
  {
   "cell_type": "code",
   "execution_count": null,
   "metadata": {
    "colab": {
     "base_uri": "https://localhost:8080/",
     "height": 557
    },
    "id": "Up2oFMxBoi4v",
    "outputId": "a5ac56e7-c40c-4c62-f199-61543a6fea32"
   },
   "outputs": [],
   "source": [
    "df"
   ]
  },
  {
   "cell_type": "code",
   "execution_count": null,
   "metadata": {
    "colab": {
     "base_uri": "https://localhost:8080/"
    },
    "id": "G0EVznLLonn4",
    "outputId": "d3ea2667-cb49-4469-82b7-92048e8fa53c"
   },
   "outputs": [],
   "source": [
    "df.info()"
   ]
  },
  {
   "cell_type": "markdown",
   "metadata": {
    "id": "6j8dR7XPm9Uj"
   },
   "source": [
    "There are 8 categorical variables that are of object type. These are\n",
    "- well_code\n",
    "- date_sampling\n",
    "- quarter\n",
    "- type_analyzing\n",
    "- date_analyzing\n",
    "- color\n",
    "- smell\n",
    "- taste\n",
    "Rest of the variables are of numerical type. Total count of numerical variables is 32\n"
   ]
  },
  {
   "cell_type": "code",
   "execution_count": null,
   "metadata": {
    "colab": {
     "base_uri": "https://localhost:8080/"
    },
    "id": "EBMzeLdIpNoE",
    "outputId": "6515cb24-1798-41f0-859a-cab4a73f3f04"
   },
   "outputs": [],
   "source": [
    "print('No of Unique Wells where water samples are collected:', len(df.well_code.unique()))"
   ]
  },
  {
   "cell_type": "code",
   "execution_count": null,
   "metadata": {
    "colab": {
     "base_uri": "https://localhost:8080/",
     "height": 393
    },
    "id": "jhwiAu-6Yqna",
    "outputId": "93ba279e-3a71-4b41-a4fa-2ce9ba87c5a7"
   },
   "outputs": [],
   "source": [
    "df.describe() #Statstical analysis is performed on 32 columns of numerical data type"
   ]
  },
  {
   "cell_type": "code",
   "execution_count": null,
   "metadata": {
    "colab": {
     "base_uri": "https://localhost:8080/"
    },
    "id": "W4p_KZJNiGEd",
    "outputId": "3e05f30c-f74a-460c-e95c-44e1735e12af"
   },
   "outputs": [],
   "source": [
    "df['co3'].describe()"
   ]
  },
  {
   "cell_type": "markdown",
   "metadata": {
    "id": "MR4uXDfhYqnb"
   },
   "source": [
    "<b>\n",
    "OBSERVATIONS : \n",
    "\n",
    "1. The columns like date_sampling, quarter, type_analyzing, date_analyzing, number_analyzing, laboratory do not provide any meaningful information and they can be dropped.  \n",
    "2. In al3 column 75% of = 0.00 and max value being 0.050; so the column can be dropped\n",
    "3. In co2_infiltrate, 25% of the data = 0.00\n",
    "4. There are no values in po4 column (contaminated sample); so this column can be dropped.\n",
    "5. There are no values in eh column (contaminated sample); so this column can be dropped.\n",
    "6. The column nh4 has ~43% missing values; so this can be dropped.\n",
    "7. No data is found in the columns like oxygen, lienhe, conductivity and oxygen_dissolve; so they can be dropped. \n",
    "8. There are no values in tds180 column (TDS - Total disolved solids); so this column can be dropped.\n",
    "\n",
    "**Please note that chemical parameters like NO4+, NO2, NO3, PO4, COD, Eh(mV) are found in contaminated samples during rainly season**.\n",
    "\n",
    "Chemical Oxidation Demand (COD) is a test that measures the amount of oxygen required to chemically oxidize the organic material present in water. It measures the organic compounds in applications such as lakes, rivers or wastewater which have been contaminated by domestic or industrial waste.\n",
    "\n",
    "(Percentiles are used in statistics to give you a number that describes the value that a given percent of the values are lower than.)\n",
    "\n",
    "<b>    "
   ]
  },
  {
   "cell_type": "code",
   "execution_count": null,
   "metadata": {
    "colab": {
     "base_uri": "https://localhost:8080/"
    },
    "id": "8HH98t00sxXp",
    "outputId": "fd32926e-74c6-43c4-efb7-8cf2c4f071c3"
   },
   "outputs": [],
   "source": [
    "df.isnull().sum()"
   ]
  },
  {
   "cell_type": "markdown",
   "metadata": {
    "id": "zjeLA0goE5e5"
   },
   "source": [
    "There are missing values in the follwoing column attributes: \n",
    "\n",
    "fe2, fe3, no2, no3, co2_infiltrate and sio2\n",
    "\n",
    "We will be filling the missing values (NaN) with their respective mean values corresponding to the column."
   ]
  },
  {
   "cell_type": "code",
   "execution_count": null,
   "metadata": {
    "id": "4Xz6ovGNIs1i"
   },
   "outputs": [],
   "source": [
    "#Finding mean values for the columns having NaN values\n",
    "fe2_mean_value = df['fe2'].mean()\n",
    "fe3_mean_value = df['fe3'].mean()\n",
    "no2_mean_value = df['no2'].mean()\n",
    "no3_mean_value = df['no3'].mean()\n",
    "co2_infiltrate_mean_value = df['co2_infiltrate'].mean()\n",
    "sio2_mean_value = df['sio2'].mean()"
   ]
  },
  {
   "cell_type": "code",
   "execution_count": null,
   "metadata": {
    "id": "0s1FoLlPJ2mv"
   },
   "outputs": [],
   "source": [
    "#Replace NaNs in column S2 with the mean of values in the same column\n",
    "df['fe2'].fillna(value = fe2_mean_value, inplace = True)\n",
    "df['fe3'].fillna(value = fe3_mean_value, inplace = True)\n",
    "df['no2'].fillna(value = no2_mean_value, inplace = True)\n",
    "df['no3'].fillna(value = no3_mean_value, inplace = True)\n",
    "df['co2_infiltrate'].fillna(value = co2_infiltrate_mean_value, inplace = True)\n",
    "df['sio2'].fillna(value = sio2_mean_value, inplace = True)"
   ]
  },
  {
   "cell_type": "code",
   "execution_count": null,
   "metadata": {
    "colab": {
     "base_uri": "https://localhost:8080/"
    },
    "id": "ergHx-eFMwHj",
    "outputId": "412cf3f4-4805-4f0a-b298-5a7f0accc8b8"
   },
   "outputs": [],
   "source": [
    "df.info()"
   ]
  },
  {
   "cell_type": "code",
   "execution_count": null,
   "metadata": {
    "colab": {
     "base_uri": "https://localhost:8080/",
     "height": 53
    },
    "id": "o2ACTOyRQcMM",
    "outputId": "15d90b36-ebe3-47ac-9e0a-e84a2a83a58b"
   },
   "outputs": [],
   "source": [
    "#Drop rows with specific count of NaN values\n",
    "#This is a use case for the thresh=... argument. Specify the minimum number of NON-NULL values as an integer. eg., \n",
    "#df.dropna(thresh = 3)\n",
    "'''\n",
    "required_min_null_values_to_drop = 31 # drop rows with at least 2 NaN\n",
    "df.dropna(thresh=df.shape[1] - required_min_null_values_to_drop + 1, axis = 0)\n",
    "'''"
   ]
  },
  {
   "cell_type": "code",
   "execution_count": null,
   "metadata": {
    "colab": {
     "base_uri": "https://localhost:8080/",
     "height": 36
    },
    "id": "WDYIYgFPar6D",
    "outputId": "72af72c8-f552-4c34-b5d1-5034a1cc5529"
   },
   "outputs": [],
   "source": [
    "#This can be tried out after dropping of all unwanted columns from the dataframe\n",
    "# Drop all rows with NaNs in A OR B\n",
    "'''\n",
    "df.dropna(subset=['A', 'B'])\n",
    "'''"
   ]
  },
  {
   "cell_type": "code",
   "execution_count": null,
   "metadata": {
    "colab": {
     "base_uri": "https://localhost:8080/"
    },
    "id": "EPpeUuT1UfXk",
    "outputId": "8a2fb606-eea3-4a31-ac48-b3d330965dca"
   },
   "outputs": [],
   "source": [
    "df.shape"
   ]
  },
  {
   "cell_type": "code",
   "execution_count": null,
   "metadata": {
    "id": "XQeBdjsM8c7Z"
   },
   "outputs": [],
   "source": [
    "df.drop(['date_sampling','quarter', 'type_analyzing', 'date_analyzing', 'laboratory', 'number_analyzing'], axis = 1, inplace=True)"
   ]
  },
  {
   "cell_type": "code",
   "execution_count": null,
   "metadata": {
    "colab": {
     "base_uri": "https://localhost:8080/"
    },
    "id": "TQbuWK_ni2yx",
    "outputId": "11883105-ffef-4cf0-df9e-791aeac7796f"
   },
   "outputs": [],
   "source": [
    "df.shape"
   ]
  },
  {
   "cell_type": "code",
   "execution_count": null,
   "metadata": {
    "id": "cDeT91MgfRck"
   },
   "outputs": [],
   "source": [
    "df.drop(['al3', 'nh4', 'po4', 'eh' ], axis = 1, inplace = True)"
   ]
  },
  {
   "cell_type": "code",
   "execution_count": null,
   "metadata": {
    "id": "XMA4KhFGhQ0j"
   },
   "outputs": [],
   "source": [
    "df.drop(['oxygen', 'lienhe', 'conductivity', 'oxygen_dissolve'], axis = 1, inplace=True)"
   ]
  },
  {
   "cell_type": "code",
   "execution_count": null,
   "metadata": {
    "id": "ekofRx56iZpy"
   },
   "outputs": [],
   "source": [
    "df.drop(['tds180'], axis = 1, inplace = True)"
   ]
  },
  {
   "cell_type": "code",
   "execution_count": null,
   "metadata": {
    "id": "khrezbyohWCV"
   },
   "outputs": [],
   "source": [
    "df.drop(['color', 'smell', 'tatse'], axis = 1, inplace=True)"
   ]
  },
  {
   "cell_type": "code",
   "execution_count": null,
   "metadata": {
    "colab": {
     "base_uri": "https://localhost:8080/"
    },
    "id": "CNIFJ2-DioZh",
    "outputId": "d21435de-b3f9-405b-f458-0bcc3719db07"
   },
   "outputs": [],
   "source": [
    "df.shape"
   ]
  },
  {
   "cell_type": "code",
   "execution_count": null,
   "metadata": {
    "colab": {
     "base_uri": "https://localhost:8080/"
    },
    "id": "NGDgeMUuiuwa",
    "outputId": "fc5ff11c-300c-4c89-fdaa-fc3013fdfaa1"
   },
   "outputs": [],
   "source": [
    "df.info()"
   ]
  },
  {
   "cell_type": "code",
   "execution_count": null,
   "metadata": {
    "colab": {
     "base_uri": "https://localhost:8080/"
    },
    "id": "j8B15joLhErR",
    "outputId": "95dcda1e-b961-4053-acef-4102ce7c2f56"
   },
   "outputs": [],
   "source": [
    "df.columns"
   ]
  },
  {
   "cell_type": "code",
   "execution_count": null,
   "metadata": {
    "id": "qNl3zOA5h37q"
   },
   "outputs": [],
   "source": [
    "columns = ['well_code', 'na', 'k', 'ca2', 'mg2', 'fe3', 'fe2', 'cl', 'so4', 'hco3',\n",
    "       'co3', 'no2', 'hardness_general', 'no3', 'hardness_temporal',\n",
    "       'hardness_permanent', 'ph', 'co2_free', 'co2_depend', 'co2_infiltrate',\n",
    "       'sio2', 'tds105']"
   ]
  },
  {
   "cell_type": "code",
   "execution_count": null,
   "metadata": {
    "id": "y9ouuDsNh876"
   },
   "outputs": [],
   "source": [
    "df.dropna(subset=columns, inplace=True) #Dropping the rows with NaN values in all columns"
   ]
  },
  {
   "cell_type": "code",
   "execution_count": null,
   "metadata": {
    "colab": {
     "base_uri": "https://localhost:8080/",
     "height": 487
    },
    "id": "Y6KH0Y4nZIAS",
    "outputId": "27039ebe-635f-4910-9134-acf79cc93524"
   },
   "outputs": [],
   "source": [
    "df.reset_index()"
   ]
  },
  {
   "cell_type": "code",
   "execution_count": null,
   "metadata": {
    "colab": {
     "base_uri": "https://localhost:8080/"
    },
    "id": "29GY8T0JibhA",
    "outputId": "5b9c7680-c437-47e5-daea-f8b734a5bc33"
   },
   "outputs": [],
   "source": [
    "df.info()"
   ]
  },
  {
   "cell_type": "markdown",
   "metadata": {
    "id": "BXtXl2V6VXMh"
   },
   "source": [
    "*Notes*:\n",
    "\n",
    "1. Bicarbonate is also known as HCO3. It's a byproduct of your body's metabolism. Your blood brings bicarbonate to your lungs, and then it is exhaled as carbon dioxide. Your kidneys also help regulate bicarbonate.\n",
    "\n",
    "2. *Groundwater CO 2* is not uniformly distributed in groundwater, being most variable near the water table, lowest at intermediate depth, and highest in deep aquifers where non-potable water is typical. Determination of dissolved CO 2 depends on accuracy of pH measurements: CO 2 released due to groundwater use may be underestimated if reported pH measurements do not represent in situ pH.\n",
    "\n",
    "Ref: CO 2 distribution in groundwater and the impact of groundwater extraction on the global C cycle. June 2009Chemical Geology 264(1):328-336\n",
    "DOI:10.1016/j.chemgeo.2009.03.018 by Gwendolyn Macpherson\n",
    "University of Kansas\n",
    "\n",
    "No limited specified by WHO (also it is not mentioned in criteria excel) for the following 6 chemical parameters:\n",
    "\n",
    "- co2 free\n",
    "- co2 depend\n",
    "- co2 infiltrate\n",
    "- sio2\n",
    "- harness_temporal\n",
    "- hardness_permanent\n",
    "\n",
    "Ref: https://en.wikipedia.org/wiki/Drinking_water_quality_standards\n",
    "\n",
    "For the above, we will be considering all values of the mentioned parameters as acceptable.\n",
    "\n"
   ]
  },
  {
   "cell_type": "code",
   "execution_count": null,
   "metadata": {
    "colab": {
     "base_uri": "https://localhost:8080/",
     "height": 393
    },
    "id": "wfOy34b3fgSh",
    "outputId": "1b80f851-712a-47d7-d53d-5361825aa11e"
   },
   "outputs": [],
   "source": [
    "df.describe()"
   ]
  },
  {
   "cell_type": "markdown",
   "metadata": {
    "id": "2325rcNEosOk"
   },
   "source": [
    "**Notes**: What is meant by general hardness?\n",
    "\n",
    "General hardness is a measure of the concentration of divalent metal ions such as calcium (Ca2+) and magnesium (Mg2+) per volume of water. Specifically, 1 dGH is defined as 10 milligrams (mg) of calcium oxide (CaO) per litre of water.\n",
    "\n",
    "We will consider general hardness as Total hardness (in terms of CaCO3) *ignoring* *Temporal* and *Permanent hardness* here.\n"
   ]
  },
  {
   "cell_type": "code",
   "execution_count": null,
   "metadata": {
    "colab": {
     "base_uri": "https://localhost:8080/",
     "height": 36
    },
    "id": "x5yl0nzsN65G",
    "outputId": "ade5ac89-9e33-4fe9-8779-9e12f06c38ad"
   },
   "outputs": [],
   "source": [
    "'''\n",
    "df_des = df.describe()\n",
    "df_des.to_excel(\"statistical_distribution.xlsx\")\n",
    "'''"
   ]
  },
  {
   "cell_type": "code",
   "execution_count": null,
   "metadata": {
    "id": "mRvORbA0F06_"
   },
   "outputs": [],
   "source": [
    "#Let's take the copy of the Data Frame for mathematical operations\n",
    "df2 = df.copy(deep = True)    #df2 is the original data frame to be used further"
   ]
  },
  {
   "cell_type": "code",
   "execution_count": null,
   "metadata": {
    "colab": {
     "base_uri": "https://localhost:8080/"
    },
    "id": "9rTPDnYW4JXb",
    "outputId": "c9697202-f565-403e-ae8b-31bb3326a6c4"
   },
   "outputs": [],
   "source": [
    "len(df)\n",
    "df['ph']"
   ]
  },
  {
   "cell_type": "code",
   "execution_count": null,
   "metadata": {
    "id": "ST3O2PtScC-n"
   },
   "outputs": [],
   "source": [
    "#df['ph']>=5.5 & df['ph']>=8.5\n",
    "\n",
    "df['ph'] = df['ph'].apply(lambda x: 1 if (x >=5.5 and x<=8.5 ) else 0)\n"
   ]
  },
  {
   "cell_type": "code",
   "execution_count": null,
   "metadata": {
    "colab": {
     "base_uri": "https://localhost:8080/"
    },
    "id": "Hg0_iZdwq_39",
    "outputId": "f58f2b12-ec8e-4326-8cd5-741af5be6618"
   },
   "outputs": [],
   "source": [
    "(df['ph']==1).sum(), (df['ph']==0).sum()"
   ]
  },
  {
   "cell_type": "code",
   "execution_count": null,
   "metadata": {
    "id": "Wnat3_Q4wvab"
   },
   "outputs": [],
   "source": [
    "df['fe2'] = df['fe2'].apply(lambda x: 1 if x<=5 else 0)"
   ]
  },
  {
   "cell_type": "code",
   "execution_count": null,
   "metadata": {
    "colab": {
     "base_uri": "https://localhost:8080/"
    },
    "id": "lMYKiWaNwxcY",
    "outputId": "7a1b9bf2-1110-4d03-9075-7b2644b55097"
   },
   "outputs": [],
   "source": [
    "(df['fe2']==1).sum(), (df['fe2']==0).sum()"
   ]
  },
  {
   "cell_type": "code",
   "execution_count": null,
   "metadata": {
    "id": "8jTT-NFExLVq"
   },
   "outputs": [],
   "source": [
    "df['fe3'] = df['fe3'].apply(lambda x: 1 if x<=5 else 0)"
   ]
  },
  {
   "cell_type": "code",
   "execution_count": null,
   "metadata": {
    "colab": {
     "base_uri": "https://localhost:8080/"
    },
    "id": "y57lUE5vxQ7-",
    "outputId": "8fcde4a0-0c80-4040-b587-d0019cc50b7c"
   },
   "outputs": [],
   "source": [
    "(df['fe3']==1).sum(), (df['fe3']==0).sum()"
   ]
  },
  {
   "cell_type": "code",
   "execution_count": null,
   "metadata": {
    "id": "rEnoruKjSIWZ"
   },
   "outputs": [],
   "source": [
    "df['cl'] = df['cl'].apply(lambda x: 1 if x<=250 else 0)"
   ]
  },
  {
   "cell_type": "code",
   "execution_count": null,
   "metadata": {
    "colab": {
     "base_uri": "https://localhost:8080/"
    },
    "id": "fV1Ec3JHSK-3",
    "outputId": "1c9389f4-0bda-48c6-bc9f-42e509b90b36"
   },
   "outputs": [],
   "source": [
    "(df['cl']==1).sum(), (df['cl']==0).sum()"
   ]
  },
  {
   "cell_type": "code",
   "execution_count": null,
   "metadata": {
    "id": "5XlnREOATFeZ"
   },
   "outputs": [],
   "source": [
    "df['so4'] = df['so4'].apply(lambda x: 1 if x<=400 else 0)"
   ]
  },
  {
   "cell_type": "code",
   "execution_count": null,
   "metadata": {
    "colab": {
     "base_uri": "https://localhost:8080/"
    },
    "id": "cTsbu3yLTH0v",
    "outputId": "247b284a-ba77-4aaf-e9c0-f4f4090e3730"
   },
   "outputs": [],
   "source": [
    "(df['so4']==1).sum(), (df['so4']==0).sum()"
   ]
  },
  {
   "cell_type": "code",
   "execution_count": null,
   "metadata": {
    "id": "fZTm9cyA0w11"
   },
   "outputs": [],
   "source": [
    "df['tds105'] = df['tds105'].apply(lambda x: 1 if x<=400 else 0)   #Total Dissolved Solids (TDS)"
   ]
  },
  {
   "cell_type": "code",
   "execution_count": null,
   "metadata": {
    "colab": {
     "base_uri": "https://localhost:8080/"
    },
    "id": "JNVGu_hu00d5",
    "outputId": "f6bff44f-5974-4d0e-b97c-64de51461a23"
   },
   "outputs": [],
   "source": [
    "(df['tds105']==1).sum(), (df['tds105']==0).sum()"
   ]
  },
  {
   "cell_type": "code",
   "execution_count": null,
   "metadata": {
    "id": "qZMl1-GOZome"
   },
   "outputs": [],
   "source": [
    "df['hardness_general'] = df['hardness_general'].apply(lambda x: 1 if x<=500 else 0)  #hardness_general is same as Total Hardness (TH)"
   ]
  },
  {
   "cell_type": "code",
   "execution_count": null,
   "metadata": {
    "colab": {
     "base_uri": "https://localhost:8080/"
    },
    "id": "s-vbU8iXZtAG",
    "outputId": "ccdae8c0-f3fa-45e2-b2a6-15d01fe8070e"
   },
   "outputs": [],
   "source": [
    "(df['hardness_general']==1).sum(), (df['hardness_general']==0).sum()"
   ]
  },
  {
   "cell_type": "code",
   "execution_count": null,
   "metadata": {
    "id": "awea-TGNX_Uc"
   },
   "outputs": [],
   "source": [
    "df['no2'] = df['no2'].apply(lambda x: 1 if x<=1 else 0)"
   ]
  },
  {
   "cell_type": "code",
   "execution_count": null,
   "metadata": {
    "colab": {
     "base_uri": "https://localhost:8080/"
    },
    "id": "06HCy27FYCqH",
    "outputId": "a341f04e-19c7-4eee-f6e1-9e85665de0f8"
   },
   "outputs": [],
   "source": [
    "(df['no2']==1).sum(), (df['no2']==0).sum()"
   ]
  },
  {
   "cell_type": "code",
   "execution_count": null,
   "metadata": {
    "id": "_NsoTpPiY9Op"
   },
   "outputs": [],
   "source": [
    "df['no3'] = df['no3'].apply(lambda x: 1 if x<=15 else 0)"
   ]
  },
  {
   "cell_type": "code",
   "execution_count": null,
   "metadata": {
    "colab": {
     "base_uri": "https://localhost:8080/"
    },
    "id": "IvUrR49wY_YZ",
    "outputId": "4bdd4782-c3ab-4d64-add0-d871eff3637d"
   },
   "outputs": [],
   "source": [
    "(df['no3']==1).sum(), (df['no3']==0).sum()"
   ]
  },
  {
   "cell_type": "code",
   "execution_count": null,
   "metadata": {
    "id": "RMD0qYosueLb"
   },
   "outputs": [],
   "source": [
    "df['ca2'] = df['ca2'].apply(lambda x: 1 if x<=75 else 0)"
   ]
  },
  {
   "cell_type": "code",
   "execution_count": null,
   "metadata": {
    "colab": {
     "base_uri": "https://localhost:8080/"
    },
    "id": "8Z0-YJZ1ufFb",
    "outputId": "5acf2599-c57c-4ce9-b9ab-26f2051ae29e"
   },
   "outputs": [],
   "source": [
    "(df['ca2']==1).sum(), (df['ca2']==0).sum()"
   ]
  },
  {
   "cell_type": "code",
   "execution_count": null,
   "metadata": {
    "id": "FgTkDi8tu7u7"
   },
   "outputs": [],
   "source": [
    "df['mg2'] = df['mg2'].apply(lambda x: 1 if x<=50 else 0)"
   ]
  },
  {
   "cell_type": "code",
   "execution_count": null,
   "metadata": {
    "colab": {
     "base_uri": "https://localhost:8080/"
    },
    "id": "1g-oKlP3u9AW",
    "outputId": "d56d84cb-3259-4d3e-965b-2ca6cd740ea0"
   },
   "outputs": [],
   "source": [
    "(df['mg2']==1).sum(), (df['mg2']==0).sum()"
   ]
  },
  {
   "cell_type": "code",
   "execution_count": null,
   "metadata": {
    "id": "_QX7TxMVosjZ"
   },
   "outputs": [],
   "source": [
    "df['na'] = df['na'].apply(lambda x: 1 if x<=200 else 0)"
   ]
  },
  {
   "cell_type": "code",
   "execution_count": null,
   "metadata": {
    "colab": {
     "base_uri": "https://localhost:8080/"
    },
    "id": "9KLXblCKpcaH",
    "outputId": "8d7d197a-8a7d-4cef-9205-534b29bb7968"
   },
   "outputs": [],
   "source": [
    "(df['na']==1).sum(), (df['na']==0).sum()"
   ]
  },
  {
   "cell_type": "code",
   "execution_count": null,
   "metadata": {
    "id": "Y7M69mYTtYYh"
   },
   "outputs": [],
   "source": [
    "df['k'] = df['k'].apply(lambda x: 1 if x<=12 else 0)"
   ]
  },
  {
   "cell_type": "code",
   "execution_count": null,
   "metadata": {
    "colab": {
     "base_uri": "https://localhost:8080/"
    },
    "id": "3hKodaAutfWh",
    "outputId": "01dbdc9b-5bb2-4056-b57e-ab72f6949445"
   },
   "outputs": [],
   "source": [
    "(df['k']==1).sum(), (df['k']==0).sum()"
   ]
  },
  {
   "cell_type": "code",
   "execution_count": null,
   "metadata": {
    "id": "Z6_AdmNDVt1I"
   },
   "outputs": [],
   "source": [
    "df['hco3'] = df['hco3'].apply(lambda x: 1 if x<=350 else 0)"
   ]
  },
  {
   "cell_type": "code",
   "execution_count": null,
   "metadata": {
    "colab": {
     "base_uri": "https://localhost:8080/"
    },
    "id": "fF-Aer6xV9qD",
    "outputId": "2654fd73-5160-4d6d-bb1c-b432164d2594"
   },
   "outputs": [],
   "source": [
    "(df['hco3']==1).sum(), (df['hco3']==0).sum()"
   ]
  },
  {
   "cell_type": "markdown",
   "metadata": {
    "id": "nloVVdhdXRJS"
   },
   "source": [
    "*Notes*:\n",
    "\n",
    "Carbonate (CO3) and bicarbonate (HCO3) are virtually the same thing excepting for an important factor... their electrical charge. Carbonate has a -2 charge while bicarbonate has a -1 charge due to the extra hydrogen proton it contains"
   ]
  },
  {
   "cell_type": "code",
   "execution_count": null,
   "metadata": {
    "id": "Dqhpfxt7WoGL"
   },
   "outputs": [],
   "source": [
    "df['co3'] = df['co3'].apply(lambda x: 1 if x<=1 else 0)   #mean_value = 1"
   ]
  },
  {
   "cell_type": "code",
   "execution_count": null,
   "metadata": {
    "colab": {
     "base_uri": "https://localhost:8080/"
    },
    "id": "HcmtJkqMWqcW",
    "outputId": "5f4b308d-ab01-4f33-f0e9-449c3e83518b"
   },
   "outputs": [],
   "source": [
    "(df['co3']==1).sum(), (df['co3']==0).sum()"
   ]
  },
  {
   "cell_type": "code",
   "execution_count": null,
   "metadata": {
    "id": "mSB29VX7FNr_"
   },
   "outputs": [],
   "source": [
    "df['hardness_temporal'] = df['hardness_temporal'].apply(lambda x: 1)"
   ]
  },
  {
   "cell_type": "code",
   "execution_count": null,
   "metadata": {
    "colab": {
     "base_uri": "https://localhost:8080/"
    },
    "id": "Kh4Hy9H9FPl_",
    "outputId": "b31068be-f184-4917-f3f6-f4568b24e6a0"
   },
   "outputs": [],
   "source": [
    "(df['hardness_temporal']==1).sum(), (df['hardness_temporal']==0).sum()"
   ]
  },
  {
   "cell_type": "code",
   "execution_count": null,
   "metadata": {
    "id": "hKC1ENxGH0dJ"
   },
   "outputs": [],
   "source": [
    "df['hardness_permanent'] = df['hardness_permanent'].apply(lambda x: 1)"
   ]
  },
  {
   "cell_type": "code",
   "execution_count": null,
   "metadata": {
    "colab": {
     "base_uri": "https://localhost:8080/"
    },
    "id": "mqModEsrH2Sc",
    "outputId": "bb957a03-b1b2-48d6-a16a-e21bdf07545e"
   },
   "outputs": [],
   "source": [
    "(df['hardness_permanent']==1).sum(), (df['hardness_permanent']==0).sum()"
   ]
  },
  {
   "cell_type": "code",
   "execution_count": null,
   "metadata": {
    "id": "APr0klC9H-AW"
   },
   "outputs": [],
   "source": [
    "df['co2_free'] = df['co2_free'].apply(lambda x: 1)"
   ]
  },
  {
   "cell_type": "code",
   "execution_count": null,
   "metadata": {
    "colab": {
     "base_uri": "https://localhost:8080/"
    },
    "id": "uQkNG-9tJAWw",
    "outputId": "9c42fe73-8535-46f6-b396-648adcdece62"
   },
   "outputs": [],
   "source": [
    "(df['co2_free']==1).sum(), (df['co2_free']==0).sum()"
   ]
  },
  {
   "cell_type": "code",
   "execution_count": null,
   "metadata": {
    "id": "qTZk_0Q0IAoD"
   },
   "outputs": [],
   "source": [
    "df['co2_depend'] = df['co2_depend'].apply(lambda x: 1)"
   ]
  },
  {
   "cell_type": "code",
   "execution_count": null,
   "metadata": {
    "id": "RMgCYqH9JSS2"
   },
   "outputs": [],
   "source": [
    "df['co2_infiltrate'] = df['co2_infiltrate'].apply(lambda x: 1)"
   ]
  },
  {
   "cell_type": "code",
   "execution_count": null,
   "metadata": {
    "id": "bcEtAhrVJS-p"
   },
   "outputs": [],
   "source": [
    "df['sio2'] = df['sio2'].apply(lambda x: 1)"
   ]
  },
  {
   "cell_type": "code",
   "execution_count": null,
   "metadata": {
    "colab": {
     "base_uri": "https://localhost:8080/"
    },
    "id": "Rxx4AgohKQsf",
    "outputId": "6c30ca0c-e16a-474b-8a7d-2b6c3ee2f697"
   },
   "outputs": [],
   "source": [
    "df2.shape"
   ]
  },
  {
   "cell_type": "code",
   "execution_count": null,
   "metadata": {
    "id": "xlPmIVAGJzbF"
   },
   "outputs": [],
   "source": [
    "columns = ['well_code', 'na', 'k', 'ca2', 'mg2', 'fe3', 'fe2', 'cl', 'so4', 'hco3',\n",
    "       'co3', 'no2', 'hardness_general', 'no3', 'hardness_temporal',\n",
    "       'hardness_permanent', 'ph', 'co2_free', 'co2_depend', 'co2_infiltrate',\n",
    "       'sio2', 'tds105']"
   ]
  },
  {
   "cell_type": "code",
   "execution_count": null,
   "metadata": {
    "id": "cFVOqVOWO3wI"
   },
   "outputs": [],
   "source": [
    "df2['is_drinkable'] = df.apply(lambda x: 1 if \n",
    "                           #(df.na==df.k==df.ca2==df.mg2==df.fe3==df.fe2==df.cl==df.so4==df.hco3==df.co3==df.no2==df.no3==df.ph==df.sio2==df.tds105==df.hardness_general==df.hardness_permanent==df.hardness_temporal==co2_free==df.co2_depend==df.co2_infiltrate).item() \n",
    "                           ((x[\"na\"]==x[\"k\"]) and (x[\"k\"]==x[\"ca2\"]) and (x[\"ca2\"]==x[\"mg2\"]) and (x[\"mg2\"]==x[\"fe3\"]) and (x[\"fe3\"]==x[\"fe2\"]) and (x[\"fe2\"]==x[\"cl\"])\n",
    "                           and (x[\"cl\"]==x[\"so4\"]) and (x[\"so4\"]==x[\"hco3\"]) and (x[\"hco3\"]==x[\"co3\"]) and (x[\"co3\"]==x[\"no2\"]) and (x[\"no2\"]==x[\"no3\"] and (x[\"no3\"]==x[\"ph\"])\n",
    "                           and (x[\"ph\"]==x[\"sio2\"]) and (x[\"sio2\"]==x[\"tds105\"]) and (x[\"tds105\"]==x[\"hardness_general\"]) and (x[\"hardness_general\"]==x[\"hardness_permanent\"])\n",
    "                           and (x[\"hardness_permanent\"]==x[\"hardness_temporal\"]) and (x[\"hardness_temporal\"]==x[\"co2_free\"]) and (x[\"co2_free\"]==x[\"co2_depend\"])\n",
    "                           and (x[\"co2_depend\"]==x[\"co2_infiltrate\"]))\n",
    "                                                                                                                                     )                    \n",
    "                           else 0, axis =1)"
   ]
  },
  {
   "cell_type": "code",
   "execution_count": null,
   "metadata": {
    "colab": {
     "base_uri": "https://localhost:8080/"
    },
    "id": "iTv_Y4-wvpml",
    "outputId": "624b41a9-5faf-454a-fc7c-14e2467447e4"
   },
   "outputs": [],
   "source": [
    "(df2['is_drinkable']==1).sum(), (df2['is_drinkable']==0).sum()"
   ]
  },
  {
   "cell_type": "code",
   "execution_count": null,
   "metadata": {
    "colab": {
     "base_uri": "https://localhost:8080/"
    },
    "id": "yODgGitGKXOx",
    "outputId": "88e314d1-1319-4df2-8076-5d1b7d29c208"
   },
   "outputs": [],
   "source": [
    "df2.shape"
   ]
  },
  {
   "cell_type": "code",
   "execution_count": null,
   "metadata": {
    "colab": {
     "base_uri": "https://localhost:8080/",
     "height": 487
    },
    "id": "5IeLK_MyV2sv",
    "outputId": "e5fe1d21-e96a-48e0-ec39-b7cc076a5dcc"
   },
   "outputs": [],
   "source": [
    "df2"
   ]
  },
  {
   "cell_type": "code",
   "execution_count": null,
   "metadata": {
    "colab": {
     "base_uri": "https://localhost:8080/"
    },
    "id": "2m1zMS5gCrUt",
    "outputId": "e19b641d-8290-461d-dcb5-1def2ee0cc87"
   },
   "outputs": [],
   "source": [
    "df2['is_drinkable'].value_counts()"
   ]
  },
  {
   "cell_type": "code",
   "execution_count": null,
   "metadata": {
    "colab": {
     "base_uri": "https://localhost:8080/"
    },
    "id": "HoEJD_hJEAj8",
    "outputId": "423980ec-6ca4-4353-b7ad-6368cc8d8cb3"
   },
   "outputs": [],
   "source": [
    "df2.shape"
   ]
  },
  {
   "cell_type": "code",
   "execution_count": null,
   "metadata": {
    "colab": {
     "base_uri": "https://localhost:8080/"
    },
    "id": "XO8j2xxbEDK5",
    "outputId": "08ad7db4-389f-4faf-a6db-18f265ee6e65"
   },
   "outputs": [],
   "source": [
    "df2.info()"
   ]
  },
  {
   "cell_type": "code",
   "execution_count": null,
   "metadata": {
    "colab": {
     "base_uri": "https://localhost:8080/"
    },
    "id": "sDXLTpxLELLT",
    "outputId": "17f73347-c9b7-4de2-de88-9eca28f6b68d"
   },
   "outputs": [],
   "source": [
    "df2.columns"
   ]
  },
  {
   "cell_type": "code",
   "execution_count": null,
   "metadata": {
    "id": "iZVK113UMIkb"
   },
   "outputs": [],
   "source": [
    "#!pip install pandasql"
   ]
  },
  {
   "cell_type": "code",
   "execution_count": null,
   "metadata": {
    "colab": {
     "base_uri": "https://localhost:8080/",
     "height": 423
    },
    "id": "fVbdgNoHMI5x",
    "outputId": "a0aeeb00-425b-4017-8506-eb28973f78bc"
   },
   "outputs": [],
   "source": [
    "'''\n",
    "import pandasql\n",
    "sub_data = pandasql.sqldf(\"SELECT well_code,is_drinkable, COUNT(well_code) FROM df GROUP BY District,is_drinkable \", globals())\n",
    "sub_data\n",
    "'''\n",
    "df2[['well_code', 'is_drinkable']]"
   ]
  },
  {
   "cell_type": "code",
   "execution_count": null,
   "metadata": {
    "colab": {
     "base_uri": "https://localhost:8080/"
    },
    "id": "vq7dGBRfM80I",
    "outputId": "af2aa40a-2234-4772-95e5-03ad2915ac82"
   },
   "outputs": [],
   "source": [
    "df2.columns"
   ]
  },
  {
   "cell_type": "markdown",
   "metadata": {
    "id": "tTKhfYnlNgAB"
   },
   "source": [
    "# **Permissible Limits**\n",
    "\n",
    "na = 200\n",
    "\n",
    "k = 12\n",
    "\n",
    "ca2 = 75\n",
    "\n",
    "mg2 = 50\n",
    "\n",
    "fe3 = 5\n",
    "\n",
    "fe2 = 5\n",
    "\n",
    "cl = 250\n",
    "\n",
    "so4 = 400\n",
    "\n",
    "hco3 = 350\n",
    "\n",
    "co3 = 1 (mean_value)\n",
    "\n",
    "no2 = 1\n",
    "\n",
    "no3 = 15\n",
    "\n",
    "ph = 5.5 - 8.5\n",
    "\n",
    "tds105 = 400\n",
    "\n",
    "harness_general =   500     \n",
    "\n",
    "harness_temporal =  242 (mean_value)\n",
    "\n",
    "harness_permanent = 393 (mean_value)\n",
    "\n",
    "co2_free =  51 (mean_value)\n",
    "\n",
    "co2_depend = 127 (mean_value)\n",
    "\n",
    "co2_infiltrate = 16  (mean_value)\n",
    "\n",
    "sio2 = 5 (mean_value)\n"
   ]
  },
  {
   "cell_type": "code",
   "execution_count": null,
   "metadata": {
    "colab": {
     "base_uri": "https://localhost:8080/"
    },
    "id": "mqnqKaZzMJIB",
    "outputId": "2b5e198f-16ca-47c3-f6e5-dfa186ec2906"
   },
   "outputs": [],
   "source": [
    "#  standard value recommended for parameter\n",
    "si= 200+12+75+50+5+5+250+400+350+1+1+15+8.5+400+500+242+393+51+127+16+5\n",
    "print(si)\n",
    "k=1/si\n",
    "print(k)"
   ]
  },
  {
   "cell_type": "code",
   "execution_count": null,
   "metadata": {
    "colab": {
     "base_uri": "https://localhost:8080/"
    },
    "id": "59AoKOe9MJKk",
    "outputId": "42a98c27-89c3-4a81-cde6-722a2f1cbed5"
   },
   "outputs": [],
   "source": [
    "values=[200,12,75,50,5,5,250,400,350,1,1,15,8.5,400,500,242,393,51,127,16,5]\n",
    "wi=[]\n",
    "for i in values:\n",
    "  wi.append(k/i)\n",
    "wi"
   ]
  },
  {
   "cell_type": "code",
   "execution_count": null,
   "metadata": {
    "id": "8n1-LmCeMJW8"
   },
   "outputs": [],
   "source": [
    "ph_norm = []\n",
    "for i in df2['ph']:\n",
    "  ph_norm.append(100*((i-7.0)/(8.5-7.0)))\n",
    "#ph_norm"
   ]
  },
  {
   "cell_type": "code",
   "execution_count": null,
   "metadata": {
    "id": "P7LTsT8cMJaH"
   },
   "outputs": [],
   "source": [
    "fe2_norm = []\n",
    "for i in df2['fe2']:\n",
    "  fe2_norm.append(100*((i)/(5)))\n",
    "#ECn"
   ]
  },
  {
   "cell_type": "code",
   "execution_count": null,
   "metadata": {
    "id": "NexsSI1LnckR"
   },
   "outputs": [],
   "source": [
    "fe3_norm = []\n",
    "for i in df2['fe3']:\n",
    "  fe3_norm.append(100*((i)/(5)))\n",
    "#ECn"
   ]
  },
  {
   "cell_type": "code",
   "execution_count": null,
   "metadata": {
    "id": "FVedPaCwntuY"
   },
   "outputs": [],
   "source": [
    "so4_norm = []\n",
    "for i in df2['so4']:\n",
    "  so4_norm.append(100*((i)/(400)))\n",
    "#ECn"
   ]
  },
  {
   "cell_type": "code",
   "execution_count": null,
   "metadata": {
    "id": "tB4PiF1LbByN"
   },
   "outputs": [],
   "source": [
    "tds105_norm = []\n",
    "for i in df2['tds105']:\n",
    "  tds105_norm.append(100*((i)/(400)))\n",
    "#TDSn"
   ]
  },
  {
   "cell_type": "code",
   "execution_count": null,
   "metadata": {
    "id": "hQVsEUAWonwh"
   },
   "outputs": [],
   "source": [
    "hardness_general_norm = []\n",
    "for i in df2['hardness_general']:\n",
    "  hardness_general_norm.append(100*((i)/(500)))\n",
    "#TDSn"
   ]
  },
  {
   "cell_type": "code",
   "execution_count": null,
   "metadata": {
    "id": "vcfMkt_BpC1e"
   },
   "outputs": [],
   "source": [
    "no2_norm = []\n",
    "for i in df2['no2']:\n",
    "  no2_norm.append(100*((i)/(1)))"
   ]
  },
  {
   "cell_type": "code",
   "execution_count": null,
   "metadata": {
    "id": "mJU75MlnpbA2"
   },
   "outputs": [],
   "source": [
    "no3_norm = []\n",
    "for i in df2['no3']:\n",
    "  no3_norm.append(100*((i)/(15)))"
   ]
  },
  {
   "cell_type": "code",
   "execution_count": null,
   "metadata": {
    "id": "TNfB9GJnpvIP"
   },
   "outputs": [],
   "source": [
    "ca2_norm = []\n",
    "for i in df2['ca2']:\n",
    "  ca2_norm.append(100*((i)/(75)))"
   ]
  },
  {
   "cell_type": "code",
   "execution_count": null,
   "metadata": {
    "id": "XQsKyV9DqEQw"
   },
   "outputs": [],
   "source": [
    "mg2_norm = []\n",
    "for i in df2['mg2']:\n",
    "  mg2_norm.append(100*((i)/(50)))"
   ]
  },
  {
   "cell_type": "code",
   "execution_count": null,
   "metadata": {
    "id": "6bT4MLMhViFr"
   },
   "outputs": [],
   "source": [
    "co2_free_norm = []\n",
    "for i in df2['co2_free']:\n",
    "  co2_free_norm.append(100*((i)/(51)))"
   ]
  },
  {
   "cell_type": "code",
   "execution_count": null,
   "metadata": {
    "id": "Xou4rTWGViJ_"
   },
   "outputs": [],
   "source": [
    "co2_depend_norm = []\n",
    "for i in df2['co2_depend']:\n",
    "  co2_depend_norm.append(100*((i)/(127)))"
   ]
  },
  {
   "cell_type": "code",
   "execution_count": null,
   "metadata": {
    "id": "FQNrwwiFV29Q"
   },
   "outputs": [],
   "source": [
    "co2_infiltrate_norm = []\n",
    "for i in df2['co2_infiltrate']:\n",
    "  co2_infiltrate_norm.append(100*((i)/(16)))"
   ]
  },
  {
   "cell_type": "code",
   "execution_count": null,
   "metadata": {
    "id": "rfexgtrtV3cY"
   },
   "outputs": [],
   "source": [
    "sio2_norm = []\n",
    "for i in df2['sio2']:\n",
    "  sio2_norm.append(100*((i)/(42)))"
   ]
  },
  {
   "cell_type": "code",
   "execution_count": null,
   "metadata": {
    "id": "zC0jO9JJV3uy"
   },
   "outputs": [],
   "source": [
    "na_norm = []\n",
    "for i in df2['na']:\n",
    "  na_norm.append(100*((i)/(200)))\n",
    "#Sodiumn"
   ]
  },
  {
   "cell_type": "code",
   "execution_count": null,
   "metadata": {
    "id": "BwmV1iSZWQds"
   },
   "outputs": [],
   "source": [
    "k_norm = []\n",
    "for i in df2['k']:\n",
    "  k_norm.append(100*((i)/(12)))\n",
    "#Potassiumn"
   ]
  },
  {
   "cell_type": "code",
   "execution_count": null,
   "metadata": {
    "id": "li1EY_teWRow"
   },
   "outputs": [],
   "source": [
    "hco3_norm = []\n",
    "for i in df2['hco3']:\n",
    "  hco3_norm.append(100*((i)/(350)))\n",
    "#Bicarbonaten"
   ]
  },
  {
   "cell_type": "code",
   "execution_count": null,
   "metadata": {
    "id": "UFPscqGQqmtU"
   },
   "outputs": [],
   "source": [
    "co3_norm = []\n",
    "for i in df2['co3']:\n",
    "  co3_norm.append(100*((i)/(1)))\n",
    "#Bicarbonaten"
   ]
  },
  {
   "cell_type": "code",
   "execution_count": null,
   "metadata": {
    "id": "0NGJWslvW3Bh"
   },
   "outputs": [],
   "source": [
    "cl_norm = []\n",
    "for i in df2['cl']:\n",
    "  cl_norm.append(100*((i)/(250)))\n",
    "#Chloriden"
   ]
  },
  {
   "cell_type": "code",
   "execution_count": null,
   "metadata": {
    "id": "YiuKe0zxW-DV"
   },
   "outputs": [],
   "source": [
    "hardness_temporal_norm = []\n",
    "for i in df2['hardness_temporal']:\n",
    "  hardness_temporal_norm.append(100*((i)/(242)))\n",
    "#Chloriden"
   ]
  },
  {
   "cell_type": "code",
   "execution_count": null,
   "metadata": {
    "id": "a2hvlXI0W-UN"
   },
   "outputs": [],
   "source": [
    "hardness_permanent_norm = []\n",
    "for i in df2['hardness_permanent']:\n",
    "  hardness_permanent_norm.append(100*((i)/(393)))\n",
    "#Fluoriden"
   ]
  },
  {
   "cell_type": "code",
   "execution_count": null,
   "metadata": {
    "colab": {
     "base_uri": "https://localhost:8080/"
    },
    "id": "hRdnANk54Zgx",
    "outputId": "5b7fcc09-f831-4ee6-84f6-5e441b3a8b58"
   },
   "outputs": [],
   "source": [
    "len(df2)"
   ]
  },
  {
   "cell_type": "code",
   "execution_count": null,
   "metadata": {
    "id": "XgRrmMfSVg8j"
   },
   "outputs": [],
   "source": [
    "wqi = []\n",
    "for i in range(len(df2)):\n",
    "  wqi.append( ( (ph_norm[i]*wi[0]) + \n",
    "               (fe2_norm[i]*wi[1]) + \n",
    "               (fe3_norm[i]*wi[2]) + \n",
    "               (so4_norm[i]*wi[3]) + \n",
    "               (tds105_norm[i]*wi[4]) + \n",
    "               (hardness_general_norm[i]*wi[5]) + \n",
    "               (no2_norm[i]*wi[6]) + \n",
    "               (no3_norm[i]*wi[7]) + \n",
    "               (ca2_norm[i]*wi[8]) +\n",
    "               (mg2_norm[i]*wi[9]) +\n",
    "               (co2_free_norm[i]*wi[10]) +\n",
    "               (co2_depend_norm[i]*wi[11]) +\n",
    "               (co2_infiltrate_norm[i]*wi[12]) +\n",
    "               (sio2_norm[i]*wi[13]) +\n",
    "               (na_norm[i]*wi[14]) +\n",
    "               (k_norm[i]*wi[15]) +\n",
    "               (hco3_norm[i]*wi[16]) +\n",
    "               (co3_norm[i]*wi[17]) +\n",
    "               (cl_norm[i]*wi[18]) +\n",
    "               (hardness_temporal_norm[i]*wi[19]) +\n",
    "               (hardness_permanent_norm[i]*wi[20])\n",
    "               )  /  ( wi[0] + wi[1] + wi[2] + wi[3] + wi[4] + wi[5] + wi[6] + wi[7] + wi[8] + wi[9] + wi[10] + wi[11] + wi[12] + wi[13] + wi[14] + wi[15] + wi[16] + wi[17] + wi[18]+ wi[19] + wi[20]))\n",
    "  #             + (     + wi[9] + wi[10] + wi[11] + wi[12] + wi[13] + wi[14] + wi[15] + wi[16] + wi[17] + wi[18] + wi[19] + wi[20] ) )"
   ]
  },
  {
   "cell_type": "code",
   "execution_count": null,
   "metadata": {
    "colab": {
     "base_uri": "https://localhost:8080/"
    },
    "id": "oA905TnwiGee",
    "outputId": "a923966a-ef3f-4872-e799-f9893e40d2e9"
   },
   "outputs": [],
   "source": [
    "len(wqi)"
   ]
  },
  {
   "cell_type": "code",
   "execution_count": null,
   "metadata": {
    "id": "91tDWXswh833"
   },
   "outputs": [],
   "source": [
    "df2['wqi'] = wqi"
   ]
  },
  {
   "cell_type": "code",
   "execution_count": null,
   "metadata": {
    "colab": {
     "base_uri": "https://localhost:8080/"
    },
    "id": "Myo1zmp-Pg2c",
    "outputId": "52e4afb9-3736-4a06-98b9-de6455bf1ecd"
   },
   "outputs": [],
   "source": [
    "df2['wqi'].head()"
   ]
  },
  {
   "cell_type": "code",
   "execution_count": null,
   "metadata": {
    "colab": {
     "base_uri": "https://localhost:8080/"
    },
    "id": "OPaDD0G4T5N9",
    "outputId": "52fd999d-3531-414e-a0c9-14927a890c0c"
   },
   "outputs": [],
   "source": [
    "df2['wqi'].describe()"
   ]
  },
  {
   "cell_type": "code",
   "execution_count": null,
   "metadata": {
    "colab": {
     "base_uri": "https://localhost:8080/",
     "height": 1000
    },
    "id": "sOwOagxxu8Y_",
    "outputId": "cac18893-7eeb-4220-a367-f50caef49200"
   },
   "outputs": [],
   "source": [
    "plt.close()\n",
    "sns.set_style('darkgrid')\n",
    "sns.pairplot(df2, hue='is_drinkable', height=3)\n",
    "plt.show()"
   ]
  },
  {
   "cell_type": "markdown",
   "metadata": {
    "id": "nbxibs11yAHw"
   },
   "source": [
    "**We perform correlations between all features using seaborn library as shown above.**"
   ]
  },
  {
   "cell_type": "code",
   "execution_count": null,
   "metadata": {
    "colab": {
     "base_uri": "https://localhost:8080/"
    },
    "id": "alXX4GXYZZCR",
    "outputId": "b0f5e6fc-78fc-4f6a-a744-a5f9f709841a"
   },
   "outputs": [],
   "source": [
    "max_wqi = df2['wqi'].max()\n",
    "min_wqi = df2['wqi'].min()\n",
    "max_wqi, min_wqi"
   ]
  },
  {
   "cell_type": "code",
   "execution_count": null,
   "metadata": {
    "colab": {
     "base_uri": "https://localhost:8080/"
    },
    "id": "FSC1sYvqXHkn",
    "outputId": "789c86f5-aaf5-4cb0-c403-1540d4d1770f"
   },
   "outputs": [],
   "source": [
    "df2['wqi']"
   ]
  },
  {
   "cell_type": "code",
   "execution_count": null,
   "metadata": {
    "id": "RfcCOtAaWU-v"
   },
   "outputs": [],
   "source": [
    "import numpy as np\n",
    "\n",
    "#Scaling the wqi values between 0 and 100\n",
    "\n",
    "#df2['wqi'] = df2['wqi'].apply(lambda x: x*100/x.max() )\n",
    "#df2['wqi'] = df2['wqi'].apply(lambda x: (x - np.min(x)) / (np.max(x) - np.min(x)))\n",
    "df2['wqi'] = df2['wqi'].apply(lambda x: ((x - min_wqi) / (max_wqi - min_wqi))*100)\n"
   ]
  },
  {
   "cell_type": "code",
   "execution_count": null,
   "metadata": {
    "colab": {
     "base_uri": "https://localhost:8080/"
    },
    "id": "2PC5_5a4XAUR",
    "outputId": "ed0c06d3-c17d-4551-ccbe-6c27bbfa489b"
   },
   "outputs": [],
   "source": [
    "df2['wqi']"
   ]
  },
  {
   "cell_type": "code",
   "execution_count": null,
   "metadata": {
    "colab": {
     "base_uri": "https://localhost:8080/"
    },
    "id": "-vJ96QwuWKte",
    "outputId": "4eee6c58-cd57-4634-b5b3-1b2df5a6295a"
   },
   "outputs": [],
   "source": [
    "df2['wqi'].isnull().sum()"
   ]
  },
  {
   "cell_type": "code",
   "execution_count": null,
   "metadata": {
    "colab": {
     "base_uri": "https://localhost:8080/"
    },
    "id": "3uQ20Y9lcKwM",
    "outputId": "d2463ffc-1ae9-49c4-ffed-36f9eefcab82"
   },
   "outputs": [],
   "source": [
    "df2['wqi'].describe()"
   ]
  },
  {
   "cell_type": "code",
   "execution_count": null,
   "metadata": {
    "colab": {
     "base_uri": "https://localhost:8080/"
    },
    "id": "fgesw1dkSllR",
    "outputId": "f7a0addb-832e-4483-b484-a96753838959"
   },
   "outputs": [],
   "source": [
    "df2['wqi'].astype(int)"
   ]
  },
  {
   "cell_type": "code",
   "execution_count": null,
   "metadata": {
    "id": "nl4ke3jdhdda"
   },
   "outputs": [],
   "source": [
    "#for i in range(len(df)):\n",
    "#  if df['WQI'][i] > 51:\n",
    "  #  print(df.iloc[i])\n",
    "#df.iloc[2]"
   ]
  },
  {
   "cell_type": "code",
   "execution_count": null,
   "metadata": {
    "colab": {
     "base_uri": "https://localhost:8080/",
     "height": 70
    },
    "id": "B-TM-NamFrjg",
    "outputId": "b1cde405-f6e3-4176-ca45-8825f2dc9501"
   },
   "outputs": [],
   "source": [
    "#Defining Water quality classes - Defination as per Indian paper\n",
    "'''\n",
    "wqc=[]\n",
    "for i in range(len(df2)):\n",
    "    res = \"\"\n",
    "    if df2[\"wqi\"][i] >= 0 and df2[\"wqi\"][i] <= 25:\n",
    "        res = \"Excellent\"\n",
    "    elif df2[\"wqi\"][i] > 25 and df2[\"wqi\"][i] <= 50:\n",
    "        res = \"Good\"\n",
    "    elif df2[\"wqi\"][i] >50 and df2[\"wqi\"][i] <= 75:\n",
    "        res = \"Poor\"\n",
    "    elif df2[\"wqi\"][i] >75 :\n",
    "        res = \"Very Poor\"\n",
    "   \n",
    "        \n",
    "    wqc.append(res)\n",
    "'''    "
   ]
  },
  {
   "cell_type": "code",
   "execution_count": null,
   "metadata": {
    "colab": {
     "base_uri": "https://localhost:8080/",
     "height": 88
    },
    "id": "EuKAZZ8RizYM",
    "outputId": "c9a5b5f6-7d96-4f3d-a3ad-bd28c73cf280"
   },
   "outputs": [],
   "source": [
    "'''\n",
    "wqc=[]\n",
    "for i in range(len(df2)):\n",
    "    res = \"\"\n",
    "    if df2[\"wqi\"][i] >= 0 and df2[\"wqi\"][i] <= 25:\n",
    "        res = \"Poor\"\n",
    "    elif df2[\"wqi\"][i] > 26 and df2[\"wqi\"][i] <= 50:\n",
    "        res = \"Fair\"\n",
    "    elif df2[\"wqi\"][i] >51 and df2[\"wqi\"][i] <= 70:\n",
    "        res = \"Medium\"\n",
    "    elif df2[\"wqi\"][i] >71 and df2[\"wqi\"][i] <= 90:\n",
    "        res = \"Good\"        \n",
    "    elif df2[\"wqi\"][i] >91 :\n",
    "        res = \"Excellent\"\n",
    "   \n",
    "        \n",
    "    wqc.append(res)\n",
    "\n",
    "'''    "
   ]
  },
  {
   "cell_type": "code",
   "execution_count": null,
   "metadata": {
    "id": "Qa5TgNcZc0Sw"
   },
   "outputs": [],
   "source": [
    "#Defining water quality classes as per the paper titled\n",
    "#\"Water Quality Index Calculation of River Ganga using Decision Tree Algorithm\", Kaushiki Agrahari1, Ankur Kashyap2, Sakshi3 , Shashank Kumar4 , Shivansh Sharma5\n",
    "#Shyam Dwivedi6, IRJET\n",
    "\n",
    "def water_quality_class(x):\n",
    "    if x >= 0 and x <= 25:\n",
    "        return \"Poor\"\n",
    "    elif x > 25 and x <= 50:\n",
    "        return \"Fair\"\n",
    "    elif x >50 and x <= 70:\n",
    "        return \"Medium\"\n",
    "    elif x >70 and x <= 90:\n",
    "        return \"Good\"        \n",
    "    elif x >90 and x <= 100:\n",
    "        return \"Excellent\"\n",
    "\n",
    "df2['wqc'] = df2['wqi'].apply(water_quality_class)        "
   ]
  },
  {
   "cell_type": "code",
   "execution_count": null,
   "metadata": {
    "colab": {
     "base_uri": "https://localhost:8080/"
    },
    "id": "MSbMcZmKgz8e",
    "outputId": "a5fc1661-806f-462e-f365-2f1cc1bc9585"
   },
   "outputs": [],
   "source": [
    "df2.info()"
   ]
  },
  {
   "cell_type": "code",
   "execution_count": null,
   "metadata": {
    "colab": {
     "base_uri": "https://localhost:8080/"
    },
    "id": "VHyJjlkCPfUx",
    "outputId": "3eb32074-69ad-4bf3-8870-3f43a56d1f92"
   },
   "outputs": [],
   "source": [
    "df2['wqc'].unique()"
   ]
  },
  {
   "cell_type": "code",
   "execution_count": null,
   "metadata": {
    "colab": {
     "base_uri": "https://localhost:8080/"
    },
    "id": "Szdq6fsPjKfR",
    "outputId": "16047649-861f-42db-b516-ad67d267aadc"
   },
   "outputs": [],
   "source": [
    "df2['wqc'].isnull().sum()"
   ]
  },
  {
   "cell_type": "code",
   "execution_count": null,
   "metadata": {
    "colab": {
     "base_uri": "https://localhost:8080/"
    },
    "id": "w69zXyaoF75W",
    "outputId": "6db6f34a-b13a-47cf-e1a7-0648d2e9bb50"
   },
   "outputs": [],
   "source": [
    "df2['wqc'].value_counts()"
   ]
  },
  {
   "cell_type": "code",
   "execution_count": null,
   "metadata": {
    "colab": {
     "base_uri": "https://localhost:8080/"
    },
    "id": "BQrLp-xJM-gu",
    "outputId": "c1d6ae9b-b9c3-42e7-814e-dc7ad14de2f9"
   },
   "outputs": [],
   "source": [
    "df2.shape"
   ]
  },
  {
   "cell_type": "markdown",
   "metadata": {
    "id": "Wy8ZDkAaMaE_"
   },
   "source": [
    "### Feature Selection"
   ]
  },
  {
   "cell_type": "code",
   "execution_count": null,
   "metadata": {
    "colab": {
     "base_uri": "https://localhost:8080/",
     "height": 53
    },
    "id": "0Hwr3dQmYqnn",
    "outputId": "48c309ed-68e5-4e5f-da91-23b5ffae8a75"
   },
   "outputs": [],
   "source": [
    "'''\n",
    "df2=df.drop(['District','Village','WQC','is_drinkable'], axis =1)\n",
    "df3=df.drop(['District','Village','WQC','is_drinkable'], axis =1)\n",
    "df3.shape\n",
    "'''"
   ]
  },
  {
   "cell_type": "code",
   "execution_count": null,
   "metadata": {
    "id": "05D3_-EeYqnn"
   },
   "outputs": [],
   "source": [
    "#df3"
   ]
  },
  {
   "cell_type": "markdown",
   "metadata": {
    "id": "uQRMklUsqEqs"
   },
   "source": [
    "## Pandas Profiling"
   ]
  },
  {
   "cell_type": "code",
   "execution_count": null,
   "metadata": {
    "colab": {
     "base_uri": "https://localhost:8080/",
     "height": 53
    },
    "id": "ZN6-ChH7pHLr",
    "outputId": "7f7c1256-cae3-464d-883e-bfc613c37e4d"
   },
   "outputs": [],
   "source": [
    "'''\n",
    "import pandas_profiling as pp    \n",
    "from pandas_profiling import ProfileReport\n",
    "%matplotlib inline \n",
    "\n",
    "# Perform pandas profiling on the dataset   \n",
    "report = ProfileReport(df)                 \n",
    "\n",
    "report.to_file(output_file=\"ground-water-quality_data.html\") \n",
    "'''     "
   ]
  },
  {
   "cell_type": "code",
   "execution_count": null,
   "metadata": {
    "colab": {
     "base_uri": "https://localhost:8080/"
    },
    "id": "NUxgKIzs1QQl",
    "outputId": "6991ec48-5e83-49e2-d5f1-587c5b25c7f4"
   },
   "outputs": [],
   "source": [
    "df.info()"
   ]
  },
  {
   "cell_type": "code",
   "execution_count": null,
   "metadata": {
    "colab": {
     "base_uri": "https://localhost:8080/"
    },
    "id": "Pk2M-bxX1jqv",
    "outputId": "2a8462cf-54ed-4564-a4ba-3991e7ecfb08"
   },
   "outputs": [],
   "source": [
    "df2.info()"
   ]
  },
  {
   "cell_type": "markdown",
   "metadata": {
    "id": "AkduHSw7Yqns"
   },
   "source": [
    "### Univariate analysis (Scatter plot to visualize Outliers)"
   ]
  },
  {
   "cell_type": "code",
   "execution_count": null,
   "metadata": {
    "colab": {
     "base_uri": "https://localhost:8080/",
     "height": 282
    },
    "id": "eRx9ZDLHYqns",
    "outputId": "b6db064f-a640-4480-ec40-d9f4eaea4c44"
   },
   "outputs": [],
   "source": [
    "import seaborn as sns\n",
    "sns.scatterplot(data=df2, x=df2.index, y= df2[\"na\"])\n"
   ]
  },
  {
   "cell_type": "code",
   "execution_count": null,
   "metadata": {
    "colab": {
     "base_uri": "https://localhost:8080/",
     "height": 36
    },
    "id": "nKlLdLoR15zY",
    "outputId": "3ac23c95-ff3c-4891-b32b-59532e386aa6"
   },
   "outputs": [],
   "source": [
    "# Saving figure in a file\n",
    "'''\n",
    "import matplotlib.pyplot as plt\n",
    "sns.scatterplot(data=df, x=df.index, y= df[\"Fluoride\"])\n",
    "plt.savefig(\"scatter_fig1.png\")\n",
    "'''"
   ]
  },
  {
   "cell_type": "code",
   "execution_count": null,
   "metadata": {
    "colab": {
     "base_uri": "https://localhost:8080/",
     "height": 265
    },
    "id": "1uGNltTOYqns",
    "outputId": "e973bcd5-e2b5-46bb-9dd3-3583ed25b687"
   },
   "outputs": [],
   "source": [
    "sns.scatterplot(data=df2, x=df2.index, y= df2[\"cl\"])\n",
    "plt.savefig(\"scatter_fig2.png\")"
   ]
  },
  {
   "cell_type": "code",
   "execution_count": null,
   "metadata": {
    "colab": {
     "base_uri": "https://localhost:8080/",
     "height": 282
    },
    "id": "gkdGyNS4Yqns",
    "outputId": "701952fc-948f-4753-903a-8f14ebe87a39"
   },
   "outputs": [],
   "source": [
    "sns.scatterplot(data=df2, x=df2.index, y= df2[\"hco3\"])"
   ]
  },
  {
   "cell_type": "code",
   "execution_count": null,
   "metadata": {
    "colab": {
     "base_uri": "https://localhost:8080/",
     "height": 282
    },
    "id": "lVtd2arzYqnt",
    "outputId": "33d18e58-9705-4827-cf95-33655a410b08"
   },
   "outputs": [],
   "source": [
    "sns.scatterplot(data=df2, x=df2.index, y= df2[\"ph\"])"
   ]
  },
  {
   "cell_type": "code",
   "execution_count": null,
   "metadata": {
    "colab": {
     "base_uri": "https://localhost:8080/",
     "height": 282
    },
    "id": "dHPO40A2Yqnt",
    "outputId": "3b6537d9-074c-43b8-ccdf-9b8d2a9b6339"
   },
   "outputs": [],
   "source": [
    "sns.scatterplot(data=df2, x=df2.index, y= df2[\"wqi\"])"
   ]
  },
  {
   "cell_type": "markdown",
   "metadata": {
    "id": "DYLrj-pkYqnq"
   },
   "source": [
    "## Outlier Detection"
   ]
  },
  {
   "cell_type": "code",
   "execution_count": null,
   "metadata": {
    "colab": {
     "base_uri": "https://localhost:8080/",
     "height": 279
    },
    "id": "8pPWUHrsYqnr",
    "outputId": "c960dbc9-b33e-4823-e8cb-835a7c301ae3"
   },
   "outputs": [],
   "source": [
    "import seaborn as sns\n",
    "sns.boxplot(x='wqc',y='ph', data=df2)\n",
    "plt.show()"
   ]
  },
  {
   "cell_type": "code",
   "execution_count": null,
   "metadata": {
    "colab": {
     "base_uri": "https://localhost:8080/",
     "height": 279
    },
    "id": "2Hw4BUkYYqnr",
    "outputId": "5522d1ec-348f-44bd-ccc2-6a3ae0a78a1d"
   },
   "outputs": [],
   "source": [
    "import seaborn as sns\n",
    "sns.boxplot(x='wqc',y='fe2', data=df2)\n",
    "plt.show()\n",
    "#plt.savefig(\"\")"
   ]
  },
  {
   "cell_type": "code",
   "execution_count": null,
   "metadata": {
    "colab": {
     "base_uri": "https://localhost:8080/",
     "height": 279
    },
    "id": "tlPwMK-vYqnr",
    "outputId": "9e2a51e2-2abc-4844-d5bc-a03464c72418"
   },
   "outputs": [],
   "source": [
    "import seaborn as sns\n",
    "sns.boxplot(x='wqc',y='tds105', data=df2)\n",
    "plt.show()"
   ]
  },
  {
   "cell_type": "code",
   "execution_count": null,
   "metadata": {
    "colab": {
     "base_uri": "https://localhost:8080/",
     "height": 279
    },
    "id": "Xbg5xj1SYqnr",
    "outputId": "1584bc60-e110-402d-8aa8-f5065476fcec"
   },
   "outputs": [],
   "source": [
    "import seaborn as sns\n",
    "sns.boxplot(x='wqc',y='cl', data=df2)\n",
    "plt.show()"
   ]
  },
  {
   "cell_type": "code",
   "execution_count": null,
   "metadata": {
    "colab": {
     "base_uri": "https://localhost:8080/"
    },
    "id": "AY7-bHqiRiVU",
    "outputId": "cb02e084-6c88-4614-deb2-ab6bc567889f"
   },
   "outputs": [],
   "source": [
    "#finding outliers for feature3\n",
    "#finding the 1st quartile\n",
    "q1 = np.quantile(df2['cl'], 0.25)\n",
    "\n",
    "# finding the 3rd quartile\n",
    "q3 = np.quantile(df2['cl'], 0.75)\n",
    "\n",
    "med = np.median(df2['cl'])\n",
    "\n",
    "# finding the iqr region\n",
    "iqr = q3-q1\n",
    "\n",
    "# finding upper and lower whiskers\n",
    "upper_bound = np.where(df2['cl'] >= q3 + (1.5*iqr))\n",
    "lower_bound = np.where(df2['cl'] <= q1 - (1.5*iqr))\n",
    "#outliers_cl = df2['cl'][(df2['cl'] <= lower_bound) | (df2['cl'] >= upper_bound)]\n",
    "\n",
    "#print(outliers_cl)\n",
    "print(upper_bound)"
   ]
  },
  {
   "cell_type": "code",
   "execution_count": null,
   "metadata": {
    "colab": {
     "base_uri": "https://localhost:8080/"
    },
    "id": "Ms66zMqiH5cS",
    "outputId": "e861de54-fd28-406b-a8dd-764bb707c173"
   },
   "outputs": [],
   "source": [
    "df2['cl'].shape"
   ]
  },
  {
   "cell_type": "code",
   "execution_count": null,
   "metadata": {
    "id": "R6bPAVJRHGH6"
   },
   "outputs": [],
   "source": [
    "''' Removing the Outliers '''\n",
    "df2.drop(upper_bound[0], inplace = True)\n",
    "df2.drop(lower_bound[0], inplace = True)"
   ]
  },
  {
   "cell_type": "code",
   "execution_count": null,
   "metadata": {
    "colab": {
     "base_uri": "https://localhost:8080/"
    },
    "id": "1vOZosm1H_Ch",
    "outputId": "44f9a992-d607-44f7-90c3-0955e82c6925"
   },
   "outputs": [],
   "source": [
    "df2['cl'].shape"
   ]
  },
  {
   "cell_type": "code",
   "execution_count": null,
   "metadata": {
    "colab": {
     "base_uri": "https://localhost:8080/"
    },
    "id": "zxyxDauVcYjs",
    "outputId": "7fb382ae-fc88-4fd5-b07f-b3d94e6bcd54"
   },
   "outputs": [],
   "source": [
    "df2.shape"
   ]
  },
  {
   "cell_type": "markdown",
   "metadata": {
    "id": "n7K82cHcO_U3"
   },
   "source": [
    "### Correlation Matrix"
   ]
  },
  {
   "cell_type": "code",
   "execution_count": null,
   "metadata": {
    "colab": {
     "base_uri": "https://localhost:8080/",
     "height": 864
    },
    "id": "ZedhKeWDYqnr",
    "outputId": "f080857b-db09-43a4-ed5c-c5c6f14d7d32"
   },
   "outputs": [],
   "source": [
    "corr_matrix = df2.corr(method = 'pearson')\n",
    "corr_matrix"
   ]
  },
  {
   "cell_type": "code",
   "execution_count": null,
   "metadata": {
    "colab": {
     "base_uri": "https://localhost:8080/",
     "height": 926
    },
    "id": "CQkHY7R_XVnN",
    "outputId": "71f6b0dc-fc9c-4e45-9fa2-854ba237010b"
   },
   "outputs": [],
   "source": [
    "plt.figure(figsize=(14,14))\n",
    "sns.heatmap(corr_matrix, annot=True)"
   ]
  },
  {
   "cell_type": "code",
   "execution_count": null,
   "metadata": {
    "colab": {
     "base_uri": "https://localhost:8080/"
    },
    "id": "eioZBveR6ugl",
    "outputId": "53448c03-3ba2-4ef5-ec44-85a4d4d57a68"
   },
   "outputs": [],
   "source": [
    "corr_matrix['wqi']"
   ]
  },
  {
   "cell_type": "code",
   "execution_count": null,
   "metadata": {
    "id": "VYAI_vc_7eSj"
   },
   "outputs": [],
   "source": [
    "#corr_matrix['wqi'].to_excel('perason-correlation-of-wqi.xlsx') #Saving data into an excel for graphical plot"
   ]
  },
  {
   "cell_type": "code",
   "execution_count": null,
   "metadata": {
    "colab": {
     "base_uri": "https://localhost:8080/",
     "height": 36
    },
    "id": "SQDHwd0iYdMn",
    "outputId": "fbfa3ec9-901f-4438-8f85-f6f2a155fe21"
   },
   "outputs": [],
   "source": [
    "'''\n",
    "col_names = df.columns                                         # Name of all the columns\n",
    "col_names\n",
    "'''"
   ]
  },
  {
   "cell_type": "code",
   "execution_count": null,
   "metadata": {
    "colab": {
     "base_uri": "https://localhost:8080/",
     "height": 36
    },
    "id": "Ojj7OOvnh_li",
    "outputId": "112c9917-5419-4fc4-97ab-3541e5cb5641"
   },
   "outputs": [],
   "source": [
    "'''\n",
    "col_names3 = df3.columns                                         # Name of all the columns\n",
    "col_names3\n",
    "'''"
   ]
  },
  {
   "cell_type": "code",
   "execution_count": null,
   "metadata": {
    "id": "cdl9vpy-e8K0"
   },
   "outputs": [],
   "source": [
    "#df2.shape"
   ]
  },
  {
   "cell_type": "code",
   "execution_count": null,
   "metadata": {
    "id": "KZMey0lMBfis"
   },
   "outputs": [],
   "source": [
    "#df2 = df2.drop(['well_code'], inplace = True, axis =1)"
   ]
  },
  {
   "cell_type": "code",
   "execution_count": null,
   "metadata": {
    "id": "ubSrkJpzDLjY"
   },
   "outputs": [],
   "source": [
    "#df2.info()"
   ]
  },
  {
   "cell_type": "code",
   "execution_count": null,
   "metadata": {
    "colab": {
     "base_uri": "https://localhost:8080/"
    },
    "id": "bf3td5npY1GV",
    "outputId": "9fdf2b50-fe3c-4b58-fd28-4120717ccaca"
   },
   "outputs": [],
   "source": [
    "df2.columns"
   ]
  },
  {
   "cell_type": "code",
   "execution_count": null,
   "metadata": {
    "colab": {
     "base_uri": "https://localhost:8080/"
    },
    "id": "S9wvIZX_sRvB",
    "outputId": "e57e2965-9a14-4874-9817-bdc93adc8f4c"
   },
   "outputs": [],
   "source": [
    "col_names_df2 = df2.columns\n",
    "col_names_df2"
   ]
  },
  {
   "cell_type": "markdown",
   "metadata": {
    "id": "ZAXvfFM9CW-g"
   },
   "source": [
    "For the purpose of correlation analysis we are not considering two categorical variable like **'well-code'** and **'wqc'** plus other two variables like **'wqi'** and **'is_drinkable'**. These will be removed from the data frame later point of time**."
   ]
  },
  {
   "cell_type": "code",
   "execution_count": null,
   "metadata": {
    "id": "hwpxEPLytfvd"
   },
   "outputs": [],
   "source": [
    "col_names_df2 = ['na', 'k', 'ca2', 'mg2', 'fe3', 'fe2', 'cl', 'so4', 'hco3',\n",
    "       'co3', 'no2', 'hardness_general', 'no3', 'hardness_temporal',\n",
    "       'hardness_permanent', 'ph', 'co2_free', 'co2_depend', 'co2_infiltrate',\n",
    "       'sio2', 'tds105']"
   ]
  },
  {
   "cell_type": "code",
   "execution_count": null,
   "metadata": {
    "colab": {
     "base_uri": "https://localhost:8080/"
    },
    "id": "IRrKWueDYrMP",
    "outputId": "41c2413d-880e-40f6-a19b-8f93e090425c"
   },
   "outputs": [],
   "source": [
    "# In this block of code we are going to check all the variables with correlation above a certain threshold\n",
    "\n",
    "corr_threshold = 0.8                                                 # This is a correlation threshold. We need to find variables with greater threshold\n",
    "\n",
    "print(\"---------------CHECKING FOR CORRELATION------------\")\n",
    "for c in col_names_df2:\n",
    "    for r in col_names_df2:\n",
    "        if (r < c):\n",
    "              #if (c is not 'District') and (c is not 'Village') and (c is not 'WQC') and (r is not 'District') and (r is not 'Village') and (r is not 'WQC'):\n",
    "              #if (c is not 'Village') and (c is not 'WQC') and (r is not 'Village') and (r is not 'WQC'):  \n",
    "                   if abs(corr_matrix[r][c]) > corr_threshold:\n",
    "                      print(c +\" : \"+ r+\" : \"+ str(corr_matrix[r][c]))"
   ]
  },
  {
   "cell_type": "markdown",
   "metadata": {
    "id": "zh1xJ2Gsj14-"
   },
   "source": [
    "These are all strong correlations (Total 17) between the pair of feature variables. We will plot some of the correlations for more insights."
   ]
  },
  {
   "cell_type": "markdown",
   "metadata": {
    "id": "hq4LpZyvmZEt"
   },
   "source": [
    "## Plots - Bi-variate Analysis"
   ]
  },
  {
   "cell_type": "code",
   "execution_count": null,
   "metadata": {
    "colab": {
     "base_uri": "https://localhost:8080/",
     "height": 405
    },
    "id": "MoT7JmRymoVK",
    "outputId": "3a40f5d1-9f51-4f0f-cba7-44847001a4da"
   },
   "outputs": [],
   "source": [
    "# Scatter plot of k and cl \n",
    "\n",
    "plt.figure(figsize=(6,6))\n",
    "sns.scatterplot('k','cl', data=df2)"
   ]
  },
  {
   "cell_type": "code",
   "execution_count": null,
   "metadata": {
    "colab": {
     "base_uri": "https://localhost:8080/",
     "height": 405
    },
    "id": "sC3CDX5LlDQ-",
    "outputId": "68dbf756-e96e-49e5-e81e-126b5070d12e"
   },
   "outputs": [],
   "source": [
    "# Scatter plot of mg2 and k \n",
    "\n",
    "plt.figure(figsize=(6,6))\n",
    "sns.scatterplot('k','mg2', data=df2)"
   ]
  },
  {
   "cell_type": "code",
   "execution_count": null,
   "metadata": {
    "colab": {
     "base_uri": "https://localhost:8080/",
     "height": 405
    },
    "id": "5t9tWNWTnHhO",
    "outputId": "3206451f-fdb3-4a8f-b998-9ad9ee81cf52"
   },
   "outputs": [],
   "source": [
    "# Scatter plot of tds105 and na \n",
    "\n",
    "plt.figure(figsize=(6,6))\n",
    "sns.scatterplot('tds105','na', data=df2)"
   ]
  },
  {
   "cell_type": "code",
   "execution_count": null,
   "metadata": {
    "colab": {
     "base_uri": "https://localhost:8080/",
     "height": 405
    },
    "id": "Ydrb3jzunVFT",
    "outputId": "3fcf9644-db85-4df3-cb88-bff628d7b190"
   },
   "outputs": [],
   "source": [
    "# Scatter plot of hco3 and co2_depend \n",
    "\n",
    "plt.figure(figsize=(6,6))\n",
    "sns.scatterplot('hco3','co2_depend', data=df2)"
   ]
  },
  {
   "cell_type": "code",
   "execution_count": null,
   "metadata": {
    "colab": {
     "base_uri": "https://localhost:8080/",
     "height": 405
    },
    "id": "fsRY_HTEnoi7",
    "outputId": "e7cc2cd8-639d-44d4-a357-a7200e967003"
   },
   "outputs": [],
   "source": [
    "# Scatter plot of na and mg2 \n",
    "\n",
    "plt.figure(figsize=(6,6))\n",
    "sns.scatterplot('na','mg2', data=df2)"
   ]
  },
  {
   "cell_type": "markdown",
   "metadata": {
    "id": "dquFtZT3fPjr"
   },
   "source": [
    "* We will be dropping one of the features against each of the strong correlation matrices after bi-variate analysis\n",
    "* Let's separate 'wqc' and normal correlation and store it in a separate data frame"
   ]
  },
  {
   "cell_type": "code",
   "execution_count": null,
   "metadata": {
    "colab": {
     "base_uri": "https://localhost:8080/"
    },
    "id": "E4EAIS05gzWd",
    "outputId": "00ad6f4a-5c81-41ea-b4d1-1ddba4330d0f"
   },
   "outputs": [],
   "source": [
    "df2 = df2.drop(['mg2', 'na', 'tds105' ,'co2_depend', 'hardness_permanent'], axis=1)\n",
    "#gc.collect()\n",
    "df2.shape"
   ]
  },
  {
   "cell_type": "code",
   "execution_count": null,
   "metadata": {
    "colab": {
     "base_uri": "https://localhost:8080/"
    },
    "id": "E4uZVWWfPDKZ",
    "outputId": "ffbed419-eaa6-4c92-98d1-f9cf5e55cfdf"
   },
   "outputs": [],
   "source": [
    "df2['wqc'].unique()"
   ]
  },
  {
   "cell_type": "code",
   "execution_count": null,
   "metadata": {
    "colab": {
     "base_uri": "https://localhost:8080/"
    },
    "id": "0uRK0184nB8a",
    "outputId": "c53c117b-d49e-46cd-9648-108a18a47cfd"
   },
   "outputs": [],
   "source": [
    "# Import label encoder\n",
    "from sklearn import preprocessing\n",
    "  \n",
    "# label_encoder object knows how to understand word labels.\n",
    "label_encoder = preprocessing.LabelEncoder()\n",
    "  \n",
    "# Encode labels in column 'species'.\n",
    "df2['wqc']= label_encoder.fit_transform(df2['wqc'])\n",
    "  \n",
    "df2['wqc'].unique()"
   ]
  },
  {
   "cell_type": "markdown",
   "metadata": {
    "id": "lBbge9HG4DYM"
   },
   "source": [
    "## Comparing the values in the previous cell, the categorical variables can be mapped to numerical values as below:\n",
    "\n",
    "0 - Excellent\n",
    "\n",
    "1 - Fair\n",
    "\n",
    "2 - Good\n",
    "\n",
    "3 - Medium\n",
    "\n",
    "4 - Poor\n"
   ]
  },
  {
   "cell_type": "code",
   "execution_count": null,
   "metadata": {
    "colab": {
     "base_uri": "https://localhost:8080/"
    },
    "id": "Gd4e2gQYkUNl",
    "outputId": "56d29df4-813b-46dd-ce1c-d16d481ddf7e"
   },
   "outputs": [],
   "source": [
    "y = df2['wqc']\n",
    "y.value_counts()"
   ]
  },
  {
   "cell_type": "code",
   "execution_count": null,
   "metadata": {
    "colab": {
     "base_uri": "https://localhost:8080/",
     "height": 296
    },
    "id": "V_3EyYAAPzND",
    "outputId": "41128acf-882c-4549-b415-bdb4c50d7bbe"
   },
   "outputs": [],
   "source": [
    "sns.countplot(y)"
   ]
  },
  {
   "cell_type": "markdown",
   "metadata": {
    "id": "60mBIEg5Rb-i"
   },
   "source": [
    "It is observed that classes are **highly imbalanced** in the sense that class 4 is showing higher number of samples as compared to Class 0, 1, 2 and 3. With imbalanced classes, it’s easy to get a high accuracy without actually making useful predictions. So, accuracy as an evaluation metrics makes sense only if the class labels are uniformly distributed.\n",
    "\n",
    "In order to improve the performance of imbalanced dataset we can use re-sampling techniques. \n",
    "\n",
    "To make our dataset balanced there are two ways to do so:\n",
    "\n",
    "1. **Under-sampling**: Remove samples from over-represented classes ; use this if you have huge dataset\n",
    "\n",
    "2. **Over-sampling**: Add more samples from under-represented classes; use this if you have small dataset"
   ]
  },
  {
   "cell_type": "code",
   "execution_count": null,
   "metadata": {
    "colab": {
     "base_uri": "https://localhost:8080/"
    },
    "id": "C4VGkhox8aFb",
    "outputId": "c0afea1d-15bf-4029-eac4-1fb98eb73af1"
   },
   "outputs": [],
   "source": [
    "y.shape"
   ]
  },
  {
   "cell_type": "code",
   "execution_count": null,
   "metadata": {
    "colab": {
     "base_uri": "https://localhost:8080/"
    },
    "id": "6zJ0FAL09ZWA",
    "outputId": "22fbb193-191e-4df4-b075-0a3ce1c99cba"
   },
   "outputs": [],
   "source": [
    "df2.shape"
   ]
  },
  {
   "cell_type": "code",
   "execution_count": null,
   "metadata": {
    "colab": {
     "base_uri": "https://localhost:8080/"
    },
    "id": "kOzf12WU9jdh",
    "outputId": "5b191d76-5c50-456e-f3b4-7262d5a3cfb0"
   },
   "outputs": [],
   "source": [
    "df2.info()"
   ]
  },
  {
   "cell_type": "code",
   "execution_count": null,
   "metadata": {
    "colab": {
     "base_uri": "https://localhost:8080/"
    },
    "id": "X-c9Et2-3TQk",
    "outputId": "c9da24a0-a54e-41ad-9179-79ec20f3d799"
   },
   "outputs": [],
   "source": [
    "df2.columns"
   ]
  },
  {
   "cell_type": "code",
   "execution_count": null,
   "metadata": {
    "id": "Y_S-48fCrcEW"
   },
   "outputs": [],
   "source": [
    "#X1 is the new feature matrix for feature selection\n",
    "X1 = df2.drop(['well_code', 'is_drinkable', 'wqi', 'wqc'], axis =1)\n"
   ]
  },
  {
   "cell_type": "code",
   "execution_count": null,
   "metadata": {
    "id": "AuzNGmJy-NaA"
   },
   "outputs": [],
   "source": [
    "#df2.shape"
   ]
  },
  {
   "cell_type": "code",
   "execution_count": null,
   "metadata": {
    "id": "V1PAqkN78mzK"
   },
   "outputs": [],
   "source": [
    "#x = df2"
   ]
  },
  {
   "cell_type": "code",
   "execution_count": null,
   "metadata": {
    "colab": {
     "base_uri": "https://localhost:8080/"
    },
    "id": "1W5xHBJR-i-b",
    "outputId": "27f3d59b-3b49-4aa9-fbea-af59f4680fe3"
   },
   "outputs": [],
   "source": [
    "X1.shape"
   ]
  },
  {
   "cell_type": "code",
   "execution_count": null,
   "metadata": {
    "colab": {
     "base_uri": "https://localhost:8080/"
    },
    "id": "vclv02yVrLkG",
    "outputId": "27549272-9a23-42eb-f3b2-0d248e225d41"
   },
   "outputs": [],
   "source": [
    "X1.info()"
   ]
  },
  {
   "cell_type": "code",
   "execution_count": 1,
   "metadata": {},
   "outputs": [],
   "source": [
    "import pandas as pd"
   ]
  },
  {
   "cell_type": "code",
   "execution_count": 2,
   "metadata": {},
   "outputs": [],
   "source": [
    "df = pd.read_csv(\"Vietnam dataset-phase-3/data-phase-3/daluong_processed.csv\")"
   ]
  },
  {
   "cell_type": "code",
   "execution_count": 3,
   "metadata": {},
   "outputs": [
    {
     "data": {
      "text/html": [
       "<div>\n",
       "<style scoped>\n",
       "    .dataframe tbody tr th:only-of-type {\n",
       "        vertical-align: middle;\n",
       "    }\n",
       "\n",
       "    .dataframe tbody tr th {\n",
       "        vertical-align: top;\n",
       "    }\n",
       "\n",
       "    .dataframe thead th {\n",
       "        text-align: right;\n",
       "    }\n",
       "</style>\n",
       "<table border=\"1\" class=\"dataframe\">\n",
       "  <thead>\n",
       "    <tr style=\"text-align: right;\">\n",
       "      <th></th>\n",
       "      <th>Unnamed: 0</th>\n",
       "      <th>well_code</th>\n",
       "      <th>date_sampling</th>\n",
       "      <th>quarter</th>\n",
       "      <th>type_analyzing</th>\n",
       "      <th>date_analyzing</th>\n",
       "      <th>laboratory</th>\n",
       "      <th>k</th>\n",
       "      <th>ca2</th>\n",
       "      <th>fe3</th>\n",
       "      <th>...</th>\n",
       "      <th>ph</th>\n",
       "      <th>co2_free</th>\n",
       "      <th>co2_infiltrate</th>\n",
       "      <th>sio2</th>\n",
       "      <th>color</th>\n",
       "      <th>smell</th>\n",
       "      <th>tatse</th>\n",
       "      <th>is_drinkable</th>\n",
       "      <th>wqi</th>\n",
       "      <th>wqc</th>\n",
       "    </tr>\n",
       "  </thead>\n",
       "  <tbody>\n",
       "    <tr>\n",
       "      <th>0</th>\n",
       "      <td>0</td>\n",
       "      <td>B1</td>\n",
       "      <td>2016-03-29</td>\n",
       "      <td>0</td>\n",
       "      <td>0</td>\n",
       "      <td>2016-04-03</td>\n",
       "      <td>0</td>\n",
       "      <td>0</td>\n",
       "      <td>0</td>\n",
       "      <td>1</td>\n",
       "      <td>...</td>\n",
       "      <td>1</td>\n",
       "      <td>1</td>\n",
       "      <td>1</td>\n",
       "      <td>1</td>\n",
       "      <td>6</td>\n",
       "      <td>1</td>\n",
       "      <td>5</td>\n",
       "      <td>0</td>\n",
       "      <td>55.469860</td>\n",
       "      <td>3</td>\n",
       "    </tr>\n",
       "    <tr>\n",
       "      <th>1</th>\n",
       "      <td>1</td>\n",
       "      <td>B1</td>\n",
       "      <td>2017-04-08</td>\n",
       "      <td>0</td>\n",
       "      <td>0</td>\n",
       "      <td>2017-04-16</td>\n",
       "      <td>0</td>\n",
       "      <td>0</td>\n",
       "      <td>0</td>\n",
       "      <td>1</td>\n",
       "      <td>...</td>\n",
       "      <td>1</td>\n",
       "      <td>1</td>\n",
       "      <td>1</td>\n",
       "      <td>1</td>\n",
       "      <td>6</td>\n",
       "      <td>1</td>\n",
       "      <td>5</td>\n",
       "      <td>0</td>\n",
       "      <td>55.469860</td>\n",
       "      <td>3</td>\n",
       "    </tr>\n",
       "    <tr>\n",
       "      <th>2</th>\n",
       "      <td>2</td>\n",
       "      <td>B1</td>\n",
       "      <td>2017-09-15</td>\n",
       "      <td>1</td>\n",
       "      <td>0</td>\n",
       "      <td>2017-09-20</td>\n",
       "      <td>0</td>\n",
       "      <td>1</td>\n",
       "      <td>1</td>\n",
       "      <td>1</td>\n",
       "      <td>...</td>\n",
       "      <td>1</td>\n",
       "      <td>1</td>\n",
       "      <td>1</td>\n",
       "      <td>1</td>\n",
       "      <td>6</td>\n",
       "      <td>1</td>\n",
       "      <td>1</td>\n",
       "      <td>1</td>\n",
       "      <td>100.000000</td>\n",
       "      <td>0</td>\n",
       "    </tr>\n",
       "    <tr>\n",
       "      <th>3</th>\n",
       "      <td>3</td>\n",
       "      <td>B1</td>\n",
       "      <td>2019-04-24</td>\n",
       "      <td>0</td>\n",
       "      <td>0</td>\n",
       "      <td>2019-04-29</td>\n",
       "      <td>1</td>\n",
       "      <td>1</td>\n",
       "      <td>1</td>\n",
       "      <td>1</td>\n",
       "      <td>...</td>\n",
       "      <td>1</td>\n",
       "      <td>1</td>\n",
       "      <td>1</td>\n",
       "      <td>1</td>\n",
       "      <td>6</td>\n",
       "      <td>1</td>\n",
       "      <td>1</td>\n",
       "      <td>0</td>\n",
       "      <td>90.602788</td>\n",
       "      <td>0</td>\n",
       "    </tr>\n",
       "    <tr>\n",
       "      <th>4</th>\n",
       "      <td>4</td>\n",
       "      <td>B1</td>\n",
       "      <td>2019-09-10</td>\n",
       "      <td>1</td>\n",
       "      <td>0</td>\n",
       "      <td>2019-09-14</td>\n",
       "      <td>1</td>\n",
       "      <td>0</td>\n",
       "      <td>1</td>\n",
       "      <td>1</td>\n",
       "      <td>...</td>\n",
       "      <td>1</td>\n",
       "      <td>1</td>\n",
       "      <td>1</td>\n",
       "      <td>1</td>\n",
       "      <td>6</td>\n",
       "      <td>1</td>\n",
       "      <td>3</td>\n",
       "      <td>0</td>\n",
       "      <td>47.196336</td>\n",
       "      <td>1</td>\n",
       "    </tr>\n",
       "  </tbody>\n",
       "</table>\n",
       "<p>5 rows × 30 columns</p>\n",
       "</div>"
      ],
      "text/plain": [
       "   Unnamed: 0 well_code date_sampling  quarter  type_analyzing date_analyzing  \\\n",
       "0           0        B1    2016-03-29        0               0     2016-04-03   \n",
       "1           1        B1    2017-04-08        0               0     2017-04-16   \n",
       "2           2        B1    2017-09-15        1               0     2017-09-20   \n",
       "3           3        B1    2019-04-24        0               0     2019-04-29   \n",
       "4           4        B1    2019-09-10        1               0     2019-09-14   \n",
       "\n",
       "   laboratory  k  ca2  fe3  ...  ph  co2_free  co2_infiltrate  sio2  color  \\\n",
       "0           0  0    0    1  ...   1         1               1     1      6   \n",
       "1           0  0    0    1  ...   1         1               1     1      6   \n",
       "2           0  1    1    1  ...   1         1               1     1      6   \n",
       "3           1  1    1    1  ...   1         1               1     1      6   \n",
       "4           1  0    1    1  ...   1         1               1     1      6   \n",
       "\n",
       "   smell  tatse  is_drinkable         wqi  wqc  \n",
       "0      1      5             0   55.469860    3  \n",
       "1      1      5             0   55.469860    3  \n",
       "2      1      1             1  100.000000    0  \n",
       "3      1      1             0   90.602788    0  \n",
       "4      1      3             0   47.196336    1  \n",
       "\n",
       "[5 rows x 30 columns]"
      ]
     },
     "execution_count": 3,
     "metadata": {},
     "output_type": "execute_result"
    }
   ],
   "source": [
    "df.head()"
   ]
  },
  {
   "cell_type": "code",
   "execution_count": 4,
   "metadata": {},
   "outputs": [
    {
     "data": {
      "text/plain": [
       "Index(['Unnamed: 0', 'well_code', 'date_sampling', 'quarter', 'type_analyzing',\n",
       "       'date_analyzing', 'laboratory', 'k', 'ca2', 'fe3', 'fe2', 'al3', 'cl',\n",
       "       'so4', 'hco3', 'co3', 'no2', 'hardness_general', 'no3',\n",
       "       'hardness_temporal', 'ph', 'co2_free', 'co2_infiltrate', 'sio2',\n",
       "       'color', 'smell', 'tatse', 'is_drinkable', 'wqi', 'wqc'],\n",
       "      dtype='object')"
      ]
     },
     "execution_count": 4,
     "metadata": {},
     "output_type": "execute_result"
    }
   ],
   "source": [
    "df.columns"
   ]
  },
  {
   "cell_type": "code",
   "execution_count": 5,
   "metadata": {},
   "outputs": [],
   "source": [
    "y = df['wqc']\n",
    "X1 = df.drop([df.columns[0], 'well_code', 'is_drinkable', 'date_sampling', 'date_analyzing', 'wqi', 'wqc'], axis =1)\n"
   ]
  },
  {
   "cell_type": "code",
   "execution_count": 6,
   "metadata": {},
   "outputs": [
    {
     "name": "stdout",
     "output_type": "stream",
     "text": [
      "<class 'pandas.core.frame.DataFrame'>\n",
      "RangeIndex: 2133 entries, 0 to 2132\n",
      "Data columns (total 23 columns):\n",
      " #   Column             Non-Null Count  Dtype  \n",
      "---  ------             --------------  -----  \n",
      " 0   quarter            2133 non-null   int64  \n",
      " 1   type_analyzing     2133 non-null   int64  \n",
      " 2   laboratory         2133 non-null   int64  \n",
      " 3   k                  2133 non-null   int64  \n",
      " 4   ca2                2133 non-null   int64  \n",
      " 5   fe3                2133 non-null   int64  \n",
      " 6   fe2                2133 non-null   int64  \n",
      " 7   al3                2133 non-null   float64\n",
      " 8   cl                 2133 non-null   int64  \n",
      " 9   so4                2133 non-null   int64  \n",
      " 10  hco3               2133 non-null   int64  \n",
      " 11  co3                2133 non-null   int64  \n",
      " 12  no2                2133 non-null   int64  \n",
      " 13  hardness_general   2133 non-null   int64  \n",
      " 14  no3                2133 non-null   int64  \n",
      " 15  hardness_temporal  2133 non-null   int64  \n",
      " 16  ph                 2133 non-null   int64  \n",
      " 17  co2_free           2133 non-null   int64  \n",
      " 18  co2_infiltrate     2133 non-null   int64  \n",
      " 19  sio2               2133 non-null   int64  \n",
      " 20  color              2133 non-null   int64  \n",
      " 21  smell              2133 non-null   int64  \n",
      " 22  tatse              2133 non-null   int64  \n",
      "dtypes: float64(1), int64(22)\n",
      "memory usage: 383.4 KB\n"
     ]
    }
   ],
   "source": [
    "X1.info()"
   ]
  },
  {
   "cell_type": "markdown",
   "metadata": {
    "id": "UOziuA1TRu-_"
   },
   "source": [
    "# 4. Feature selection using \"Greedy Search\" method"
   ]
  },
  {
   "cell_type": "code",
   "execution_count": 7,
   "metadata": {
    "colab": {
     "base_uri": "https://localhost:8080/"
    },
    "id": "mNq5hjnxRwIh",
    "outputId": "97bb1189-b5ea-44af-f9e1-f2ba55c4788b"
   },
   "outputs": [
    {
     "name": "stdout",
     "output_type": "stream",
     "text": [
      "Optimal number of  features: 16\n"
     ]
    }
   ],
   "source": [
    "#Applying Recursive Feature Elimination through Cross-validation\n",
    "\n",
    "from sklearn.feature_selection import RFECV\n",
    "from sklearn.ensemble import RandomForestClassifier\n",
    "from sklearn.model_selection import StratifiedKFold\n",
    "from sklearn.svm import SVC\n",
    "\n",
    "# Create the RFE object and compute a cross-validated score.\n",
    "#svc = SVC(kernel=\"linear\", C=1)\n",
    "# The \"accuracy\" scoring is proportional to the number of correct\n",
    "# classifications\n",
    "#selector = RFECV(estimator = svc, step =1, scoring = 'accuracy', cv=StratifiedKFold(2))\n",
    "selector = RFECV(RandomForestClassifier(), step =1, scoring = 'f1_weighted', cv=StratifiedKFold(5))\n",
    "selector.fit(X1, y)\n",
    "print(\"Optimal number of  features: %d\" % selector.n_features_)\n"
   ]
  },
  {
   "cell_type": "code",
   "execution_count": 8,
   "metadata": {
    "colab": {
     "base_uri": "https://localhost:8080/"
    },
    "id": "LZI67yFlRzxH",
    "outputId": "f0683c9b-d39b-40d3-d212-f109c8627141"
   },
   "outputs": [
    {
     "data": {
      "text/plain": [
       "Index(['quarter', 'laboratory', 'k', 'ca2', 'fe3', 'fe2', 'cl', 'so4', 'hco3',\n",
       "       'co3', 'no2', 'hardness_general', 'ph', 'color', 'smell', 'tatse'],\n",
       "      dtype='object')"
      ]
     },
     "execution_count": 8,
     "metadata": {},
     "output_type": "execute_result"
    }
   ],
   "source": [
    "X1.columns[selector.support_]"
   ]
  },
  {
   "cell_type": "code",
   "execution_count": 9,
   "metadata": {
    "colab": {
     "base_uri": "https://localhost:8080/"
    },
    "id": "RBWwGeKyc1fw",
    "outputId": "c64e170b-761c-4c55-ef26-6db1fb23b831"
   },
   "outputs": [
    {
     "data": {
      "text/plain": [
       "Index(['quarter', 'type_analyzing', 'laboratory', 'k', 'ca2', 'fe3', 'fe2',\n",
       "       'al3', 'cl', 'so4', 'hco3', 'co3', 'no2', 'hardness_general', 'no3',\n",
       "       'hardness_temporal', 'ph', 'co2_free', 'co2_infiltrate', 'sio2',\n",
       "       'color', 'smell', 'tatse'],\n",
       "      dtype='object')"
      ]
     },
     "execution_count": 9,
     "metadata": {},
     "output_type": "execute_result"
    }
   ],
   "source": [
    "X1.columns"
   ]
  },
  {
   "cell_type": "code",
   "execution_count": 10,
   "metadata": {
    "id": "rcK4JG-Pq_1p"
   },
   "outputs": [],
   "source": [
    "#df2.shape"
   ]
  },
  {
   "cell_type": "code",
   "execution_count": 11,
   "metadata": {
    "id": "0QSYW5wOSRS6"
   },
   "outputs": [],
   "source": [
    "#X.columns[selector.support_]"
   ]
  },
  {
   "cell_type": "code",
   "execution_count": 12,
   "metadata": {
    "colab": {
     "base_uri": "https://localhost:8080/",
     "height": 380
    },
    "id": "VwOrB6AlSSp6",
    "outputId": "129f0c99-5d7e-4140-85b3-1e08ee6ddaa8"
   },
   "outputs": [],
   "source": [
    "# # Plot number of features VS. cross-validation scores\n",
    "# import matplotlib.pyplot as plt\n",
    "# plt.figure()\n",
    "# plt.xlabel(\"Number of features selected\")\n",
    "# plt.ylabel(\"Cross validation score (nb of correct regressions)\")\n",
    "# plt.plot(range(1, len(selector.grid_scores_) + 1), selector.grid_scores_)\n"
   ]
  },
  {
   "cell_type": "code",
   "execution_count": 13,
   "metadata": {
    "id": "kBzRtoVbSye5"
   },
   "outputs": [],
   "source": [
    "#Numerical features to be selected is 7\n",
    "#Added 3 more paramters like 'ca2', 'hco3' and 'co2_infiltrate' as they seems to be essential for preserving water quality\n",
    "\n",
    "Selected_Num_cols = X1.columns[selector.support_]\n",
    "       \n",
    "Num_cols_to_be_dropped = [col for col in X1.columns if col not in Selected_Num_cols]\n",
    "                          "
   ]
  },
  {
   "cell_type": "code",
   "execution_count": 14,
   "metadata": {
    "id": "I1eR_QVtTCPN"
   },
   "outputs": [],
   "source": [
    "#Dropping the Numeric features that are not important\n",
    "#df3 = df2.copy() #Original Data frame containing 16 features before dropping\n",
    "#df2 = df2.drop(Num_cols_to_be_dropped, inplace = True, axis=1)\n",
    "X = X1.drop(Num_cols_to_be_dropped, axis =1)\n",
    "#df2.shape\n",
    "#X.shape\n",
    "#X.info()"
   ]
  },
  {
   "cell_type": "code",
   "execution_count": 15,
   "metadata": {},
   "outputs": [
    {
     "data": {
      "text/html": [
       "<div>\n",
       "<style scoped>\n",
       "    .dataframe tbody tr th:only-of-type {\n",
       "        vertical-align: middle;\n",
       "    }\n",
       "\n",
       "    .dataframe tbody tr th {\n",
       "        vertical-align: top;\n",
       "    }\n",
       "\n",
       "    .dataframe thead th {\n",
       "        text-align: right;\n",
       "    }\n",
       "</style>\n",
       "<table border=\"1\" class=\"dataframe\">\n",
       "  <thead>\n",
       "    <tr style=\"text-align: right;\">\n",
       "      <th></th>\n",
       "      <th>quarter</th>\n",
       "      <th>laboratory</th>\n",
       "      <th>k</th>\n",
       "      <th>ca2</th>\n",
       "      <th>fe3</th>\n",
       "      <th>fe2</th>\n",
       "      <th>cl</th>\n",
       "      <th>so4</th>\n",
       "      <th>hco3</th>\n",
       "      <th>co3</th>\n",
       "      <th>no2</th>\n",
       "      <th>hardness_general</th>\n",
       "      <th>ph</th>\n",
       "      <th>color</th>\n",
       "      <th>smell</th>\n",
       "      <th>tatse</th>\n",
       "    </tr>\n",
       "  </thead>\n",
       "  <tbody>\n",
       "    <tr>\n",
       "      <th>0</th>\n",
       "      <td>0</td>\n",
       "      <td>0</td>\n",
       "      <td>0</td>\n",
       "      <td>0</td>\n",
       "      <td>1</td>\n",
       "      <td>1</td>\n",
       "      <td>0</td>\n",
       "      <td>1</td>\n",
       "      <td>1</td>\n",
       "      <td>1</td>\n",
       "      <td>1</td>\n",
       "      <td>0</td>\n",
       "      <td>1</td>\n",
       "      <td>6</td>\n",
       "      <td>1</td>\n",
       "      <td>5</td>\n",
       "    </tr>\n",
       "    <tr>\n",
       "      <th>1</th>\n",
       "      <td>0</td>\n",
       "      <td>0</td>\n",
       "      <td>0</td>\n",
       "      <td>0</td>\n",
       "      <td>1</td>\n",
       "      <td>1</td>\n",
       "      <td>0</td>\n",
       "      <td>1</td>\n",
       "      <td>1</td>\n",
       "      <td>1</td>\n",
       "      <td>1</td>\n",
       "      <td>0</td>\n",
       "      <td>1</td>\n",
       "      <td>6</td>\n",
       "      <td>1</td>\n",
       "      <td>5</td>\n",
       "    </tr>\n",
       "    <tr>\n",
       "      <th>2</th>\n",
       "      <td>1</td>\n",
       "      <td>0</td>\n",
       "      <td>1</td>\n",
       "      <td>1</td>\n",
       "      <td>1</td>\n",
       "      <td>1</td>\n",
       "      <td>1</td>\n",
       "      <td>1</td>\n",
       "      <td>1</td>\n",
       "      <td>1</td>\n",
       "      <td>1</td>\n",
       "      <td>1</td>\n",
       "      <td>1</td>\n",
       "      <td>6</td>\n",
       "      <td>1</td>\n",
       "      <td>1</td>\n",
       "    </tr>\n",
       "    <tr>\n",
       "      <th>3</th>\n",
       "      <td>0</td>\n",
       "      <td>1</td>\n",
       "      <td>1</td>\n",
       "      <td>1</td>\n",
       "      <td>1</td>\n",
       "      <td>1</td>\n",
       "      <td>1</td>\n",
       "      <td>1</td>\n",
       "      <td>1</td>\n",
       "      <td>1</td>\n",
       "      <td>0</td>\n",
       "      <td>1</td>\n",
       "      <td>1</td>\n",
       "      <td>6</td>\n",
       "      <td>1</td>\n",
       "      <td>1</td>\n",
       "    </tr>\n",
       "    <tr>\n",
       "      <th>4</th>\n",
       "      <td>1</td>\n",
       "      <td>1</td>\n",
       "      <td>0</td>\n",
       "      <td>1</td>\n",
       "      <td>1</td>\n",
       "      <td>1</td>\n",
       "      <td>0</td>\n",
       "      <td>1</td>\n",
       "      <td>1</td>\n",
       "      <td>1</td>\n",
       "      <td>0</td>\n",
       "      <td>0</td>\n",
       "      <td>1</td>\n",
       "      <td>6</td>\n",
       "      <td>1</td>\n",
       "      <td>3</td>\n",
       "    </tr>\n",
       "    <tr>\n",
       "      <th>...</th>\n",
       "      <td>...</td>\n",
       "      <td>...</td>\n",
       "      <td>...</td>\n",
       "      <td>...</td>\n",
       "      <td>...</td>\n",
       "      <td>...</td>\n",
       "      <td>...</td>\n",
       "      <td>...</td>\n",
       "      <td>...</td>\n",
       "      <td>...</td>\n",
       "      <td>...</td>\n",
       "      <td>...</td>\n",
       "      <td>...</td>\n",
       "      <td>...</td>\n",
       "      <td>...</td>\n",
       "      <td>...</td>\n",
       "    </tr>\n",
       "    <tr>\n",
       "      <th>2128</th>\n",
       "      <td>1</td>\n",
       "      <td>0</td>\n",
       "      <td>1</td>\n",
       "      <td>1</td>\n",
       "      <td>1</td>\n",
       "      <td>1</td>\n",
       "      <td>1</td>\n",
       "      <td>1</td>\n",
       "      <td>1</td>\n",
       "      <td>1</td>\n",
       "      <td>1</td>\n",
       "      <td>1</td>\n",
       "      <td>1</td>\n",
       "      <td>6</td>\n",
       "      <td>1</td>\n",
       "      <td>1</td>\n",
       "    </tr>\n",
       "    <tr>\n",
       "      <th>2129</th>\n",
       "      <td>0</td>\n",
       "      <td>1</td>\n",
       "      <td>1</td>\n",
       "      <td>1</td>\n",
       "      <td>1</td>\n",
       "      <td>1</td>\n",
       "      <td>1</td>\n",
       "      <td>1</td>\n",
       "      <td>1</td>\n",
       "      <td>1</td>\n",
       "      <td>1</td>\n",
       "      <td>1</td>\n",
       "      <td>1</td>\n",
       "      <td>6</td>\n",
       "      <td>1</td>\n",
       "      <td>1</td>\n",
       "    </tr>\n",
       "    <tr>\n",
       "      <th>2130</th>\n",
       "      <td>1</td>\n",
       "      <td>1</td>\n",
       "      <td>1</td>\n",
       "      <td>1</td>\n",
       "      <td>1</td>\n",
       "      <td>1</td>\n",
       "      <td>1</td>\n",
       "      <td>1</td>\n",
       "      <td>1</td>\n",
       "      <td>0</td>\n",
       "      <td>1</td>\n",
       "      <td>1</td>\n",
       "      <td>1</td>\n",
       "      <td>6</td>\n",
       "      <td>1</td>\n",
       "      <td>1</td>\n",
       "    </tr>\n",
       "    <tr>\n",
       "      <th>2131</th>\n",
       "      <td>0</td>\n",
       "      <td>1</td>\n",
       "      <td>1</td>\n",
       "      <td>1</td>\n",
       "      <td>1</td>\n",
       "      <td>1</td>\n",
       "      <td>1</td>\n",
       "      <td>1</td>\n",
       "      <td>1</td>\n",
       "      <td>1</td>\n",
       "      <td>1</td>\n",
       "      <td>1</td>\n",
       "      <td>1</td>\n",
       "      <td>6</td>\n",
       "      <td>0</td>\n",
       "      <td>0</td>\n",
       "    </tr>\n",
       "    <tr>\n",
       "      <th>2132</th>\n",
       "      <td>1</td>\n",
       "      <td>1</td>\n",
       "      <td>1</td>\n",
       "      <td>1</td>\n",
       "      <td>1</td>\n",
       "      <td>1</td>\n",
       "      <td>1</td>\n",
       "      <td>1</td>\n",
       "      <td>1</td>\n",
       "      <td>1</td>\n",
       "      <td>1</td>\n",
       "      <td>1</td>\n",
       "      <td>1</td>\n",
       "      <td>6</td>\n",
       "      <td>1</td>\n",
       "      <td>1</td>\n",
       "    </tr>\n",
       "  </tbody>\n",
       "</table>\n",
       "<p>2133 rows × 16 columns</p>\n",
       "</div>"
      ],
      "text/plain": [
       "      quarter  laboratory  k  ca2  fe3  fe2  cl  so4  hco3  co3  no2  \\\n",
       "0           0           0  0    0    1    1   0    1     1    1    1   \n",
       "1           0           0  0    0    1    1   0    1     1    1    1   \n",
       "2           1           0  1    1    1    1   1    1     1    1    1   \n",
       "3           0           1  1    1    1    1   1    1     1    1    0   \n",
       "4           1           1  0    1    1    1   0    1     1    1    0   \n",
       "...       ...         ... ..  ...  ...  ...  ..  ...   ...  ...  ...   \n",
       "2128        1           0  1    1    1    1   1    1     1    1    1   \n",
       "2129        0           1  1    1    1    1   1    1     1    1    1   \n",
       "2130        1           1  1    1    1    1   1    1     1    0    1   \n",
       "2131        0           1  1    1    1    1   1    1     1    1    1   \n",
       "2132        1           1  1    1    1    1   1    1     1    1    1   \n",
       "\n",
       "      hardness_general  ph  color  smell  tatse  \n",
       "0                    0   1      6      1      5  \n",
       "1                    0   1      6      1      5  \n",
       "2                    1   1      6      1      1  \n",
       "3                    1   1      6      1      1  \n",
       "4                    0   1      6      1      3  \n",
       "...                ...  ..    ...    ...    ...  \n",
       "2128                 1   1      6      1      1  \n",
       "2129                 1   1      6      1      1  \n",
       "2130                 1   1      6      1      1  \n",
       "2131                 1   1      6      0      0  \n",
       "2132                 1   1      6      1      1  \n",
       "\n",
       "[2133 rows x 16 columns]"
      ]
     },
     "execution_count": 15,
     "metadata": {},
     "output_type": "execute_result"
    }
   ],
   "source": [
    "X"
   ]
  },
  {
   "cell_type": "code",
   "execution_count": 16,
   "metadata": {},
   "outputs": [],
   "source": [
    "X.to_csv(\"Vietnam dataset-phase-3/data-phase-3/daluong-preprocessed-data2.csv\")"
   ]
  },
  {
   "cell_type": "code",
   "execution_count": 17,
   "metadata": {
    "id": "6gM4GPxOqg1x"
   },
   "outputs": [],
   "source": [
    "#X.info()"
   ]
  },
  {
   "cell_type": "code",
   "execution_count": 18,
   "metadata": {
    "id": "sFl1GxlyoSK3"
   },
   "outputs": [],
   "source": [
    "#X = df2.drop(['well_code', 'is_drinkable', 'wqi', 'wqc'], inplace = True, axis =1)"
   ]
  },
  {
   "cell_type": "code",
   "execution_count": 19,
   "metadata": {
    "id": "ibCDp2YQuAtF"
   },
   "outputs": [],
   "source": [
    "#df3.shape"
   ]
  },
  {
   "cell_type": "markdown",
   "metadata": {
    "id": "Q3znx1KBtGZP"
   },
   "source": [
    "#5. Baseline Model Selection"
   ]
  },
  {
   "cell_type": "markdown",
   "metadata": {
    "id": "H5qPivXXYqnt"
   },
   "source": [
    "### Support Vector Machine"
   ]
  },
  {
   "cell_type": "code",
   "execution_count": 20,
   "metadata": {
    "id": "AUNgDP_5Yqnt"
   },
   "outputs": [],
   "source": [
    "from sklearn.metrics import confusion_matrix\n",
    "from sklearn.model_selection import train_test_split\n",
    "from sklearn import svm, datasets\n",
    "import matplotlib.pyplot as plt\n",
    "import numpy as np"
   ]
  },
  {
   "cell_type": "markdown",
   "metadata": {
    "id": "dDBqllOXYqnt"
   },
   "source": [
    "### Data Pre-processing"
   ]
  },
  {
   "cell_type": "code",
   "execution_count": 21,
   "metadata": {
    "colab": {
     "base_uri": "https://localhost:8080/",
     "height": 70
    },
    "id": "xVQmEeXfYqnu",
    "outputId": "5ac15aa6-4273-49aa-8236-b9395425df0f"
   },
   "outputs": [
    {
     "data": {
      "text/plain": [
       "'\\nimport numpy as np\\nfrom sklearn.preprocessing import MinMaxScaler\\nscaler=MinMaxScaler()\\nnumeric=[\"pH\",\"EC\",\"TDS\",\"TH\",\"Alkalinity\",\"Calcium\",\"Magnesium\",\"Sodium\",\"Potassium\",\"Bicarbonate\",\"Chloride\",\"Sulphate\",\"Fluoride\"]\\nfor column in numeric:\\n    scaler.fit(df3[column].values.reshape(-1,1))\\n    df3[column]=scaler.transform(df3[column].values.reshape(-1,1))\\n'"
      ]
     },
     "execution_count": 21,
     "metadata": {},
     "output_type": "execute_result"
    }
   ],
   "source": [
    "'''\n",
    "import numpy as np\n",
    "from sklearn.preprocessing import MinMaxScaler\n",
    "scaler=MinMaxScaler()\n",
    "numeric=[\"pH\",\"EC\",\"TDS\",\"TH\",\"Alkalinity\",\"Calcium\",\"Magnesium\",\"Sodium\",\"Potassium\",\"Bicarbonate\",\"Chloride\",\"Sulphate\",\"Fluoride\"]\n",
    "for column in numeric:\n",
    "    scaler.fit(df3[column].values.reshape(-1,1))\n",
    "    df3[column]=scaler.transform(df3[column].values.reshape(-1,1))\n",
    "'''        "
   ]
  },
  {
   "cell_type": "code",
   "execution_count": 22,
   "metadata": {
    "id": "oDhrADygAR-r"
   },
   "outputs": [],
   "source": [
    "from sklearn.preprocessing import StandardScaler\n",
    "from sklearn.preprocessing import MinMaxScaler\n",
    "scaler=MinMaxScaler()\n",
    "sc = StandardScaler()\n",
    "#X = pd.DataFrame(sc.fit_transform(X))\n",
    "X = pd.DataFrame(scaler.fit_transform(X))"
   ]
  },
  {
   "cell_type": "code",
   "execution_count": 23,
   "metadata": {},
   "outputs": [
    {
     "data": {
      "text/html": [
       "<div>\n",
       "<style scoped>\n",
       "    .dataframe tbody tr th:only-of-type {\n",
       "        vertical-align: middle;\n",
       "    }\n",
       "\n",
       "    .dataframe tbody tr th {\n",
       "        vertical-align: top;\n",
       "    }\n",
       "\n",
       "    .dataframe thead th {\n",
       "        text-align: right;\n",
       "    }\n",
       "</style>\n",
       "<table border=\"1\" class=\"dataframe\">\n",
       "  <thead>\n",
       "    <tr style=\"text-align: right;\">\n",
       "      <th></th>\n",
       "      <th>0</th>\n",
       "      <th>1</th>\n",
       "      <th>2</th>\n",
       "      <th>3</th>\n",
       "      <th>4</th>\n",
       "      <th>5</th>\n",
       "      <th>6</th>\n",
       "      <th>7</th>\n",
       "      <th>8</th>\n",
       "      <th>9</th>\n",
       "      <th>10</th>\n",
       "      <th>11</th>\n",
       "      <th>12</th>\n",
       "      <th>13</th>\n",
       "      <th>14</th>\n",
       "      <th>15</th>\n",
       "    </tr>\n",
       "  </thead>\n",
       "  <tbody>\n",
       "    <tr>\n",
       "      <th>0</th>\n",
       "      <td>0.0</td>\n",
       "      <td>0.0</td>\n",
       "      <td>0.0</td>\n",
       "      <td>0.0</td>\n",
       "      <td>1.0</td>\n",
       "      <td>1.0</td>\n",
       "      <td>0.0</td>\n",
       "      <td>1.0</td>\n",
       "      <td>1.0</td>\n",
       "      <td>1.0</td>\n",
       "      <td>1.0</td>\n",
       "      <td>0.0</td>\n",
       "      <td>1.0</td>\n",
       "      <td>0.5</td>\n",
       "      <td>0.5</td>\n",
       "      <td>1.0</td>\n",
       "    </tr>\n",
       "    <tr>\n",
       "      <th>1</th>\n",
       "      <td>0.0</td>\n",
       "      <td>0.0</td>\n",
       "      <td>0.0</td>\n",
       "      <td>0.0</td>\n",
       "      <td>1.0</td>\n",
       "      <td>1.0</td>\n",
       "      <td>0.0</td>\n",
       "      <td>1.0</td>\n",
       "      <td>1.0</td>\n",
       "      <td>1.0</td>\n",
       "      <td>1.0</td>\n",
       "      <td>0.0</td>\n",
       "      <td>1.0</td>\n",
       "      <td>0.5</td>\n",
       "      <td>0.5</td>\n",
       "      <td>1.0</td>\n",
       "    </tr>\n",
       "    <tr>\n",
       "      <th>2</th>\n",
       "      <td>0.5</td>\n",
       "      <td>0.0</td>\n",
       "      <td>1.0</td>\n",
       "      <td>1.0</td>\n",
       "      <td>1.0</td>\n",
       "      <td>1.0</td>\n",
       "      <td>1.0</td>\n",
       "      <td>1.0</td>\n",
       "      <td>1.0</td>\n",
       "      <td>1.0</td>\n",
       "      <td>1.0</td>\n",
       "      <td>1.0</td>\n",
       "      <td>1.0</td>\n",
       "      <td>0.5</td>\n",
       "      <td>0.5</td>\n",
       "      <td>0.2</td>\n",
       "    </tr>\n",
       "    <tr>\n",
       "      <th>3</th>\n",
       "      <td>0.0</td>\n",
       "      <td>1.0</td>\n",
       "      <td>1.0</td>\n",
       "      <td>1.0</td>\n",
       "      <td>1.0</td>\n",
       "      <td>1.0</td>\n",
       "      <td>1.0</td>\n",
       "      <td>1.0</td>\n",
       "      <td>1.0</td>\n",
       "      <td>1.0</td>\n",
       "      <td>0.0</td>\n",
       "      <td>1.0</td>\n",
       "      <td>1.0</td>\n",
       "      <td>0.5</td>\n",
       "      <td>0.5</td>\n",
       "      <td>0.2</td>\n",
       "    </tr>\n",
       "    <tr>\n",
       "      <th>4</th>\n",
       "      <td>0.5</td>\n",
       "      <td>1.0</td>\n",
       "      <td>0.0</td>\n",
       "      <td>1.0</td>\n",
       "      <td>1.0</td>\n",
       "      <td>1.0</td>\n",
       "      <td>0.0</td>\n",
       "      <td>1.0</td>\n",
       "      <td>1.0</td>\n",
       "      <td>1.0</td>\n",
       "      <td>0.0</td>\n",
       "      <td>0.0</td>\n",
       "      <td>1.0</td>\n",
       "      <td>0.5</td>\n",
       "      <td>0.5</td>\n",
       "      <td>0.6</td>\n",
       "    </tr>\n",
       "    <tr>\n",
       "      <th>...</th>\n",
       "      <td>...</td>\n",
       "      <td>...</td>\n",
       "      <td>...</td>\n",
       "      <td>...</td>\n",
       "      <td>...</td>\n",
       "      <td>...</td>\n",
       "      <td>...</td>\n",
       "      <td>...</td>\n",
       "      <td>...</td>\n",
       "      <td>...</td>\n",
       "      <td>...</td>\n",
       "      <td>...</td>\n",
       "      <td>...</td>\n",
       "      <td>...</td>\n",
       "      <td>...</td>\n",
       "      <td>...</td>\n",
       "    </tr>\n",
       "    <tr>\n",
       "      <th>2128</th>\n",
       "      <td>0.5</td>\n",
       "      <td>0.0</td>\n",
       "      <td>1.0</td>\n",
       "      <td>1.0</td>\n",
       "      <td>1.0</td>\n",
       "      <td>1.0</td>\n",
       "      <td>1.0</td>\n",
       "      <td>1.0</td>\n",
       "      <td>1.0</td>\n",
       "      <td>1.0</td>\n",
       "      <td>1.0</td>\n",
       "      <td>1.0</td>\n",
       "      <td>1.0</td>\n",
       "      <td>0.5</td>\n",
       "      <td>0.5</td>\n",
       "      <td>0.2</td>\n",
       "    </tr>\n",
       "    <tr>\n",
       "      <th>2129</th>\n",
       "      <td>0.0</td>\n",
       "      <td>1.0</td>\n",
       "      <td>1.0</td>\n",
       "      <td>1.0</td>\n",
       "      <td>1.0</td>\n",
       "      <td>1.0</td>\n",
       "      <td>1.0</td>\n",
       "      <td>1.0</td>\n",
       "      <td>1.0</td>\n",
       "      <td>1.0</td>\n",
       "      <td>1.0</td>\n",
       "      <td>1.0</td>\n",
       "      <td>1.0</td>\n",
       "      <td>0.5</td>\n",
       "      <td>0.5</td>\n",
       "      <td>0.2</td>\n",
       "    </tr>\n",
       "    <tr>\n",
       "      <th>2130</th>\n",
       "      <td>0.5</td>\n",
       "      <td>1.0</td>\n",
       "      <td>1.0</td>\n",
       "      <td>1.0</td>\n",
       "      <td>1.0</td>\n",
       "      <td>1.0</td>\n",
       "      <td>1.0</td>\n",
       "      <td>1.0</td>\n",
       "      <td>1.0</td>\n",
       "      <td>0.0</td>\n",
       "      <td>1.0</td>\n",
       "      <td>1.0</td>\n",
       "      <td>1.0</td>\n",
       "      <td>0.5</td>\n",
       "      <td>0.5</td>\n",
       "      <td>0.2</td>\n",
       "    </tr>\n",
       "    <tr>\n",
       "      <th>2131</th>\n",
       "      <td>0.0</td>\n",
       "      <td>1.0</td>\n",
       "      <td>1.0</td>\n",
       "      <td>1.0</td>\n",
       "      <td>1.0</td>\n",
       "      <td>1.0</td>\n",
       "      <td>1.0</td>\n",
       "      <td>1.0</td>\n",
       "      <td>1.0</td>\n",
       "      <td>1.0</td>\n",
       "      <td>1.0</td>\n",
       "      <td>1.0</td>\n",
       "      <td>1.0</td>\n",
       "      <td>0.5</td>\n",
       "      <td>0.0</td>\n",
       "      <td>0.0</td>\n",
       "    </tr>\n",
       "    <tr>\n",
       "      <th>2132</th>\n",
       "      <td>0.5</td>\n",
       "      <td>1.0</td>\n",
       "      <td>1.0</td>\n",
       "      <td>1.0</td>\n",
       "      <td>1.0</td>\n",
       "      <td>1.0</td>\n",
       "      <td>1.0</td>\n",
       "      <td>1.0</td>\n",
       "      <td>1.0</td>\n",
       "      <td>1.0</td>\n",
       "      <td>1.0</td>\n",
       "      <td>1.0</td>\n",
       "      <td>1.0</td>\n",
       "      <td>0.5</td>\n",
       "      <td>0.5</td>\n",
       "      <td>0.2</td>\n",
       "    </tr>\n",
       "  </tbody>\n",
       "</table>\n",
       "<p>2133 rows × 16 columns</p>\n",
       "</div>"
      ],
      "text/plain": [
       "       0    1    2    3    4    5    6    7    8    9    10   11   12   13  \\\n",
       "0     0.0  0.0  0.0  0.0  1.0  1.0  0.0  1.0  1.0  1.0  1.0  0.0  1.0  0.5   \n",
       "1     0.0  0.0  0.0  0.0  1.0  1.0  0.0  1.0  1.0  1.0  1.0  0.0  1.0  0.5   \n",
       "2     0.5  0.0  1.0  1.0  1.0  1.0  1.0  1.0  1.0  1.0  1.0  1.0  1.0  0.5   \n",
       "3     0.0  1.0  1.0  1.0  1.0  1.0  1.0  1.0  1.0  1.0  0.0  1.0  1.0  0.5   \n",
       "4     0.5  1.0  0.0  1.0  1.0  1.0  0.0  1.0  1.0  1.0  0.0  0.0  1.0  0.5   \n",
       "...   ...  ...  ...  ...  ...  ...  ...  ...  ...  ...  ...  ...  ...  ...   \n",
       "2128  0.5  0.0  1.0  1.0  1.0  1.0  1.0  1.0  1.0  1.0  1.0  1.0  1.0  0.5   \n",
       "2129  0.0  1.0  1.0  1.0  1.0  1.0  1.0  1.0  1.0  1.0  1.0  1.0  1.0  0.5   \n",
       "2130  0.5  1.0  1.0  1.0  1.0  1.0  1.0  1.0  1.0  0.0  1.0  1.0  1.0  0.5   \n",
       "2131  0.0  1.0  1.0  1.0  1.0  1.0  1.0  1.0  1.0  1.0  1.0  1.0  1.0  0.5   \n",
       "2132  0.5  1.0  1.0  1.0  1.0  1.0  1.0  1.0  1.0  1.0  1.0  1.0  1.0  0.5   \n",
       "\n",
       "       14   15  \n",
       "0     0.5  1.0  \n",
       "1     0.5  1.0  \n",
       "2     0.5  0.2  \n",
       "3     0.5  0.2  \n",
       "4     0.5  0.6  \n",
       "...   ...  ...  \n",
       "2128  0.5  0.2  \n",
       "2129  0.5  0.2  \n",
       "2130  0.5  0.2  \n",
       "2131  0.0  0.0  \n",
       "2132  0.5  0.2  \n",
       "\n",
       "[2133 rows x 16 columns]"
      ]
     },
     "execution_count": 23,
     "metadata": {},
     "output_type": "execute_result"
    }
   ],
   "source": [
    "X"
   ]
  },
  {
   "cell_type": "markdown",
   "metadata": {
    "id": "xOf1wsjwNwSY"
   },
   "source": [
    "## Applying RandomOverSampler"
   ]
  },
  {
   "cell_type": "code",
   "execution_count": 26,
   "metadata": {
    "colab": {
     "base_uri": "https://localhost:8080/"
    },
    "id": "juAhgck3ORWq",
    "outputId": "bb954340-3628-45b1-9430-71e5af632000"
   },
   "outputs": [
    {
     "name": "stdout",
     "output_type": "stream",
     "text": [
      "Requirement already satisfied: imbalanced-learn in c:\\users\\dell\\anaconda3\\envs\\geometric\\lib\\site-packages (0.10.1)\n",
      "Requirement already satisfied: numpy>=1.17.3 in c:\\users\\dell\\anaconda3\\envs\\geometric\\lib\\site-packages (from imbalanced-learn) (1.23.5)\n",
      "Requirement already satisfied: scipy>=1.3.2 in c:\\users\\dell\\anaconda3\\envs\\geometric\\lib\\site-packages (from imbalanced-learn) (1.10.1)\n",
      "Requirement already satisfied: scikit-learn>=1.0.2 in c:\\users\\dell\\anaconda3\\envs\\geometric\\lib\\site-packages (from imbalanced-learn) (1.2.2)\n",
      "Requirement already satisfied: joblib>=1.1.1 in c:\\users\\dell\\anaconda3\\envs\\geometric\\lib\\site-packages (from imbalanced-learn) (1.2.0)\n",
      "Requirement already satisfied: threadpoolctl>=2.0.0 in c:\\users\\dell\\anaconda3\\envs\\geometric\\lib\\site-packages (from imbalanced-learn) (3.1.0)\n"
     ]
    }
   ],
   "source": [
    "!pip install -U imbalanced-learn\n"
   ]
  },
  {
   "cell_type": "code",
   "execution_count": 28,
   "metadata": {},
   "outputs": [
    {
     "name": "stderr",
     "output_type": "stream",
     "text": [
      "Cloning into 'imbalanced-learn'...\n",
      "ERROR: Directory '.' is not installable. Neither 'setup.py' nor 'pyproject.toml' found.\n"
     ]
    }
   ],
   "source": [
    "!git clone https://github.com/scikit-learn-contrib/imbalanced-learn.git\n",
    "!cd imbalanced-learn\n",
    "!pip install ."
   ]
  },
  {
   "cell_type": "code",
   "execution_count": 84,
   "metadata": {
    "colab": {
     "base_uri": "https://localhost:8080/"
    },
    "id": "OfdVn9PPXQKb",
    "outputId": "a83448d6-7916-4dc6-c361-22b7dcff7576"
   },
   "outputs": [
    {
     "name": "stdout",
     "output_type": "stream",
     "text": [
      "[(0, 1403), (1, 125), (2, 74), (3, 506), (4, 25)]\n"
     ]
    }
   ],
   "source": [
    "#Before\n",
    "from collections import Counter\n",
    "\n",
    "print(sorted(Counter(y).items()))"
   ]
  },
  {
   "cell_type": "code",
   "execution_count": 85,
   "metadata": {
    "colab": {
     "base_uri": "https://localhost:8080/"
    },
    "id": "C5Z8tLRzN9O4",
    "outputId": "65f2478b-0cbb-4e92-fef9-3669662827e1"
   },
   "outputs": [
    {
     "ename": "ModuleNotFoundError",
     "evalue": "No module named 'imblearn'",
     "output_type": "error",
     "traceback": [
      "\u001b[1;31m---------------------------------------------------------------------------\u001b[0m",
      "\u001b[1;31mModuleNotFoundError\u001b[0m                       Traceback (most recent call last)",
      "Cell \u001b[1;32mIn[85], line 1\u001b[0m\n\u001b[1;32m----> 1\u001b[0m \u001b[38;5;28;01mimport\u001b[39;00m \u001b[38;5;21;01mimblearn\u001b[39;00m\n\u001b[0;32m      2\u001b[0m \u001b[38;5;28;01mfrom\u001b[39;00m \u001b[38;5;21;01mimblearn\u001b[39;00m\u001b[38;5;21;01m.\u001b[39;00m\u001b[38;5;21;01mover_sampling\u001b[39;00m \u001b[38;5;28;01mimport\u001b[39;00m SMOTE, RandomOverSampler\n\u001b[0;32m      4\u001b[0m \u001b[38;5;66;03m#smote = SMOTE('minority', k_neighbors = 2)\u001b[39;00m\n\u001b[0;32m      5\u001b[0m \u001b[38;5;66;03m#smote = SMOTE(sampling_strategy = \"auto\", k_neighbors = 1)\u001b[39;00m\n",
      "\u001b[1;31mModuleNotFoundError\u001b[0m: No module named 'imblearn'"
     ]
    }
   ],
   "source": [
    "import imblearn\n",
    "from imblearn.over_sampling import SMOTE, RandomOverSampler\n",
    "\n",
    "#smote = SMOTE('minority', k_neighbors = 2)\n",
    "#smote = SMOTE(sampling_strategy = \"auto\", k_neighbors = 1)\n",
    "ros = RandomOverSampler(random_state=0)\n",
    "X, y = ros.fit_resample(X, y)     #After resampling the dataset\n",
    "print(X.shape, y.shape)"
   ]
  },
  {
   "cell_type": "code",
   "execution_count": null,
   "metadata": {
    "colab": {
     "base_uri": "https://localhost:8080/"
    },
    "id": "xvNrYh_1ej3r",
    "outputId": "f30afa1c-3b0a-47d4-84e3-43e6cfe38e75"
   },
   "outputs": [],
   "source": [
    "#Distribution of classes after resampling\n",
    "print(sorted(Counter(y).items()))"
   ]
  },
  {
   "cell_type": "markdown",
   "metadata": {
    "id": "LyZvE9fuWsWO"
   },
   "source": [
    "We can now visualize count plot to have an equal number of samples for each class in the target."
   ]
  },
  {
   "cell_type": "code",
   "execution_count": null,
   "metadata": {
    "colab": {
     "base_uri": "https://localhost:8080/",
     "height": 296
    },
    "id": "S69JJmOGWubA",
    "outputId": "22fedbf5-5710-491a-fdfe-a7735d501415"
   },
   "outputs": [],
   "source": [
    "sns.countplot(y)"
   ]
  },
  {
   "cell_type": "code",
   "execution_count": null,
   "metadata": {
    "colab": {
     "base_uri": "https://localhost:8080/"
    },
    "id": "LMgz2jewAIrA",
    "outputId": "351ae10b-599d-4c33-c537-cb03b80cc5da"
   },
   "outputs": [],
   "source": [
    "print(X), print(y)"
   ]
  },
  {
   "cell_type": "code",
   "execution_count": null,
   "metadata": {
    "colab": {
     "base_uri": "https://localhost:8080/"
    },
    "id": "XwtQnI61KUwJ",
    "outputId": "ef6b813a-3123-4c06-bb2a-d5ba10f907f1"
   },
   "outputs": [],
   "source": [
    "X_ = np.array(X) #Converting column features to a numpy array\n",
    "print(X_)"
   ]
  },
  {
   "cell_type": "code",
   "execution_count": null,
   "metadata": {
    "colab": {
     "base_uri": "https://localhost:8080/"
    },
    "id": "1Zjo1MGIKhCO",
    "outputId": "375ba5c5-0327-4c4d-ab8b-b9e66d24594d"
   },
   "outputs": [],
   "source": [
    "y_ = np.array(y)   #Converting target column to a numpy array\n",
    "print(y_)"
   ]
  },
  {
   "cell_type": "code",
   "execution_count": null,
   "metadata": {
    "colab": {
     "base_uri": "https://localhost:8080/",
     "height": 53
    },
    "id": "9PSsFhq2A7Hl",
    "outputId": "b375cbc8-608f-4b0e-9be6-34d4a5623d92"
   },
   "outputs": [],
   "source": [
    "'''\n",
    "X_ = np.array(list(X.values))   #Converting column features to a list of values\n",
    "y_ = np.array(list(y.values))   #Converting target column to a list of values\n",
    "X_, y_\n",
    "'''"
   ]
  },
  {
   "cell_type": "code",
   "execution_count": null,
   "metadata": {
    "colab": {
     "base_uri": "https://localhost:8080/"
    },
    "id": "Hwl392C9JsU5",
    "outputId": "d4b8b5f9-342d-4390-bd0b-b56aa61e5068"
   },
   "outputs": [],
   "source": [
    "print(y_), print(len(y_))"
   ]
  },
  {
   "cell_type": "code",
   "execution_count": null,
   "metadata": {
    "colab": {
     "base_uri": "https://localhost:8080/"
    },
    "id": "yGWwk4tMApZ7",
    "outputId": "c207c9ed-9bff-4471-b08d-05d12e6971d0"
   },
   "outputs": [],
   "source": [
    "print(X.shape), print(y.shape), print(len(X_)), print(len(y_))"
   ]
  },
  {
   "cell_type": "markdown",
   "metadata": {
    "id": "OIN1Ff5dYqnv"
   },
   "source": [
    "# Model Training "
   ]
  },
  {
   "cell_type": "code",
   "execution_count": null,
   "metadata": {
    "id": "0eWF3hUhYqnv"
   },
   "outputs": [],
   "source": [
    "#X_train, X_test, y_train, y_test = train_test_split(X, y, train_size=0.8, random_state = 1)"
   ]
  },
  {
   "cell_type": "code",
   "execution_count": null,
   "metadata": {
    "id": "RXUbfbT1LaE8"
   },
   "outputs": [],
   "source": [
    "#X_train.shape, X_test.shape, y_train.shape, y_test.shape"
   ]
  },
  {
   "cell_type": "markdown",
   "metadata": {
    "id": "07_3TKMht9vs"
   },
   "source": [
    "It is observed that we have 2138 samples before and 8125 after applying Random over sampling technique. It looks like RandomOverSampler has increased the number of samples for minority classes. We will check the performance of the model with the new train dataset."
   ]
  },
  {
   "cell_type": "markdown",
   "metadata": {
    "id": "r3c4Y4OU0Crg"
   },
   "source": [
    "# Applying K-Fold Cross-validation"
   ]
  },
  {
   "cell_type": "markdown",
   "metadata": {
    "id": "k_iRtUFhFRB-"
   },
   "source": [
    "### Using cross_val_score function"
   ]
  },
  {
   "cell_type": "markdown",
   "metadata": {
    "id": "gEzlkz7Ifak6"
   },
   "source": [
    "### Trying it out with SVM Linear"
   ]
  },
  {
   "cell_type": "code",
   "execution_count": null,
   "metadata": {
    "colab": {
     "base_uri": "https://localhost:8080/"
    },
    "id": "1y2uKGVphWwV",
    "outputId": "2fa806f7-e304-4116-b9ac-11dbffeb79ad"
   },
   "outputs": [],
   "source": [
    "from sklearn.model_selection import cross_val_score\n",
    "linear_svm = svm.SVC(kernel='linear', C=1, decision_function_shape='ovo', random_state=42)\n",
    "#scores = cross_val_score(clf, X_, y_, cv=5)\n",
    "scores = cross_val_score(linear_svm, X_, y_, cv=5, scoring='f1_macro')\n",
    "print(scores)"
   ]
  },
  {
   "cell_type": "markdown",
   "metadata": {
    "id": "iupmdEfBjKQw"
   },
   "source": [
    "As seen above, a linear kernel support vector machine (Linear SVM) gives the accuracy by splitting the data, fitting a model and computing the score 5 consecutive times (with different splits each time). Since the samples are balanced across target classes hence the accuracy and the F1-score are almost equal."
   ]
  },
  {
   "cell_type": "markdown",
   "metadata": {
    "id": "2wtdk2R0nyBz"
   },
   "source": [
    "The mean score and the standard deviation are hence given by:"
   ]
  },
  {
   "cell_type": "code",
   "execution_count": null,
   "metadata": {
    "colab": {
     "base_uri": "https://localhost:8080/"
    },
    "id": "wiJ-15SAnnP0",
    "outputId": "5c4a45b4-d96d-454f-a553-e06db12ae715"
   },
   "outputs": [],
   "source": [
    "print(\"%0.2f accuracy with a standard deviation of %0.2f\" % (scores.mean(), scores.std()))"
   ]
  },
  {
   "cell_type": "markdown",
   "metadata": {
    "id": "cytuvvVcpbkn"
   },
   "source": [
    "When the cv argument is an integer, cross_val_score uses the **KFold** or **StratifiedKFold** strategies by default, the latter being used if the estimator derives from ClassifierMixin."
   ]
  },
  {
   "cell_type": "markdown",
   "metadata": {
    "id": "4KRjb0jCqBvW"
   },
   "source": [
    "It is also possible to use other cross validation strategies by passing a cross validation iterator instead, for instance:"
   ]
  },
  {
   "cell_type": "code",
   "execution_count": null,
   "metadata": {
    "colab": {
     "base_uri": "https://localhost:8080/"
    },
    "id": "ZwOjinxZqFZA",
    "outputId": "50e56be2-230a-46e8-abbd-81a272cb892d"
   },
   "outputs": [],
   "source": [
    "from sklearn.model_selection import ShuffleSplit\n",
    "n_samples = X.shape[0]\n",
    "cv = ShuffleSplit(n_splits=5, test_size=0.3, random_state=0)\n",
    "cross_val_score(linear_svm, X_, y_, cv=cv)"
   ]
  },
  {
   "cell_type": "markdown",
   "metadata": {
    "id": "rN6pRSjdE8cd"
   },
   "source": [
    "### Using Cross_validate function"
   ]
  },
  {
   "cell_type": "markdown",
   "metadata": {
    "id": "dDnRBnCiE5Ex"
   },
   "source": [
    "The cross_validate function differs from cross_val_score in two ways:\n",
    "\n",
    "It allows specifying multiple metrics for evaluation.\n",
    "\n",
    "It returns a dict containing fit-times, score-times (and optionally training scores as well as fitted estimators) in addition to the test score.\n",
    "\n",
    "For single metric evaluation, where the scoring parameter is a string, callable or None, the keys will be - ['test_score', 'fit_time', 'score_time']\n",
    "\n",
    "And for multiple metric evaluation, the return value is a dict with the following keys - ['test_<scorer1_name>', 'test_<scorer2_name>', 'test_<scorer...>', 'fit_time', 'score_time']\n",
    "\n",
    "return_train_score is set to False by default to save computation time. To evaluate the scores on the training set as well you need to set it to True.\n",
    "\n",
    "You may also retain the estimator fitted on each training set by setting return_estimator=True.\n",
    "\n",
    "The multiple metrics can be specified either as a list, tuple or set of predefined scorer names:"
   ]
  },
  {
   "cell_type": "code",
   "execution_count": null,
   "metadata": {
    "id": "TdAifLNZCra5"
   },
   "outputs": [],
   "source": [
    "from sklearn.model_selection import cross_validate\n",
    "from sklearn.metrics import recall_score\n",
    "\n",
    "'''\n",
    "scoring = ['precision_macro', 'recall_macro']\n",
    "linear_svm = svm.SVC(kernel='linear', C=1, decision_function_shape='ovo', random_state=0)\n",
    "scores = cross_validate(linear_svm, X_, y_, scoring=scoring)\n",
    "'''"
   ]
  },
  {
   "cell_type": "code",
   "execution_count": null,
   "metadata": {
    "colab": {
     "base_uri": "https://localhost:8080/"
    },
    "id": "67Czec9DDOQO",
    "outputId": "e68becab-02aa-4813-d120-3dc16ded8ff5"
   },
   "outputs": [],
   "source": [
    "'''\n",
    "sorted(scores.keys())\n",
    "'''\n",
    "#['fit_time', 'score_time', 'test_precision_macro', 'test_recall_macro']"
   ]
  },
  {
   "cell_type": "code",
   "execution_count": null,
   "metadata": {
    "id": "61ASbER1DToO"
   },
   "outputs": [],
   "source": [
    "#scores['test_recall_macro']"
   ]
  },
  {
   "cell_type": "markdown",
   "metadata": {
    "id": "Q50rapNgDl5v"
   },
   "source": [
    "The multiple metrics can also be specified as a dict mapping scorer name to a predefined or custom scoring function:"
   ]
  },
  {
   "cell_type": "code",
   "execution_count": null,
   "metadata": {
    "id": "uncWfdHHI09z"
   },
   "outputs": [],
   "source": [
    "'''\n",
    "from sklearn.metrics import make_scorer\n",
    "scoring = {'prec_macro': 'precision_macro',\n",
    "            'rec_macro': make_scorer(recall_score, average='macro')}\n",
    "scores = cross_validate(linear_svm, X_, y_, scoring=scoring,\n",
    "                          cv=5, return_train_score=True)\n",
    "'''"
   ]
  },
  {
   "cell_type": "code",
   "execution_count": null,
   "metadata": {
    "id": "4lvb0I2AJVw8"
   },
   "outputs": [],
   "source": [
    "#sorted(scores.keys())\n"
   ]
  },
  {
   "cell_type": "code",
   "execution_count": null,
   "metadata": {
    "id": "R7PNrJrCJlrc"
   },
   "outputs": [],
   "source": [
    "#scores['train_rec_macro']"
   ]
  },
  {
   "cell_type": "code",
   "execution_count": null,
   "metadata": {
    "colab": {
     "base_uri": "https://localhost:8080/"
    },
    "id": "qACNU0R2KFL2",
    "outputId": "ade3a067-abf4-41e4-eb07-92377eba953a"
   },
   "outputs": [],
   "source": [
    "#scores['train_prec_macro']"
   ]
  },
  {
   "cell_type": "markdown",
   "metadata": {
    "id": "IE66MwWCKeST"
   },
   "source": [
    "Cross_validate function can also be used as a single metric as shown below:"
   ]
  },
  {
   "cell_type": "code",
   "execution_count": null,
   "metadata": {
    "id": "h9m4di3lKdaS"
   },
   "outputs": [],
   "source": [
    "'''\n",
    "scores = cross_validate(linear_svm, X_, y_,\n",
    "                        scoring='precision_macro', cv=5,\n",
    "                         return_estimator=True)\n",
    "sorted(scores.keys())\n",
    "'''"
   ]
  },
  {
   "cell_type": "code",
   "execution_count": null,
   "metadata": {
    "id": "BPUL69erLRMf"
   },
   "outputs": [],
   "source": [
    "#scores['test_score']"
   ]
  },
  {
   "cell_type": "markdown",
   "metadata": {
    "id": "7In7N7550w6f"
   },
   "source": [
    "We will use the cross_validate function from the Scikit-Learn library’s model_selection module."
   ]
  },
  {
   "cell_type": "code",
   "execution_count": null,
   "metadata": {
    "id": "ljZS-TlmzvPR"
   },
   "outputs": [],
   "source": [
    "# K-Fold Cross-Validation\n",
    "from sklearn.model_selection import cross_validate\n",
    "\n",
    "def cross_validation(model, _X, _y, _cv=5):\n",
    "      '''Function to perform 5 Folds Cross-Validation\n",
    "       Parameters\n",
    "       ----------\n",
    "      model: Python Class, default=None\n",
    "              This is the machine learning algorithm to be used for training.\n",
    "      _X: array\n",
    "           This is the matrix of features.\n",
    "      _y: array\n",
    "           This is the target variable.\n",
    "      _cv: int, default=5\n",
    "          Determines the number of folds for cross-validation.\n",
    "       Returns\n",
    "       -------\n",
    "       The function returns a dictionary containing the metrics 'accuracy', 'precision',\n",
    "       'recall', 'f1' for both training set and validation set.\n",
    "      '''\n",
    "      #_scoring = ['accuracy', 'precision', 'recall', 'f1']\n",
    "      _scoring = {'prec_macro': 'precision_macro',\n",
    "            'rec_macro': make_scorer(recall_score, average='macro'),\n",
    "            'accuracy': 'accuracy',\n",
    "            'f1_weighted': 'f1_weighted'\n",
    "            }\n",
    "      results = cross_validate(estimator=model,\n",
    "                               X=_X,\n",
    "                               y=_y,\n",
    "                               cv=_cv,\n",
    "                               scoring=_scoring,\n",
    "                               return_train_score=True)\n",
    "      \n",
    "      return {\"Training Precision scores\": results['train_prec_macro'],\n",
    "              \"Mean Training Precision\": results['train_prec_macro'].mean(),\n",
    "                \"Training Recall scores\": results['train_rec_macro'],\n",
    "                \"Mean Training Recall\": results['train_rec_macro'].mean(),\n",
    "                \"Validation Precision scores\": results['test_prec_macro'],\n",
    "                \"Mean Validation Precision\": results['test_prec_macro'].mean(),\n",
    "                \"Validation Recall scores\": results['test_rec_macro'],\n",
    "                \"Mean Validation Recall\": results['test_rec_macro'].mean(),\n",
    "                \"Training Accuracy scores\": results['train_accuracy'],\n",
    "                \"Mean Training Accuracy\": results['train_accuracy'].mean()*100,\n",
    "                \"Validation Accuracy scores\": results['test_accuracy'],\n",
    "                \"Mean Validation Accuracy\": results['test_accuracy'].mean()*100,\n",
    "                \"Training F1 scores\": results['train_f1_weighted'],\n",
    "                \"Mean Training F1 Score\": results['train_f1_weighted'].mean(),\n",
    "                \"Validation F1 scores\": results['test_f1_weighted'],\n",
    "                \"Mean Validation F1 Score\": results['test_f1_weighted'].mean()\n",
    "                \n",
    "              }              "
   ]
  },
  {
   "cell_type": "markdown",
   "metadata": {
    "id": "r6ZLEoxh0mUo"
   },
   "source": [
    "The custom cross_validation function in the code above will perform 5-fold cross-validation. It returns the results of the metrics specified above.\n",
    "\n",
    "The estimator parameter of the cross_validate function receives the algorithm we want to use for training. The parameter X takes the matrix of features. The parameter y takes the target variable. The parameter scoring takes the metrics we want to use for evaluation. We pass a list containing metrics we want to use to check our model.\n",
    "\n",
    "For this guide, we will use accuracy, precision, recall, and f1 score. Setting the return_train_score to True will give us the training results.\n",
    "\n",
    "We create a function to visualize the training and validation results in each fold. The function will display a grouped bar chart."
   ]
  },
  {
   "cell_type": "code",
   "execution_count": null,
   "metadata": {
    "id": "5KAL5DHz0kmz"
   },
   "outputs": [],
   "source": [
    "# Grouped Bar Chart for both training and validation data\n",
    "def plot_result(x_label, y_label, plot_title, train_data, val_data):\n",
    "        '''Function to plot a grouped bar chart showing the training and validation\n",
    "          results of the ML model in each fold after applying K-fold cross-validation.\n",
    "         Parameters\n",
    "         ----------\n",
    "         x_label: str, \n",
    "            Name of the algorithm used for training e.g 'Decision Tree'\n",
    "          \n",
    "         y_label: str, \n",
    "            Name of metric being visualized e.g 'Accuracy'\n",
    "         plot_title: str, \n",
    "            This is the title of the plot e.g 'Accuracy Plot'\n",
    "         \n",
    "         train_result: list, array\n",
    "            This is the list containing either training precision, accuracy, or f1 score.\n",
    "        \n",
    "         val_result: list, array\n",
    "            This is the list containing either validation precision, accuracy, or f1 score.\n",
    "         Returns\n",
    "         -------\n",
    "         The function returns a Grouped Barchart showing the training and validation result\n",
    "         in each fold.\n",
    "        '''\n",
    "        \n",
    "        # Set size of plot\n",
    "        plt.figure(figsize=(12,6))\n",
    "        labels = [\"1st Fold\", \"2nd Fold\", \"3rd Fold\", \"4th Fold\", \"5th Fold\"]\n",
    "        X_axis = np.arange(len(labels))\n",
    "        ax = plt.gca()\n",
    "        plt.ylim(0.40000, 1)\n",
    "        plt.bar(X_axis-0.2, train_data, 0.4, color='turquoise', label='Training')\n",
    "        plt.bar(X_axis+0.2, val_data, 0.4, color='teal', label='Validation')\n",
    "        plt.title(plot_title, fontsize=20)\n",
    "        plt.xticks(X_axis, labels)\n",
    "        plt.xlabel(x_label, fontsize=14)\n",
    "        plt.ylabel(y_label, fontsize=14)\n",
    "        plt.legend()\n",
    "        plt.grid(True)\n",
    "        plt.show()"
   ]
  },
  {
   "cell_type": "markdown",
   "metadata": {
    "id": "9-tOFAaEezpB"
   },
   "source": [
    "### SVM Linear"
   ]
  },
  {
   "cell_type": "markdown",
   "metadata": {
    "id": "G2ucjSxJp66R"
   },
   "source": [
    "We will now train SVM Linear Algorithm using cross-validate function.\n",
    "\n"
   ]
  },
  {
   "cell_type": "code",
   "execution_count": null,
   "metadata": {
    "colab": {
     "base_uri": "https://localhost:8080/"
    },
    "id": "Cb0HJvh4ifAE",
    "outputId": "f430ed66-4073-4621-edbc-e210bf953a47"
   },
   "outputs": [],
   "source": [
    "linear_svm = svm.SVC(kernel='linear', C=1, decision_function_shape='ovo', random_state=0)\n",
    "\n",
    "linear_svm_result = cross_validation(linear_svm, X_, y_, 5)\n",
    "#print(linear_svm_result)\n",
    "#Printing key-value pairs of the dictionary for Linear SVM\n",
    "for key, value in linear_svm_result.items():\n",
    "    print(key+\":\", value)"
   ]
  },
  {
   "cell_type": "code",
   "execution_count": null,
   "metadata": {
    "colab": {
     "base_uri": "https://localhost:8080/",
     "height": 413
    },
    "id": "dExg-sqckTUq",
    "outputId": "256598b5-8f6b-4be9-9158-d7edc7f9bf48"
   },
   "outputs": [],
   "source": [
    "# Plot Accuracy Result\n",
    "model_name = \"Linear SVM\"\n",
    "plot_result(model_name,\n",
    "            \"Accuracy\",\n",
    "            \"Accuracy scores in 5 Folds\",\n",
    "            linear_svm_result[\"Training Accuracy scores\"],\n",
    "            linear_svm_result[\"Validation Accuracy scores\"])"
   ]
  },
  {
   "cell_type": "code",
   "execution_count": null,
   "metadata": {
    "colab": {
     "base_uri": "https://localhost:8080/",
     "height": 413
    },
    "id": "xartedmDke9L",
    "outputId": "de2a297e-3d13-4075-d915-0e1ba206669b"
   },
   "outputs": [],
   "source": [
    "# Plot Precision Result\n",
    "model_name = \"Linear SVM\"\n",
    "plot_result(model_name,\n",
    "            \"Precision\",\n",
    "            \"Precision scores in 5 Folds\",\n",
    "            linear_svm_result[\"Training Precision scores\"],\n",
    "            linear_svm_result[\"Validation Precision scores\"])"
   ]
  },
  {
   "cell_type": "code",
   "execution_count": null,
   "metadata": {
    "colab": {
     "base_uri": "https://localhost:8080/",
     "height": 413
    },
    "id": "XkikFGzfkgDc",
    "outputId": "ad421547-917e-4e1c-8189-9d6f3a14bb86"
   },
   "outputs": [],
   "source": [
    "# Plot Recall Result\n",
    "model_name = \"Linear SVM\"\n",
    "plot_result(model_name,\n",
    "            \"Recall\",\n",
    "            \"Recall scores in 5 Folds\",\n",
    "            linear_svm_result[\"Training Recall scores\"],\n",
    "            linear_svm_result[\"Validation Recall scores\"])"
   ]
  },
  {
   "cell_type": "code",
   "execution_count": null,
   "metadata": {
    "colab": {
     "base_uri": "https://localhost:8080/",
     "height": 413
    },
    "id": "HvgqVfi1kmrw",
    "outputId": "13740ba4-665a-4993-e01a-7f31c6c6766e"
   },
   "outputs": [],
   "source": [
    "# Plot F1-Score Result\n",
    "model_name = \"Linear SVM\"\n",
    "plot_result(model_name,\n",
    "            \"F1\",\n",
    "            \"F1 Scores in 5 Folds\",\n",
    "            linear_svm_result[\"Training F1 scores\"],\n",
    "            linear_svm_result[\"Validation F1 scores\"])"
   ]
  },
  {
   "cell_type": "markdown",
   "metadata": {
    "id": "0Lekb9mge8dV"
   },
   "source": [
    "### SVM Polynomial"
   ]
  },
  {
   "cell_type": "markdown",
   "metadata": {
    "id": "NI6jvYVvqGnR"
   },
   "source": [
    "We will now train SVM Polynomial Algorithm using cross-validate function."
   ]
  },
  {
   "cell_type": "code",
   "execution_count": null,
   "metadata": {
    "colab": {
     "base_uri": "https://localhost:8080/"
    },
    "id": "ZZ60Ly99n2ST",
    "outputId": "77f598bf-c488-4348-ad07-5633f7cc783c"
   },
   "outputs": [],
   "source": [
    "polynomial_svm = svm.SVC(kernel='poly', degree=3, C=1, decision_function_shape='ovo', random_state=0)\n",
    "\n",
    "polynomial_svm_result = cross_validation(polynomial_svm, X_, y_, 5)\n",
    "#print(polynomial_svm_result)\n",
    "#Printing key-value pairs of the dictionary for Polynomial SVM\n",
    "for key, value in polynomial_svm_result.items():\n",
    "    print(key+\":\", value)"
   ]
  },
  {
   "cell_type": "code",
   "execution_count": null,
   "metadata": {
    "colab": {
     "base_uri": "https://localhost:8080/",
     "height": 413
    },
    "id": "mkOLDslZoloS",
    "outputId": "eaf664ef-f89e-4093-9c3e-4a6f81921735"
   },
   "outputs": [],
   "source": [
    "# Plot Accuracy Result\n",
    "model_name = \"Polynomial SVM\"\n",
    "plot_result(model_name,\n",
    "            \"Accuracy\",\n",
    "            \"Accuracy scores in 5 Folds\",\n",
    "            polynomial_svm_result[\"Training Accuracy scores\"],\n",
    "            polynomial_svm_result[\"Validation Accuracy scores\"])"
   ]
  },
  {
   "cell_type": "code",
   "execution_count": null,
   "metadata": {
    "colab": {
     "base_uri": "https://localhost:8080/",
     "height": 413
    },
    "id": "03juh719opJ2",
    "outputId": "c33dad7f-5b68-4c5c-8649-73b7a5331814"
   },
   "outputs": [],
   "source": [
    "# Plot Precision Result\n",
    "model_name = \"Polynomial SVM\"\n",
    "plot_result(model_name,\n",
    "            \"Precision\",\n",
    "            \"Precision scores in 5 Folds\",\n",
    "            polynomial_svm_result[\"Training Precision scores\"],\n",
    "            polynomial_svm_result[\"Validation Precision scores\"])"
   ]
  },
  {
   "cell_type": "code",
   "execution_count": null,
   "metadata": {
    "colab": {
     "base_uri": "https://localhost:8080/",
     "height": 413
    },
    "id": "gs2ucs3BotIL",
    "outputId": "a184be69-b634-4eae-9117-4bab722fdf22"
   },
   "outputs": [],
   "source": [
    "# Plot Recall Result\n",
    "model_name = \"Polynomial SVM\"\n",
    "plot_result(model_name,\n",
    "            \"Recall\",\n",
    "            \"Recall scores in 5 Folds\",\n",
    "            polynomial_svm_result[\"Training Recall scores\"],\n",
    "            polynomial_svm_result[\"Validation Recall scores\"])"
   ]
  },
  {
   "cell_type": "code",
   "execution_count": null,
   "metadata": {
    "colab": {
     "base_uri": "https://localhost:8080/",
     "height": 413
    },
    "id": "3ZWPgf0Eow-e",
    "outputId": "0ca4309d-a4a0-41cd-f311-69f4fd625372"
   },
   "outputs": [],
   "source": [
    "# Plot F1-Score Result\n",
    "model_name = \"Polynomial SVM\"\n",
    "plot_result(model_name,\n",
    "            \"F1\",\n",
    "            \"F1 Scores in 5 Folds\",\n",
    "            polynomial_svm_result[\"Training F1 scores\"],\n",
    "            polynomial_svm_result[\"Validation F1 scores\"])"
   ]
  },
  {
   "cell_type": "markdown",
   "metadata": {
    "id": "MQOLpE73fGBI"
   },
   "source": [
    "### SVM RBF"
   ]
  },
  {
   "cell_type": "markdown",
   "metadata": {
    "id": "O7IQuU6vqNRf"
   },
   "source": [
    "\n",
    "We will now train SVM RBF Algorithm using cross-validate function.\n",
    "\n"
   ]
  },
  {
   "cell_type": "code",
   "execution_count": null,
   "metadata": {
    "colab": {
     "base_uri": "https://localhost:8080/"
    },
    "id": "ugM8yHQUptDE",
    "outputId": "61fe57f7-31f1-4f6c-9c09-5e8bdc7956e9"
   },
   "outputs": [],
   "source": [
    "rbf_svm = svm.SVC(kernel='rbf', gamma=1, C=1, decision_function_shape='ovo', random_state=0)\n",
    "\n",
    "rbf_svm_result = cross_validation(rbf_svm, X_, y_, 5)\n",
    "#print(rbf_svm_result)\n",
    "#Printing key-value pairs of the dictionary for RBF SVM\n",
    "for key, value in rbf_svm_result.items():\n",
    "    print(key+\":\", value)"
   ]
  },
  {
   "cell_type": "code",
   "execution_count": null,
   "metadata": {
    "colab": {
     "base_uri": "https://localhost:8080/",
     "height": 413
    },
    "id": "RttDKQkYptne",
    "outputId": "bcd2036d-b667-4c6b-cf13-cebd9fc6556b"
   },
   "outputs": [],
   "source": [
    "# Plot Accuracy Result\n",
    "model_name = \"RBF SVM\"\n",
    "plot_result(model_name,\n",
    "            \"Accuracy\",\n",
    "            \"Accuracy scores in 5 Folds\",\n",
    "            rbf_svm_result[\"Training Accuracy scores\"],\n",
    "            rbf_svm_result[\"Validation Accuracy scores\"])"
   ]
  },
  {
   "cell_type": "code",
   "execution_count": null,
   "metadata": {
    "colab": {
     "base_uri": "https://localhost:8080/",
     "height": 413
    },
    "id": "MXIm9UccpuLD",
    "outputId": "ee1065b0-13ca-4ede-bac5-ac10dd3129ab"
   },
   "outputs": [],
   "source": [
    "# Plot Precision Result\n",
    "model_name = \"RBF SVM\"\n",
    "plot_result(model_name,\n",
    "            \"Precision\",\n",
    "            \"Precision scores in 5 Folds\",\n",
    "            rbf_svm_result[\"Training Precision scores\"],\n",
    "            rbf_svm_result[\"Validation Precision scores\"])"
   ]
  },
  {
   "cell_type": "code",
   "execution_count": null,
   "metadata": {
    "colab": {
     "base_uri": "https://localhost:8080/",
     "height": 413
    },
    "id": "p6AG5VOHpuzO",
    "outputId": "cf2f3419-c4f0-40c1-bfcd-88f5e137caa3"
   },
   "outputs": [],
   "source": [
    "# Plot Recall Result\n",
    "model_name = \"RBF SVM\"\n",
    "plot_result(model_name,\n",
    "            \"Recall\",\n",
    "            \"Recall scores in 5 Folds\",\n",
    "            rbf_svm_result[\"Training Recall scores\"],\n",
    "            rbf_svm_result[\"Validation Recall scores\"])"
   ]
  },
  {
   "cell_type": "code",
   "execution_count": null,
   "metadata": {
    "colab": {
     "base_uri": "https://localhost:8080/",
     "height": 413
    },
    "id": "Wy6mJOOopwFg",
    "outputId": "9eed79e9-180b-49ba-ee5f-1608bb7b5106"
   },
   "outputs": [],
   "source": [
    "# Plot F1-Score Result\n",
    "model_name = \"RBF SVM\"\n",
    "plot_result(model_name,\n",
    "            \"F1\",\n",
    "            \"F1 Scores in 5 Folds\",\n",
    "            rbf_svm_result[\"Training F1 scores\"],\n",
    "            rbf_svm_result[\"Validation F1 scores\"])"
   ]
  },
  {
   "cell_type": "markdown",
   "metadata": {
    "id": "wX7Qf4k7fK_j"
   },
   "source": [
    "### SVM Sigmoid"
   ]
  },
  {
   "cell_type": "markdown",
   "metadata": {
    "id": "T-HFb-_Lqbjw"
   },
   "source": [
    "We will now train SVM Sigmoid Algorithm using cross-validate function."
   ]
  },
  {
   "cell_type": "code",
   "execution_count": null,
   "metadata": {
    "colab": {
     "base_uri": "https://localhost:8080/"
    },
    "id": "ZTRE-DZHpxK3",
    "outputId": "f5a862a2-2c5c-4335-d85c-2d1c31094f2c"
   },
   "outputs": [],
   "source": [
    "sigmoid_svm = svm.SVC(kernel='sigmoid', C=1, decision_function_shape='ovo', random_state=0)\n",
    "\n",
    "sigmoid_svm_result = cross_validation(sigmoid_svm, X_, y_, 5)\n",
    "#print(sigmoid_svm_result)\n",
    "#Printing key-value pairs of the dictionary for Sigmoid SVM\n",
    "for key, value in sigmoid_svm_result.items():\n",
    "    print(key+\":\", value)"
   ]
  },
  {
   "cell_type": "code",
   "execution_count": null,
   "metadata": {
    "colab": {
     "base_uri": "https://localhost:8080/",
     "height": 413
    },
    "id": "bwblqJOMpxm_",
    "outputId": "fba72284-1c3b-4cb3-8fd9-7c98c844af59"
   },
   "outputs": [],
   "source": [
    "# Plot Accuracy Result\n",
    "model_name = \"Sigmoid SVM\"\n",
    "plot_result(model_name,\n",
    "            \"Accuracy\",\n",
    "            \"Accuracy scores in 5 Folds\",\n",
    "            sigmoid_svm_result[\"Training Accuracy scores\"],\n",
    "            sigmoid_svm_result[\"Validation Accuracy scores\"])"
   ]
  },
  {
   "cell_type": "code",
   "execution_count": null,
   "metadata": {
    "colab": {
     "base_uri": "https://localhost:8080/",
     "height": 413
    },
    "id": "oWEWfZ2CpyBq",
    "outputId": "baf8bba6-7a76-437b-dad7-8ad0ce130768"
   },
   "outputs": [],
   "source": [
    "# Plot Precision Result\n",
    "model_name = \"Sigmoid SVM\"\n",
    "plot_result(model_name,\n",
    "            \"Precision\",\n",
    "            \"Precision scores in 5 Folds\",\n",
    "            sigmoid_svm_result[\"Training Precision scores\"],\n",
    "            sigmoid_svm_result[\"Validation Precision scores\"])"
   ]
  },
  {
   "cell_type": "code",
   "execution_count": null,
   "metadata": {
    "colab": {
     "base_uri": "https://localhost:8080/",
     "height": 413
    },
    "id": "PFRVRLL8pyoC",
    "outputId": "081d79b2-8de5-4972-c6c3-24dd0c8ae1ee"
   },
   "outputs": [],
   "source": [
    "# Plot Recall Result\n",
    "model_name = \"Sigmoid SVM\"\n",
    "plot_result(model_name,\n",
    "            \"Recall\",\n",
    "            \"Recall scores in 5 Folds\",\n",
    "            sigmoid_svm_result[\"Training Recall scores\"],\n",
    "            sigmoid_svm_result[\"Validation Recall scores\"])"
   ]
  },
  {
   "cell_type": "code",
   "execution_count": null,
   "metadata": {
    "colab": {
     "base_uri": "https://localhost:8080/",
     "height": 413
    },
    "id": "BsHk5E_cpy8o",
    "outputId": "0ecee76d-da53-4b5c-c1d0-48a852d9b0cf"
   },
   "outputs": [],
   "source": [
    "# Plot F1-Score Result\n",
    "model_name = \"Sigmoid SVM\"\n",
    "plot_result(model_name,\n",
    "            \"F1\",\n",
    "            \"F1 Scores in 5 Folds\",\n",
    "            sigmoid_svm_result[\"Training F1 scores\"],\n",
    "            sigmoid_svm_result[\"Validation F1 scores\"])"
   ]
  },
  {
   "cell_type": "markdown",
   "metadata": {
    "id": "IV-xjcbycscq"
   },
   "source": [
    "### Decision Tree"
   ]
  },
  {
   "cell_type": "markdown",
   "metadata": {
    "id": "KEnYUJ_w1Z0v"
   },
   "source": [
    "Now we can train our machine learning algorithm. We will use a decision tree algorithm. We import the DecisionTreeClassifier from the tree module of the Scikit-Learn library. We also invoke the cross_validation function we created earlier to perform 5-fold cross-validation."
   ]
  },
  {
   "cell_type": "code",
   "execution_count": null,
   "metadata": {
    "colab": {
     "base_uri": "https://localhost:8080/"
    },
    "id": "-EkvcNG-1RDL",
    "outputId": "cb7a761b-4c28-4387-83c1-3b015df8192f"
   },
   "outputs": [],
   "source": [
    "from sklearn.tree import DecisionTreeClassifier\n",
    "decision_tree_model = DecisionTreeClassifier(criterion =\"gini\",\n",
    "                                     random_state=0)\n",
    "                                    \n",
    "#decision_tree_model = DecisionTreeClassifier()\n",
    "\n",
    "decision_tree_result = cross_validation(decision_tree_model, X_, y_, 5)\n",
    "#print(decision_tree_result)\n",
    "#Printing key-value pairs of the dictionary for Decision Tree\n",
    "for key, value in decision_tree_result.items():\n",
    "    print(key+\":\", value)"
   ]
  },
  {
   "cell_type": "markdown",
   "metadata": {
    "id": "LNTmewcI1gow"
   },
   "source": [
    "To understand the results better, we can visualize them. We use the plot_result function we created earlier. We start by visualizing the training accuracy and validation accuracy in each fold."
   ]
  },
  {
   "cell_type": "code",
   "execution_count": null,
   "metadata": {
    "colab": {
     "base_uri": "https://localhost:8080/"
    },
    "id": "qbsbWCPZuwaD",
    "outputId": "c4b5d227-979e-4d73-c723-4c395506dbff"
   },
   "outputs": [],
   "source": [
    "'''\n",
    "scores = cross_validate(decision_tree_model, X_, y_,\n",
    "                        scoring='accuracy', cv=5,\n",
    "                         return_train_score=True)\n",
    "sorted(scores.keys())\n",
    "'''"
   ]
  },
  {
   "cell_type": "code",
   "execution_count": null,
   "metadata": {
    "colab": {
     "base_uri": "https://localhost:8080/"
    },
    "id": "TKPqgNEMx8sb",
    "outputId": "b21a4722-2de3-4ada-8ba6-23f44bed219f"
   },
   "outputs": [],
   "source": [
    "'''\n",
    "scores = cross_validate(decision_tree_model, X_, y_,\n",
    "                        scoring='f1', cv=5,\n",
    "                         return_train_score=True)\n",
    "sorted(scores.keys())\n",
    "'''"
   ]
  },
  {
   "cell_type": "code",
   "execution_count": null,
   "metadata": {
    "colab": {
     "base_uri": "https://localhost:8080/",
     "height": 413
    },
    "id": "FtwR6Ieu1iTh",
    "outputId": "89c58a6f-d5e2-46c0-f476-ad1157699fb3"
   },
   "outputs": [],
   "source": [
    "# Plot Accuracy Result\n",
    "model_name = \"Decision Tree\"\n",
    "plot_result(model_name,\n",
    "            \"Accuracy\",\n",
    "            \"Accuracy scores in 5 Folds\",\n",
    "            decision_tree_result[\"Training Accuracy scores\"],\n",
    "            decision_tree_result[\"Validation Accuracy scores\"])"
   ]
  },
  {
   "cell_type": "markdown",
   "metadata": {
    "id": "Q62TU6l71sH7"
   },
   "source": [
    "We can also visualize the training precision and validation precision in each fold."
   ]
  },
  {
   "cell_type": "code",
   "execution_count": null,
   "metadata": {
    "colab": {
     "base_uri": "https://localhost:8080/",
     "height": 413
    },
    "id": "fLdnbXxz1tPU",
    "outputId": "053a9c46-2372-4dba-a7f4-fbca2b1ee713"
   },
   "outputs": [],
   "source": [
    "# Plot Precision Result\n",
    "plot_result(model_name,\n",
    "            \"Precision\",\n",
    "            \"Precision scores in 5 Folds\",\n",
    "            decision_tree_result[\"Training Precision scores\"],\n",
    "            decision_tree_result[\"Validation Precision scores\"])"
   ]
  },
  {
   "cell_type": "markdown",
   "metadata": {
    "id": "jwPlvC3Z10JY"
   },
   "source": [
    "Let us visualize the training recall and validation recall in each fold."
   ]
  },
  {
   "cell_type": "code",
   "execution_count": null,
   "metadata": {
    "colab": {
     "base_uri": "https://localhost:8080/",
     "height": 413
    },
    "id": "v8rWnuPO11HW",
    "outputId": "5f966234-598d-49e1-8651-3adb4af57322"
   },
   "outputs": [],
   "source": [
    "# Plot Recall Result\n",
    "plot_result(model_name,\n",
    "            \"Recall\",\n",
    "            \"Recall scores in 5 Folds\",\n",
    "            decision_tree_result[\"Training Recall scores\"],\n",
    "            decision_tree_result[\"Validation Recall scores\"])"
   ]
  },
  {
   "cell_type": "markdown",
   "metadata": {
    "id": "cZ_2kZNf174j"
   },
   "source": [
    "Finally, we visualize the training f1 score and validation f1 score in each fold."
   ]
  },
  {
   "cell_type": "code",
   "execution_count": null,
   "metadata": {
    "colab": {
     "base_uri": "https://localhost:8080/",
     "height": 413
    },
    "id": "yLejiHva182p",
    "outputId": "a06a47cd-cf83-4802-a5d8-0284a44613f4"
   },
   "outputs": [],
   "source": [
    "# Plot F1-Score Result\n",
    "plot_result(model_name,\n",
    "            \"F1\",\n",
    "            \"F1 Scores in 5 Folds\",\n",
    "            decision_tree_result[\"Training F1 scores\"],\n",
    "            decision_tree_result[\"Validation F1 scores\"])"
   ]
  },
  {
   "cell_type": "markdown",
   "metadata": {
    "id": "OR0WT9JU2Lfn"
   },
   "source": [
    "The visualizations show that the training accuracy, precision, recall, and f1 scores in each fold are 100%. But the validation accuracy, precision, recall and f1 scores are not as high. We call this over-fitting. The model performs admirably on the training data. But not so much on the validation set.\n",
    "\n",
    "Visualizing your results like this can help you see if your model is over-fitting. We adjust the min_samples_split hyper-parameter in the decision tree algorithm. It will fix the over-fitting problem. The default value of the min_samples_split parameter is 2. We increase the value to 5."
   ]
  },
  {
   "cell_type": "code",
   "execution_count": null,
   "metadata": {
    "colab": {
     "base_uri": "https://localhost:8080/"
    },
    "id": "4hCrIN_w2M4b",
    "outputId": "c28dbda1-38e4-4f46-eae0-7575dd0cfcc8"
   },
   "outputs": [],
   "source": [
    "decision_tree_model_2 = DecisionTreeClassifier(criterion=\"entropy\",\n",
    "                                               min_samples_split=5,\n",
    "                                               random_state=0)\n",
    "decision_tree_result_2 = cross_validation(decision_tree_model_2, X_, y_, 5)\n",
    "#print(decision_tree_result_2)\n",
    "#Printing key-value pairs of the dictionary for Decision Tree with metric = \"entropy\"\n",
    "for key, value in decision_tree_result_2.items():\n",
    "    print(key+\":\", value)"
   ]
  },
  {
   "cell_type": "markdown",
   "metadata": {
    "id": "hBFoFxFv2V1w"
   },
   "source": [
    "Let us visualize the results of the second model.\n",
    "\n",
    "The training accuracy and validation accuracy in each fold:"
   ]
  },
  {
   "cell_type": "code",
   "execution_count": null,
   "metadata": {
    "colab": {
     "base_uri": "https://localhost:8080/",
     "height": 413
    },
    "id": "_7eNXEsM2W_Y",
    "outputId": "b13abe33-8228-4580-e44b-35a197c33e35"
   },
   "outputs": [],
   "source": [
    "# Plot Accuracy Result\n",
    "plot_result(model_name,\n",
    "            \"Accuracy\",\n",
    "            \"Accuracy scores in 5 Folds\",\n",
    "            decision_tree_result_2[\"Training Accuracy scores\"],\n",
    "            decision_tree_result_2[\"Validation Accuracy scores\"])"
   ]
  },
  {
   "cell_type": "markdown",
   "metadata": {
    "id": "__6TuoSc2eHc"
   },
   "source": [
    "The training precision and validation precision in each fold:"
   ]
  },
  {
   "cell_type": "code",
   "execution_count": null,
   "metadata": {
    "colab": {
     "base_uri": "https://localhost:8080/",
     "height": 413
    },
    "id": "MtHQCkq32fLU",
    "outputId": "d617192d-95e0-402c-abb0-beca6ec04a11"
   },
   "outputs": [],
   "source": [
    "# Plot Precision Result\n",
    "plot_result(model_name,\n",
    "            \"Precision\",\n",
    "            \"Precision scores in 5 Folds\",\n",
    "            decision_tree_result_2[\"Training Precision scores\"],\n",
    "            decision_tree_result_2[\"Validation Precision scores\"])"
   ]
  },
  {
   "cell_type": "markdown",
   "metadata": {
    "id": "9ihnpatu2l1D"
   },
   "source": [
    "The training recall and validation recall in each fold:"
   ]
  },
  {
   "cell_type": "code",
   "execution_count": null,
   "metadata": {
    "colab": {
     "base_uri": "https://localhost:8080/",
     "height": 413
    },
    "id": "U63pOYOM2m5k",
    "outputId": "a12e9e51-196d-4294-abb6-6bbbb8b54056"
   },
   "outputs": [],
   "source": [
    "# Plot Recall Result\n",
    "plot_result(model_name,\n",
    "            \"Recall\",\n",
    "            \"Recall scores in 5 Folds\",\n",
    "            decision_tree_result_2[\"Training Recall scores\"],\n",
    "            decision_tree_result_2[\"Validation Recall scores\"])"
   ]
  },
  {
   "cell_type": "markdown",
   "metadata": {
    "id": "rMPhs4VN2s5x"
   },
   "source": [
    "The training f1 score and validation f1 score in each fold:"
   ]
  },
  {
   "cell_type": "code",
   "execution_count": null,
   "metadata": {
    "colab": {
     "base_uri": "https://localhost:8080/",
     "height": 413
    },
    "id": "zXmU1nvL2t2r",
    "outputId": "fecf263a-cc8c-4f03-d774-e51586471755"
   },
   "outputs": [],
   "source": [
    "# Plot F1-Score Result\n",
    "plot_result(model_name,\n",
    "            \"f1\",\n",
    "            \"F1 Scores in 5 Folds\",\n",
    "            decision_tree_result_2[\"Training F1 scores\"],\n",
    "            decision_tree_result_2[\"Validation F1 scores\"])"
   ]
  },
  {
   "cell_type": "markdown",
   "metadata": {
    "id": "xVqS-q0L22SS"
   },
   "source": [
    "We can see that the validation results of the second model in each fold are almost same or slightly better. It has a mean validation accuracy of 100% and a mean validation f1 score of 100%. "
   ]
  },
  {
   "cell_type": "markdown",
   "metadata": {
    "id": "7G2P3fBOW6cm"
   },
   "source": [
    "### Random Forest Classifier"
   ]
  },
  {
   "cell_type": "markdown",
   "metadata": {
    "id": "JssCVCZOc6S9"
   },
   "source": [
    "We will now train Random Forest Algorithm using cross-validate function."
   ]
  },
  {
   "cell_type": "code",
   "execution_count": null,
   "metadata": {
    "colab": {
     "base_uri": "https://localhost:8080/"
    },
    "id": "TcjQrIWGZqMR",
    "outputId": "9ca9974f-6978-49d9-cebd-efb2c6b277db"
   },
   "outputs": [],
   "source": [
    "from sklearn.ensemble import RandomForestClassifier\n",
    "random_forest_model = RandomForestClassifier(n_estimators=200, criterion = \"gini\", random_state =0)                          \n",
    "\n",
    "random_forest_result = cross_validation(random_forest_model, X_, y_, 5)\n",
    "#print(random_forest_result)\n",
    "#Printing key-value pairs of the dictionary for Random Forest with metric = \"gini\"\n",
    "for key, value in random_forest_result.items():\n",
    "    print(key+\":\", value)"
   ]
  },
  {
   "cell_type": "code",
   "execution_count": null,
   "metadata": {
    "colab": {
     "base_uri": "https://localhost:8080/",
     "height": 413
    },
    "id": "MAHxxgy2Z7EB",
    "outputId": "f4b06fb8-0614-478a-d25e-f238af65ab94"
   },
   "outputs": [],
   "source": [
    "# Plot Accuracy Result\n",
    "model_name = \"Random Forest\"\n",
    "plot_result(model_name,\n",
    "            \"Accuracy\",\n",
    "            \"Accuracy scores in 5 Folds\",\n",
    "            random_forest_result[\"Training Accuracy scores\"],\n",
    "            random_forest_result[\"Validation Accuracy scores\"])"
   ]
  },
  {
   "cell_type": "code",
   "execution_count": null,
   "metadata": {
    "colab": {
     "base_uri": "https://localhost:8080/",
     "height": 413
    },
    "id": "DGkENXDsbStJ",
    "outputId": "1762c327-65ac-4cbb-cd71-55b909638bb2"
   },
   "outputs": [],
   "source": [
    "# Plot Precision Result\n",
    "model_name = \"Random Forest\"\n",
    "plot_result(model_name,\n",
    "            \"Precision\",\n",
    "            \"Precision scores in 5 Folds\",\n",
    "            random_forest_result[\"Training Precision scores\"],\n",
    "            random_forest_result[\"Validation Precision scores\"])"
   ]
  },
  {
   "cell_type": "code",
   "execution_count": null,
   "metadata": {
    "colab": {
     "base_uri": "https://localhost:8080/",
     "height": 413
    },
    "id": "1Fpct5q7boDq",
    "outputId": "c7e63c30-4d7f-4ff8-d816-27e22fa47a28"
   },
   "outputs": [],
   "source": [
    "# Plot Recall Result\n",
    "model_name = \"Random Forest\"\n",
    "plot_result(model_name,\n",
    "            \"Recall\",\n",
    "            \"Recall scores in 5 Folds\",\n",
    "            random_forest_result[\"Training Recall scores\"],\n",
    "            random_forest_result[\"Validation Recall scores\"])"
   ]
  },
  {
   "cell_type": "code",
   "execution_count": null,
   "metadata": {
    "colab": {
     "base_uri": "https://localhost:8080/",
     "height": 413
    },
    "id": "GYY9mAyXb-Ik",
    "outputId": "400c339a-fe01-43c5-ed99-140a431af1eb"
   },
   "outputs": [],
   "source": [
    "# Plot F1-Score Result\n",
    "model_name = \"Random Forest\"\n",
    "plot_result(model_name,\n",
    "            \"F1\",\n",
    "            \"F1 Scores in 5 Folds\",\n",
    "            random_forest_result[\"Training F1 scores\"],\n",
    "            random_forest_result[\"Validation F1 scores\"])"
   ]
  },
  {
   "cell_type": "markdown",
   "metadata": {
    "id": "0pL88nbieXdb"
   },
   "source": [
    "### KNN"
   ]
  },
  {
   "cell_type": "markdown",
   "metadata": {
    "id": "w91TWPWNldY_"
   },
   "source": [
    "We will now train K-Nearest Neighbot (KNN) Algorithm using cross-validate function."
   ]
  },
  {
   "cell_type": "code",
   "execution_count": null,
   "metadata": {
    "colab": {
     "base_uri": "https://localhost:8080/"
    },
    "id": "048i2PrIg2-v",
    "outputId": "eedf8d04-0bdf-402e-a524-432f467d97ce"
   },
   "outputs": [],
   "source": [
    "from sklearn.neighbors import KNeighborsClassifier\n",
    "\n",
    "knn = KNeighborsClassifier(n_neighbors=21)\n",
    "knn_result = cross_validation(knn, X_, y_, 5)\n",
    "#print(knn_result)\n",
    "#Printing key-value pairs of the dictionary for KNN\n",
    "for key, value in knn_result.items():\n",
    "    print(key+\":\", value)"
   ]
  },
  {
   "cell_type": "code",
   "execution_count": null,
   "metadata": {
    "colab": {
     "base_uri": "https://localhost:8080/",
     "height": 413
    },
    "id": "2HcQRxeOiv6X",
    "outputId": "5acbafd9-da80-4df4-db81-6d5c6ea334b3"
   },
   "outputs": [],
   "source": [
    "#Plot Accuracy Result\n",
    "model_name = \"KNN\"\n",
    "plot_result(model_name,\n",
    "            \"Accuracy\",\n",
    "            \"Accuracy scores in 5 Folds\",\n",
    "            knn_result[\"Training Accuracy scores\"],\n",
    "            knn_result[\"Validation Accuracy scores\"])"
   ]
  },
  {
   "cell_type": "code",
   "execution_count": null,
   "metadata": {
    "colab": {
     "base_uri": "https://localhost:8080/",
     "height": 413
    },
    "id": "400F6w1OiweX",
    "outputId": "99f7eabe-9a42-48d7-d863-2ad9836d4e18"
   },
   "outputs": [],
   "source": [
    "# Plot Precision Result\n",
    "model_name = \"KNN\"\n",
    "plot_result(model_name,\n",
    "            \"Precision\",\n",
    "            \"Precision scores in 5 Folds\",\n",
    "            knn_result[\"Training Precision scores\"],\n",
    "            knn_result[\"Validation Precision scores\"])"
   ]
  },
  {
   "cell_type": "code",
   "execution_count": null,
   "metadata": {
    "colab": {
     "base_uri": "https://localhost:8080/",
     "height": 413
    },
    "id": "IrZWfZuTiw2U",
    "outputId": "4b67f528-acc4-4ec7-8339-7f64be3ff024"
   },
   "outputs": [],
   "source": [
    "# Plot Recall Result\n",
    "model_name = \"KNN\"\n",
    "plot_result(model_name,\n",
    "            \"Recall\",\n",
    "            \"Recall scores in 5 Folds\",\n",
    "            knn_result[\"Training Recall scores\"],\n",
    "            knn_result[\"Validation Recall scores\"])"
   ]
  },
  {
   "cell_type": "code",
   "execution_count": null,
   "metadata": {
    "colab": {
     "base_uri": "https://localhost:8080/",
     "height": 413
    },
    "id": "xTOIFrXeixTi",
    "outputId": "39f17ded-cc93-4cf1-9bfd-248e0f4ace3d"
   },
   "outputs": [],
   "source": [
    "# Plot F1-Score Result\n",
    "model_name = \"KNN\"\n",
    "plot_result(model_name,\n",
    "            \"F1\",\n",
    "            \"F1 Scores in 5 Folds\",\n",
    "            knn_result[\"Training F1 scores\"],\n",
    "            knn_result[\"Validation F1 scores\"])"
   ]
  },
  {
   "cell_type": "markdown",
   "metadata": {
    "id": "82qNP7qAebOF"
   },
   "source": [
    "### AdaBoost"
   ]
  },
  {
   "cell_type": "markdown",
   "metadata": {
    "id": "twkSZPU7lncE"
   },
   "source": [
    "We will now train AdaBoost Algorithm using cross-validate function."
   ]
  },
  {
   "cell_type": "code",
   "execution_count": null,
   "metadata": {
    "colab": {
     "base_uri": "https://localhost:8080/"
    },
    "id": "_AJ7zmhjj-3A",
    "outputId": "d6bcc95b-182d-4061-e7bb-a9d6a1342c31"
   },
   "outputs": [],
   "source": [
    "from sklearn.ensemble import AdaBoostClassifier\n",
    "adaboost = AdaBoostClassifier(n_estimators=100, base_estimator= None, learning_rate=1, random_state = 0)\n",
    "adaboost_result = cross_validation(adaboost, X_, y_, 5)\n",
    "#print(adaboost_result)\n",
    "#Printing key-value pairs of the dictionary for AdaBoost\n",
    "for key, value in adaboost_result.items():\n",
    "    print(key+\":\", value)"
   ]
  },
  {
   "cell_type": "code",
   "execution_count": null,
   "metadata": {
    "colab": {
     "base_uri": "https://localhost:8080/",
     "height": 413
    },
    "id": "mqnj1w7Xj_Tn",
    "outputId": "7c5f3b08-8350-4204-fac3-caa8d728f729"
   },
   "outputs": [],
   "source": [
    "#Plot Accuracy Result\n",
    "model_name = \"AdaBoost\"\n",
    "plot_result(model_name,\n",
    "            \"Accuracy\",\n",
    "            \"Accuracy scores in 5 Folds\",\n",
    "            adaboost_result[\"Training Accuracy scores\"],\n",
    "            adaboost_result[\"Validation Accuracy scores\"])"
   ]
  },
  {
   "cell_type": "code",
   "execution_count": null,
   "metadata": {
    "colab": {
     "base_uri": "https://localhost:8080/",
     "height": 413
    },
    "id": "c5wyK916j_zh",
    "outputId": "52647693-9d5f-4c62-97cb-054ed0aa8535"
   },
   "outputs": [],
   "source": [
    "# Plot Precision Result\n",
    "model_name = \"AdaBoost\"\n",
    "plot_result(model_name,\n",
    "            \"Precision\",\n",
    "            \"Precision scores in 5 Folds\",\n",
    "            adaboost_result[\"Training Precision scores\"],\n",
    "            adaboost_result[\"Validation Precision scores\"])"
   ]
  },
  {
   "cell_type": "code",
   "execution_count": null,
   "metadata": {
    "colab": {
     "base_uri": "https://localhost:8080/",
     "height": 413
    },
    "id": "Z8OS0dKOkAo2",
    "outputId": "eba8c786-84a1-4214-8d58-7a1deaa61447"
   },
   "outputs": [],
   "source": [
    "# Plot Recall Result\n",
    "model_name = \"AdaBoost\"\n",
    "plot_result(model_name,\n",
    "            \"Recall\",\n",
    "            \"Recall scores in 5 Folds\",\n",
    "            adaboost_result[\"Training Recall scores\"],\n",
    "            adaboost_result[\"Validation Recall scores\"])"
   ]
  },
  {
   "cell_type": "code",
   "execution_count": null,
   "metadata": {
    "colab": {
     "base_uri": "https://localhost:8080/",
     "height": 413
    },
    "id": "vCQ_NX90kBcQ",
    "outputId": "380c83a4-23da-4a4c-d7a6-caac33ed5dc3"
   },
   "outputs": [],
   "source": [
    "# Plot F1-Score Result\n",
    "model_name = \"AdaBoost\"\n",
    "plot_result(model_name,\n",
    "            \"F1\",\n",
    "            \"F1 Scores in 5 Folds\",\n",
    "            adaboost_result[\"Training F1 scores\"],\n",
    "            adaboost_result[\"Validation F1 scores\"])"
   ]
  },
  {
   "cell_type": "markdown",
   "metadata": {
    "id": "Gl4biCfMehOi"
   },
   "source": [
    "### XGBoost"
   ]
  },
  {
   "cell_type": "markdown",
   "metadata": {
    "id": "3Tdip5a6udwl"
   },
   "source": [
    "We will now train XGBoost Algorithm using cross-validate function."
   ]
  },
  {
   "cell_type": "code",
   "execution_count": null,
   "metadata": {
    "colab": {
     "base_uri": "https://localhost:8080/"
    },
    "id": "kQ_tSE9QluVe",
    "outputId": "f51616d0-2a08-45a1-dee2-fdaa22719e1d"
   },
   "outputs": [],
   "source": [
    "import xgboost as xgb\n",
    "\n",
    "xgb_model = xgb.XGBClassifier(base_score=0.5, booster='gbtree', colsample_bylevel=1,\n",
    "       colsample_bytree=1, gamma=0, learning_rate=0.1, max_delta_step=0,\n",
    "       max_depth=4, min_child_weight=1, missing=None, n_estimators=10,\n",
    "       n_jobs=1, nthread=None, objective='multi:softprob', random_state=0,\n",
    "       reg_alpha=0, reg_lambda=1, scale_pos_weight=1, seed=None,\n",
    "       silent=True, subsample=1)\n",
    "\n",
    "xgb_result = cross_validation(xgb_model, X_, y_, 5)\n",
    "#print(xgb_result)\n",
    "#Printing key-value pairs of the dictionary for XGBoost\n",
    "for key, value in xgb_result.items():\n",
    "    print(key+\":\", value)"
   ]
  },
  {
   "cell_type": "code",
   "execution_count": null,
   "metadata": {
    "colab": {
     "base_uri": "https://localhost:8080/",
     "height": 413
    },
    "id": "smTAvLWblvK9",
    "outputId": "008bd03a-0a12-48e5-eaa6-f5eb462b95e3"
   },
   "outputs": [],
   "source": [
    "#Plot Accuracy Result\n",
    "model_name = \"XGBoost\"\n",
    "plot_result(model_name,\n",
    "            \"Accuracy\",\n",
    "            \"Accuracy scores in 5 Folds\",\n",
    "            xgb_result[\"Training Accuracy scores\"],\n",
    "            xgb_result[\"Validation Accuracy scores\"])"
   ]
  },
  {
   "cell_type": "code",
   "execution_count": null,
   "metadata": {
    "colab": {
     "base_uri": "https://localhost:8080/",
     "height": 413
    },
    "id": "y1jOIPUalvqo",
    "outputId": "94618ce8-5208-4885-c9ad-1a130d9ae223"
   },
   "outputs": [],
   "source": [
    "# Plot Precision Result\n",
    "model_name = \"XGBoost\"\n",
    "plot_result(model_name,\n",
    "            \"Precision\",\n",
    "            \"Precision scores in 5 Folds\",\n",
    "            xgb_result[\"Training Precision scores\"],\n",
    "            xgb_result[\"Validation Precision scores\"])"
   ]
  },
  {
   "cell_type": "code",
   "execution_count": null,
   "metadata": {
    "colab": {
     "base_uri": "https://localhost:8080/",
     "height": 413
    },
    "id": "Rkby92VElwEc",
    "outputId": "a66fa09f-ce3d-4c26-8c8f-3a645a310279"
   },
   "outputs": [],
   "source": [
    "# Plot Recall Result\n",
    "model_name = \"XGBoost\"\n",
    "plot_result(model_name,\n",
    "            \"Recall\",\n",
    "            \"Recall scores in 5 Folds\",\n",
    "            xgb_result[\"Training Recall scores\"],\n",
    "            xgb_result[\"Validation Recall scores\"])"
   ]
  },
  {
   "cell_type": "code",
   "execution_count": null,
   "metadata": {
    "colab": {
     "base_uri": "https://localhost:8080/",
     "height": 413
    },
    "id": "aP-V8EYKlwZ6",
    "outputId": "1cee43e2-89c6-41dc-da09-e933b6115a4d"
   },
   "outputs": [],
   "source": [
    "# Plot F1-Score Result\n",
    "model_name = \"XGBoost\"\n",
    "plot_result(model_name,\n",
    "            \"F1\",\n",
    "            \"F1 Scores in 5 Folds\",\n",
    "            xgb_result[\"Training F1 scores\"],\n",
    "            xgb_result[\"Validation F1 scores\"])"
   ]
  },
  {
   "cell_type": "markdown",
   "metadata": {
    "id": "IGM-qlCYsES5"
   },
   "source": [
    "## Naive Bayes"
   ]
  },
  {
   "cell_type": "markdown",
   "metadata": {
    "id": "6_XHyrrhuinD"
   },
   "source": [
    "We will now train Naive Bayes Algorithm using cross-validate function."
   ]
  },
  {
   "cell_type": "code",
   "execution_count": null,
   "metadata": {
    "colab": {
     "base_uri": "https://localhost:8080/"
    },
    "id": "6rqU1EC_sVLf",
    "outputId": "a3cf78e1-bcae-466d-e512-8e4092d2ad52"
   },
   "outputs": [],
   "source": [
    "from sklearn.naive_bayes import GaussianNB\n",
    "gnb = GaussianNB()\n",
    "gnb_result = cross_validation(gnb, X_, y_, 5)\n",
    "#print(gnb_result)\n",
    "#Printing key-value pairs of the dictionary for Naive Bayes\n",
    "for key, value in gnb_result.items():\n",
    "    print(key + \":\", value)"
   ]
  },
  {
   "cell_type": "code",
   "execution_count": null,
   "metadata": {
    "colab": {
     "base_uri": "https://localhost:8080/",
     "height": 413
    },
    "id": "qByMZA2xsZsP",
    "outputId": "a72f5cac-b13a-48c2-8b46-83f501d6cd1a"
   },
   "outputs": [],
   "source": [
    "#Plot Accuracy Result\n",
    "model_name = \"Naive Bayes\"\n",
    "plot_result(model_name,\n",
    "            \"Accuracy\",\n",
    "            \"Accuracy scores in 5 Folds\",\n",
    "            gnb_result[\"Training Accuracy scores\"],\n",
    "            gnb_result[\"Validation Accuracy scores\"])"
   ]
  },
  {
   "cell_type": "code",
   "execution_count": null,
   "metadata": {
    "colab": {
     "base_uri": "https://localhost:8080/",
     "height": 413
    },
    "id": "hg0ULWbNsZX5",
    "outputId": "045e0ff2-71a3-49f5-ff81-e2d00e417382"
   },
   "outputs": [],
   "source": [
    "# Plot Precision Result\n",
    "model_name = \"Naive Bayes\"\n",
    "plot_result(model_name,\n",
    "            \"Precision\",\n",
    "            \"Precision scores in 5 Folds\",\n",
    "            gnb_result[\"Training Precision scores\"],\n",
    "            gnb_result[\"Validation Precision scores\"])"
   ]
  },
  {
   "cell_type": "code",
   "execution_count": null,
   "metadata": {
    "colab": {
     "base_uri": "https://localhost:8080/",
     "height": 413
    },
    "id": "KLwX6H-tsZJm",
    "outputId": "8f2b826f-2cf1-4848-d047-359b677aeae2"
   },
   "outputs": [],
   "source": [
    "# Plot Recall Result\n",
    "model_name = \"Naive Bayes\"\n",
    "plot_result(model_name,\n",
    "            \"Recall\",\n",
    "            \"Recall scores in 5 Folds\",\n",
    "            gnb_result[\"Training Recall scores\"],\n",
    "            gnb_result[\"Validation Recall scores\"])"
   ]
  },
  {
   "cell_type": "code",
   "execution_count": null,
   "metadata": {
    "colab": {
     "base_uri": "https://localhost:8080/",
     "height": 413
    },
    "id": "RyktBnNdsY56",
    "outputId": "04294be7-d8e4-45ec-dd46-2eac999c96ac"
   },
   "outputs": [],
   "source": [
    "# Plot F1-Score Result\n",
    "model_name = \"Naive Bayes\"\n",
    "plot_result(model_name,\n",
    "            \"F1\",\n",
    "            \"F1 Scores in 5 Folds\",\n",
    "            gnb_result[\"Training F1 scores\"],\n",
    "            gnb_result[\"Validation F1 scores\"])"
   ]
  },
  {
   "cell_type": "markdown",
   "metadata": {
    "id": "ZsBKDieodk8g"
   },
   "source": [
    "# Random Forest (RF) Classifer"
   ]
  },
  {
   "cell_type": "code",
   "execution_count": null,
   "metadata": {
    "colab": {
     "base_uri": "https://localhost:8080/",
     "height": 235
    },
    "id": "Hj_vip8Fd0vA",
    "outputId": "467138ed-f14b-4b80-db82-80b949ab270b"
   },
   "outputs": [],
   "source": [
    "from sklearn.ensemble import RandomForestClassifier\n",
    "rfc = RandomForestClassifier(n_estimators=200)\n",
    "rfc.fit(X_train, y_train)\n",
    "\n",
    "rfc_pred = rfc.predict(X_test)\n",
    "print('Accuracy score:', accuracy_score(y_test, rfc_pred))"
   ]
  },
  {
   "cell_type": "code",
   "execution_count": null,
   "metadata": {
    "id": "5MOcWTDff-Oc"
   },
   "outputs": [],
   "source": [
    "from sklearn.metrics import classification_report\n",
    "\n",
    "cm_rfc = confusion_matrix(y_test, rfc_pred)\n",
    "sns.heatmap(cm_rfc, annot=True)\n",
    "print(classification_report(y_test, rfc_pred))"
   ]
  },
  {
   "cell_type": "markdown",
   "metadata": {
    "id": "s8J1hr93Yqnv"
   },
   "source": [
    "### 1. SVM (4)"
   ]
  },
  {
   "cell_type": "code",
   "execution_count": null,
   "metadata": {
    "id": "2c2PS87FYqnv"
   },
   "outputs": [],
   "source": [
    "linear = svm.SVC(kernel='linear', C=1, decision_function_shape='ovo').fit(X_train, y_train)\n",
    "rbf = svm.SVC(kernel='rbf', gamma=1, C=1, decision_function_shape='ovo').fit(X_train, y_train)\n",
    "poly = svm.SVC(kernel='poly', degree=3, C=1, decision_function_shape='ovo').fit(X_train, y_train)\n",
    "sig = svm.SVC(kernel='sigmoid', C=1, decision_function_shape='ovo').fit(X_train, y_train)"
   ]
  },
  {
   "cell_type": "code",
   "execution_count": null,
   "metadata": {
    "id": "sW_3aPGuYqnv"
   },
   "outputs": [],
   "source": [
    "linear_pred = linear.predict(X_test)\n",
    "poly_pred = poly.predict(X_test)\n",
    "rbf_pred = rbf.predict(X_test)\n",
    "sig_pred = sig.predict(X_test)"
   ]
  },
  {
   "cell_type": "code",
   "execution_count": null,
   "metadata": {
    "id": "aOgLlXWRYqnw"
   },
   "outputs": [],
   "source": [
    "accuracy_lin = linear.score(X_test, y_test)\n",
    "accuracy_poly = poly.score(X_test, y_test)\n",
    "accuracy_rbf = rbf.score(X_test, y_test)\n",
    "accuracy_sig = sig.score(X_test, y_test)"
   ]
  },
  {
   "cell_type": "code",
   "execution_count": null,
   "metadata": {
    "id": "C55jWqvdYqnw"
   },
   "outputs": [],
   "source": [
    "accuracy_lin"
   ]
  },
  {
   "cell_type": "code",
   "execution_count": null,
   "metadata": {
    "id": "G5GqZGTwYqnw"
   },
   "outputs": [],
   "source": [
    "accuracy_poly "
   ]
  },
  {
   "cell_type": "code",
   "execution_count": null,
   "metadata": {
    "id": "MVC8sUoSYqnw"
   },
   "outputs": [],
   "source": [
    "accuracy_rbf"
   ]
  },
  {
   "cell_type": "code",
   "execution_count": null,
   "metadata": {
    "id": "KMh7padcYqnw"
   },
   "outputs": [],
   "source": [
    "accuracy_sig "
   ]
  },
  {
   "cell_type": "markdown",
   "metadata": {
    "id": "BX4kw2qQfvb0"
   },
   "source": [
    "## Train Accuracy"
   ]
  },
  {
   "cell_type": "code",
   "execution_count": null,
   "metadata": {
    "id": "FzA5GKxEfrKN"
   },
   "outputs": [],
   "source": [
    "train_accuracy_lin = linear.score(X_train, y_train)\n",
    "train_accuracy_poly = poly.score(X_train, y_train)\n",
    "train_accuracy_rbf = rbf.score(X_train, y_train)\n",
    "train_accuracy_sig = sig.score(X_train, y_train)"
   ]
  },
  {
   "cell_type": "markdown",
   "metadata": {
    "id": "tpD18cUdmTto"
   },
   "source": [
    "## SVM Linear"
   ]
  },
  {
   "cell_type": "code",
   "execution_count": null,
   "metadata": {
    "id": "scHiU4i9gxbC"
   },
   "outputs": [],
   "source": [
    "print(\"Train Accuracy:\", train_accuracy_lin)\n",
    "print(\"Test Accuracy:\", accuracy_lin)     \n",
    "   "
   ]
  },
  {
   "cell_type": "markdown",
   "metadata": {
    "id": "4VvxkztFmu1K"
   },
   "source": [
    "## SVM Polynomial"
   ]
  },
  {
   "cell_type": "code",
   "execution_count": null,
   "metadata": {
    "id": "ETjYEVh2mcZ7"
   },
   "outputs": [],
   "source": [
    "print(\"Train Accuracy:\", train_accuracy_poly)\n",
    "print(\"Test Accuracy:\", accuracy_poly)    \n"
   ]
  },
  {
   "cell_type": "markdown",
   "metadata": {
    "id": "4Sz_g3N9nGPp"
   },
   "source": [
    "## SVM RBF"
   ]
  },
  {
   "cell_type": "code",
   "execution_count": null,
   "metadata": {
    "id": "uX3PzEtEm6ra"
   },
   "outputs": [],
   "source": [
    "print(\"Train Accuracy:\", train_accuracy_rbf)\n",
    "print(\"Test Accuracy:\", accuracy_rbf)  "
   ]
  },
  {
   "cell_type": "markdown",
   "metadata": {
    "id": "Qzjg7QSBnccR"
   },
   "source": [
    "## SVM Sigmoid"
   ]
  },
  {
   "cell_type": "code",
   "execution_count": null,
   "metadata": {
    "id": "QISkzgcLnWQF"
   },
   "outputs": [],
   "source": [
    "print(\"Train Accuracy:\", train_accuracy_sig)\n",
    "print(\"Test Accuracy:\", accuracy_sig)  "
   ]
  },
  {
   "cell_type": "code",
   "execution_count": null,
   "metadata": {
    "id": "5-KCVhbqYqnx"
   },
   "outputs": [],
   "source": [
    "cm_lin = confusion_matrix(y_test, linear_pred)\n",
    "cm_poly = confusion_matrix(y_test, poly_pred)\n",
    "cm_rbf = confusion_matrix(y_test, rbf_pred)\n",
    "cm_sig = confusion_matrix(y_test, sig_pred)"
   ]
  },
  {
   "cell_type": "code",
   "execution_count": null,
   "metadata": {
    "id": "OLsCp7P3Yqnx"
   },
   "outputs": [],
   "source": [
    "from sklearn.metrics import classification_report, confusion_matrix, accuracy_score\n",
    "\n",
    "sns.heatmap(cm_lin, annot=True)\n",
    "\n",
    "result2 = accuracy_score(y_test, linear_pred)\n",
    "print(result2)\n",
    "\n",
    "result1 = classification_report(y_test, linear_pred)\n",
    "print (result1)"
   ]
  },
  {
   "cell_type": "code",
   "execution_count": null,
   "metadata": {
    "id": "G1Pko1JiVHUn"
   },
   "outputs": [],
   "source": [
    "result1_dict = classification_report(y_test, linear_pred, output_dict = True)\n",
    "result1_df = pd.DataFrame(result1_dict)\n",
    "#result1_df.to_excel('classification_report_SVM-lin.xlsx')"
   ]
  },
  {
   "cell_type": "code",
   "execution_count": null,
   "metadata": {
    "id": "_qQIjc4fYqny"
   },
   "outputs": [],
   "source": [
    "from sklearn.metrics import classification_report, confusion_matrix, accuracy_score\n",
    "\n",
    "sns.heatmap(cm_poly, annot=True)\n",
    "\n",
    "result2 = accuracy_score(y_test, poly_pred)\n",
    "print(result2)\n",
    "\n",
    "result1 = classification_report(y_test, poly_pred)\n",
    "print (result1)"
   ]
  },
  {
   "cell_type": "code",
   "execution_count": null,
   "metadata": {
    "id": "lqpbXX8VVY1i"
   },
   "outputs": [],
   "source": [
    "result1_dict = classification_report(y_test, poly_pred, output_dict = True)\n",
    "result1_df = pd.DataFrame(result1_dict)\n",
    "#result1_df.to_excel('classification_report_SVM-poly.xlsx')"
   ]
  },
  {
   "cell_type": "code",
   "execution_count": null,
   "metadata": {
    "id": "WdFklXRCYqny"
   },
   "outputs": [],
   "source": [
    "from sklearn.metrics import classification_report, confusion_matrix, accuracy_score\n",
    "\n",
    "sns.heatmap(cm_rbf, annot=True)\n",
    "\n",
    "result2 = accuracy_score(y_test, rbf_pred)\n",
    "print(result2)\n",
    "\n",
    "result1 = classification_report(y_test, rbf_pred)\n",
    "print (result1)"
   ]
  },
  {
   "cell_type": "code",
   "execution_count": null,
   "metadata": {
    "id": "1gjWWa0MVlVh"
   },
   "outputs": [],
   "source": [
    "result1_dict = classification_report(y_test, rbf_pred, output_dict = True)\n",
    "result1_df = pd.DataFrame(result1_dict)\n",
    "#result1_df.to_excel('classification_report_SVM-rbf.xlsx')"
   ]
  },
  {
   "cell_type": "code",
   "execution_count": null,
   "metadata": {
    "id": "xLYKjz_YYqny"
   },
   "outputs": [],
   "source": [
    "from sklearn.metrics import classification_report, confusion_matrix, accuracy_score\n",
    "\n",
    "sns.heatmap(cm_sig, annot=True)\n",
    "\n",
    "result2 = accuracy_score(y_test,sig_pred)\n",
    "print(result2)\n",
    "\n",
    "result1 = classification_report(y_test, sig_pred)\n",
    "print (result1)"
   ]
  },
  {
   "cell_type": "code",
   "execution_count": null,
   "metadata": {
    "id": "eyzrlpPxVtjG"
   },
   "outputs": [],
   "source": [
    "result1_dict = classification_report(y_test, sig_pred, output_dict = True)\n",
    "result1_df = pd.DataFrame(result1_dict)\n",
    "#result1_df.to_excel('classification_report_SVM-sig.xlsx')"
   ]
  },
  {
   "cell_type": "markdown",
   "metadata": {
    "id": "HQLxX6sJzYM1"
   },
   "source": [
    "## SVM_Sigmoid with new dataset"
   ]
  },
  {
   "cell_type": "code",
   "execution_count": null,
   "metadata": {
    "id": "NqlHojNszZGz"
   },
   "outputs": [],
   "source": [
    "'''\n",
    "sig = svm.SVC(kernel='sigmoid', C=1, decision_function_shape='ovo').fit(X_resampled, y_resampled)\n",
    "sig_pred_after = sig.predict(X_test)\n",
    "accuracy_sig_after = sig.score(X_test, y_test)\n",
    "'''"
   ]
  },
  {
   "cell_type": "code",
   "execution_count": null,
   "metadata": {
    "id": "Vl8bEPQd1KYV"
   },
   "outputs": [],
   "source": [
    "#print('Test Accuracy for SVM Sigmoid after resampling:' , accuracy_sig_after)"
   ]
  },
  {
   "cell_type": "code",
   "execution_count": null,
   "metadata": {
    "id": "Yg8D8Ux92YEy"
   },
   "outputs": [],
   "source": [
    "#train_accuracy_sig_after = sig.score(X_resampled, y_resampled)"
   ]
  },
  {
   "cell_type": "code",
   "execution_count": null,
   "metadata": {
    "id": "eU8lpd420noq"
   },
   "outputs": [],
   "source": [
    "#print('Train Accuracy for SVM Sigmoid after resampling:' , train_accuracy_sig_after)"
   ]
  },
  {
   "cell_type": "code",
   "execution_count": null,
   "metadata": {
    "id": "lhULVuXM3QST"
   },
   "outputs": [],
   "source": [
    "#cm_sig_after = confusion_matrix(y_test, sig_pred_after)"
   ]
  },
  {
   "cell_type": "code",
   "execution_count": null,
   "metadata": {
    "id": "U5fkW77a3fX2"
   },
   "outputs": [],
   "source": [
    "'''\n",
    "from sklearn.metrics import classification_report, confusion_matrix, accuracy_score\n",
    "\n",
    "sns.heatmap(cm_sig_after, annot=True)\n",
    "\n",
    "result2 = accuracy_score(y_test,sig_pred_after)\n",
    "print(result2)\n",
    "\n",
    "result1 = classification_report(y_test, sig_pred_after)\n",
    "print (result1)\n",
    "'''"
   ]
  },
  {
   "cell_type": "markdown",
   "metadata": {
    "id": "StT83lmZYqny"
   },
   "source": [
    "### 2. KNN"
   ]
  },
  {
   "cell_type": "code",
   "execution_count": null,
   "metadata": {
    "id": "H6ysE4yYYqny"
   },
   "outputs": [],
   "source": [
    "from sklearn.model_selection import train_test_split\n",
    "from sklearn.neighbors import KNeighborsClassifier"
   ]
  },
  {
   "cell_type": "code",
   "execution_count": null,
   "metadata": {
    "id": "UAwtkaHmYqny"
   },
   "outputs": [],
   "source": [
    "knn_clf=KNeighborsClassifier()\n",
    "knn_clf.fit(X_train,y_train)\n",
    "ypred=knn_clf.predict(X_test) #These are the predicted output value"
   ]
  },
  {
   "cell_type": "code",
   "execution_count": null,
   "metadata": {
    "id": "mw9kjtHZYqny"
   },
   "outputs": [],
   "source": [
    "ypred=knn_clf.predict(X_test)"
   ]
  },
  {
   "cell_type": "code",
   "execution_count": null,
   "metadata": {
    "id": "GhKatC53Yqnz"
   },
   "outputs": [],
   "source": [
    "from sklearn.metrics import classification_report, confusion_matrix, accuracy_score\n",
    "result = confusion_matrix(y_test, ypred)\n",
    "\n",
    "sns.heatmap(result, annot=True)\n",
    "\n",
    "result2 = accuracy_score(y_test,ypred)\n",
    "print(result2)\n",
    "\n",
    "result1 = classification_report(y_test, ypred)\n",
    "print (result1)"
   ]
  },
  {
   "cell_type": "markdown",
   "metadata": {
    "id": "zvQycIckSD0R"
   },
   "source": [
    "### Choosing a k-value"
   ]
  },
  {
   "cell_type": "code",
   "execution_count": null,
   "metadata": {
    "id": "08ZQoHbAO1f9"
   },
   "outputs": [],
   "source": [
    "error_rate = []\n",
    "# Might take some time\n",
    "for i in range(1,40):\n",
    "    \n",
    "    knn = KNeighborsClassifier(n_neighbors=i)\n",
    "    knn.fit(X_train,y_train)\n",
    "    pred_i = knn.predict(X_test)\n",
    "    error_rate.append(np.mean(pred_i != y_test))"
   ]
  },
  {
   "cell_type": "code",
   "execution_count": null,
   "metadata": {
    "id": "GXdyfECDSRps"
   },
   "outputs": [],
   "source": [
    "plt.figure(figsize=(10,6))\n",
    "plt.plot(range(1,40),error_rate,color='blue', linestyle='dashed', marker='o',\n",
    "         markerfacecolor='red', markersize=10)\n",
    "plt.title('Error Rate vs. K Value')\n",
    "plt.xlabel('K')\n",
    "plt.ylabel('Error Rate')"
   ]
  },
  {
   "cell_type": "code",
   "execution_count": null,
   "metadata": {
    "id": "CcWCE4Gh1iVk"
   },
   "outputs": [],
   "source": []
  },
  {
   "cell_type": "markdown",
   "metadata": {
    "id": "7xaMpJSxacUK"
   },
   "source": [
    "The error rate is found to be minimum at k=23 \n"
   ]
  },
  {
   "cell_type": "markdown",
   "metadata": {
    "id": "yes51ySubMXQ"
   },
   "source": [
    "Let's retrain the model with k=21 and k=23 and check the classification report."
   ]
  },
  {
   "cell_type": "code",
   "execution_count": null,
   "metadata": {
    "id": "x8ZdWxzabOSU"
   },
   "outputs": [],
   "source": [
    "# FIRST A QUICK COMPARISON TO OUR ORIGINAL K=21\n",
    "knn = KNeighborsClassifier(n_neighbors=21)\n",
    "knn.fit(X_train, y_train)\n",
    "pred = knn.predict(X_test)\n",
    "print('WITH K=21')\n",
    "print('\\n')\n",
    "print(confusion_matrix(y_test,pred))\n",
    "print('\\n')\n",
    "print(classification_report(y_test,pred))"
   ]
  },
  {
   "cell_type": "code",
   "execution_count": null,
   "metadata": {
    "id": "zzaK3Um-ctyr"
   },
   "outputs": [],
   "source": [
    "# NOW WITH K=23\n",
    "knn = KNeighborsClassifier(n_neighbors=23)\n",
    "\n",
    "knn.fit(X_train,y_train)\n",
    "pred = knn.predict(X_test)\n",
    "\n",
    "print('WITH K=23')\n",
    "print('\\n')\n",
    "print(confusion_matrix(y_test,pred))\n",
    "print('\\n')\n",
    "print(classification_report(y_test,pred))"
   ]
  },
  {
   "cell_type": "code",
   "execution_count": null,
   "metadata": {
    "id": "A6s3JRwFUUYl"
   },
   "outputs": [],
   "source": [
    "result1_dict = classification_report(y_test, pred, output_dict = True)\n",
    "result1_df = pd.DataFrame(result1_dict)\n",
    "#result1_df.to_excel('classification_report_kNN.xlsx')"
   ]
  },
  {
   "cell_type": "markdown",
   "metadata": {
    "id": "xz6xXLyfokxL"
   },
   "source": [
    "## Train and Test Accuracy Score - kNN"
   ]
  },
  {
   "cell_type": "code",
   "execution_count": null,
   "metadata": {
    "id": "a21pH1eAm_jc"
   },
   "outputs": [],
   "source": [
    "train_accuracy_knn = knn.score(X_train, y_train)\n",
    "test_accuracy_knn = knn.score(X_test, y_test)"
   ]
  },
  {
   "cell_type": "code",
   "execution_count": null,
   "metadata": {
    "id": "f6OD80UKoMpC"
   },
   "outputs": [],
   "source": [
    "print(\"Train Accuracy:\", train_accuracy_knn)\n",
    "print(\"Test Accuracy:\", test_accuracy_knn)  "
   ]
  },
  {
   "cell_type": "markdown",
   "metadata": {
    "id": "ZnAdwaalYqnz"
   },
   "source": [
    "### 3. Logistic Regression"
   ]
  },
  {
   "cell_type": "code",
   "execution_count": null,
   "metadata": {
    "id": "A4HG3G0pYqnz"
   },
   "outputs": [],
   "source": [
    "from sklearn.linear_model import LogisticRegression\n",
    "lr_clf = LogisticRegression(multi_class = 'ovr', random_state=0).fit(X_train, y_train)"
   ]
  },
  {
   "cell_type": "code",
   "execution_count": null,
   "metadata": {
    "id": "TdFlIPPMYqnz"
   },
   "outputs": [],
   "source": [
    "lr_clf.fit(X_train,y_train)\n",
    "ypred=lr_clf.predict(X_test)"
   ]
  },
  {
   "cell_type": "code",
   "execution_count": null,
   "metadata": {
    "id": "PHugT4MZYqnz"
   },
   "outputs": [],
   "source": [
    "ypred=lr_clf.predict(X_test)"
   ]
  },
  {
   "cell_type": "code",
   "execution_count": null,
   "metadata": {
    "id": "z1ceVQlfYqnz"
   },
   "outputs": [],
   "source": [
    "from sklearn.metrics import classification_report, confusion_matrix, accuracy_score\n",
    "result = confusion_matrix(y_test, ypred)\n",
    "\n",
    "sns.heatmap(result, annot=True)\n",
    "\n",
    "result2 = accuracy_score(y_test,ypred)\n",
    "print(result2)\n",
    "\n",
    "result1 = classification_report(y_test, ypred)\n",
    "#result1 = classification_report(y_test.tolist(), ypred.tolist(), labels = np.unique(y_test.tolist()))\n",
    "print (result1)"
   ]
  },
  {
   "cell_type": "code",
   "execution_count": null,
   "metadata": {
    "id": "qZu46F-TT7ox"
   },
   "outputs": [],
   "source": [
    "result1_dict = classification_report(y_test, ypred, output_dict = True)\n",
    "result1_df = pd.DataFrame(result1_dict)\n",
    "#result1_df.to_excel('classification_report_LR.xlsx')"
   ]
  },
  {
   "cell_type": "markdown",
   "metadata": {
    "id": "Anyx18ZRpn2V"
   },
   "source": [
    "## Train and Test Accuracy - Logistic Regression"
   ]
  },
  {
   "cell_type": "code",
   "execution_count": null,
   "metadata": {
    "id": "xgHYLksIo2wO"
   },
   "outputs": [],
   "source": [
    "train_accuracy_lr = lr_clf.score(X_train, y_train)\n",
    "test_accuracy_lr = lr_clf.score(X_test, y_test)"
   ]
  },
  {
   "cell_type": "code",
   "execution_count": null,
   "metadata": {
    "id": "lGj_b8iWpF45"
   },
   "outputs": [],
   "source": [
    "print(\"Train Accuracy:\", train_accuracy_lr)\n",
    "print(\"Test Accuracy:\", test_accuracy_lr)  "
   ]
  },
  {
   "cell_type": "markdown",
   "metadata": {
    "id": "kRHltfjEYqn0"
   },
   "source": [
    "### 4. Decision tree"
   ]
  },
  {
   "cell_type": "code",
   "execution_count": null,
   "metadata": {
    "id": "9vx9US5CYqn0"
   },
   "outputs": [],
   "source": [
    "from sklearn.tree import DecisionTreeClassifier\n",
    "model = DecisionTreeClassifier()\n",
    "model.fit(X_train,y_train)\n",
    "predictions = model.predict(X_test)\n",
    "print('accuracy score is')\n",
    "accuracy_score(y_test, predictions)"
   ]
  },
  {
   "cell_type": "code",
   "execution_count": null,
   "metadata": {
    "id": "A64xL7aBYqn1"
   },
   "outputs": [],
   "source": [
    "from sklearn.metrics import classification_report, confusion_matrix, accuracy_score\n",
    "result = confusion_matrix(y_test, predictions)\n",
    "\n",
    "sns.heatmap(result, annot=True)\n",
    "\n",
    "result2 = accuracy_score(y_test,predictions)\n",
    "print(result2)\n",
    "\n",
    "result1 = classification_report(y_test, predictions)\n",
    "print (result1)"
   ]
  },
  {
   "cell_type": "code",
   "execution_count": null,
   "metadata": {
    "id": "D8TglnVrTfH9"
   },
   "outputs": [],
   "source": [
    "result1_dict = classification_report(y_test, predictions, output_dict = True)\n",
    "result1_df = pd.DataFrame(result1_dict)\n",
    "#result1_df.to_excel('classification_report_DT.xlsx')"
   ]
  },
  {
   "cell_type": "markdown",
   "metadata": {
    "id": "t1MnltX5qnw5"
   },
   "source": [
    "## Train and Test Accuracy - Decision Tree"
   ]
  },
  {
   "cell_type": "code",
   "execution_count": null,
   "metadata": {
    "id": "h28qtH1nqBWr"
   },
   "outputs": [],
   "source": [
    "train_accuracy_dtree = model.score(X_train, y_train)\n",
    "test_accuracy_dtree = model.score(X_test, y_test)"
   ]
  },
  {
   "cell_type": "code",
   "execution_count": null,
   "metadata": {
    "id": "haYWhAjPqEfq"
   },
   "outputs": [],
   "source": [
    "print(\"Train Accuracy:\", train_accuracy_dtree)\n",
    "print(\"Test Accuracy:\", test_accuracy_dtree)  "
   ]
  },
  {
   "cell_type": "markdown",
   "metadata": {
    "id": "rkXCOhyNYqn1"
   },
   "source": [
    "## Using Boosting Algorithms"
   ]
  },
  {
   "cell_type": "markdown",
   "metadata": {
    "id": "ymcRhbjyYqn1"
   },
   "source": [
    "### 1. AdaBoost"
   ]
  },
  {
   "cell_type": "code",
   "execution_count": null,
   "metadata": {
    "id": "ypm3PWqOYqn1"
   },
   "outputs": [],
   "source": [
    "from sklearn.ensemble import AdaBoostClassifier\n",
    "adaboost = AdaBoostClassifier(n_estimators=100, base_estimator= None, learning_rate=1, random_state = 1)\n",
    "adaboost.fit(X_train,y_train)\n",
    "\n",
    "Y_pred = adaboost.predict(X_test)"
   ]
  },
  {
   "cell_type": "code",
   "execution_count": null,
   "metadata": {
    "id": "HZdN7bIdUmB0"
   },
   "outputs": [],
   "source": [
    "Y_pred"
   ]
  },
  {
   "cell_type": "code",
   "execution_count": null,
   "metadata": {
    "id": "WvfnydRTYqn1"
   },
   "outputs": [],
   "source": [
    "from sklearn.metrics import confusion_matrix\n",
    "cm = confusion_matrix(y_test,Y_pred)\n",
    "accuracy = float(cm.diagonal().sum())/len(y_test)\n",
    "print(\"\\nAccuracy Of AdaBoost For The Given Dataset : \", accuracy)"
   ]
  },
  {
   "cell_type": "code",
   "execution_count": null,
   "metadata": {
    "id": "r3pPwc63Yqn2"
   },
   "outputs": [],
   "source": [
    "from sklearn.metrics import classification_report, confusion_matrix, accuracy_score\n",
    "result = confusion_matrix(y_test, Y_pred)\n",
    "\n",
    "sns.heatmap(result, annot=True)\n",
    "\n",
    "result2 = accuracy_score(y_test,Y_pred)\n",
    "print(result2)\n",
    "\n",
    "result1 = classification_report(y_test, Y_pred)\n",
    "#result1.to_xlsx(output_file=\"classification_report_adaboost.xlsx\") \n",
    "print (result1)"
   ]
  },
  {
   "cell_type": "code",
   "execution_count": null,
   "metadata": {
    "id": "K-DRs_XTzcqG"
   },
   "outputs": [],
   "source": [
    "result1_dict = classification_report(y_test, Y_pred, output_dict = True)\n",
    "result1_df = pd.DataFrame(result1_dict)\n",
    "#result1_df.to_excel('classification_report_adaboost.xlsx')"
   ]
  },
  {
   "cell_type": "markdown",
   "metadata": {
    "id": "oK2IBKRsq_5G"
   },
   "source": [
    "## Train and Test Accuracy - AdaBoost"
   ]
  },
  {
   "cell_type": "code",
   "execution_count": null,
   "metadata": {
    "id": "wbzT2FTrz6F5"
   },
   "outputs": [],
   "source": [
    "train_accuracy_adaboost = adaboost.score(X_train, y_train)\n",
    "test_accuracy_adaboost = adaboost.score(X_test, y_test)"
   ]
  },
  {
   "cell_type": "code",
   "execution_count": null,
   "metadata": {
    "id": "9dz-3PtEq_Ly"
   },
   "outputs": [],
   "source": [
    "print(\"Train Accuracy:\", train_accuracy_adaboost)\n",
    "print(\"Test Accuracy:\", test_accuracy_adaboost)  "
   ]
  },
  {
   "cell_type": "code",
   "execution_count": null,
   "metadata": {
    "id": "RhNtIKXDEtB9"
   },
   "outputs": [],
   "source": [
    "'''\n",
    "def classification_report_csv(report):\n",
    "    report_data = []\n",
    "    lines = report.split('\\n')\n",
    "    for line in lines[5:-6]:\n",
    "        row = {}\n",
    "        row_data = line.split('      ')\n",
    "        row['class'] = row_data[0]\n",
    "        row['precision'] = float(row_data[1])\n",
    "        row['recall'] = float(row_data[2])\n",
    "        row['f1_score'] = float(row_data[3])\n",
    "        row['support'] = float(row_data[4])\n",
    "        report_data.append(row)\n",
    "    dataframe = pd.DataFrame.from_dict(report_data)\n",
    "    dataframe.to_csv('classification_report.csv', index = False)\n",
    "\n",
    "#report = classification_report(y_true, y_pred)\n",
    "classification_report_csv(result1)\n",
    "'''"
   ]
  },
  {
   "cell_type": "code",
   "execution_count": null,
   "metadata": {
    "id": "62sOzjQFYqn2"
   },
   "outputs": [],
   "source": [
    "!pip install xgboost"
   ]
  },
  {
   "cell_type": "markdown",
   "metadata": {
    "id": "uOF7dZWjYqn2"
   },
   "source": [
    "### 2. XgBoost"
   ]
  },
  {
   "cell_type": "code",
   "execution_count": null,
   "metadata": {
    "id": "DMy79JBvLNXA"
   },
   "outputs": [],
   "source": [
    "X_train.shape, X_test.shape"
   ]
  },
  {
   "cell_type": "code",
   "execution_count": null,
   "metadata": {
    "id": "rab5AhAsYqn2"
   },
   "outputs": [],
   "source": [
    "import xgboost as xgb\n",
    "from sklearn.metrics import accuracy_score\n",
    "#xgb_cl = xgb.XGBClassifier()\n",
    "\n",
    "# Init classifier\n",
    "xgb_cl = xgb.XGBClassifier()\n",
    "\n",
    "# Fit\n",
    "xgb_cl.fit(X_train, y_train)\n",
    "\n",
    "# Predict\n",
    "preds = xgb_cl.predict(X_test)\n",
    "\n",
    "# Score\n",
    "print(accuracy_score(y_test, preds))\n"
   ]
  },
  {
   "cell_type": "code",
   "execution_count": null,
   "metadata": {
    "id": "On9s2RU-RT3J"
   },
   "outputs": [],
   "source": [
    "X_test"
   ]
  },
  {
   "cell_type": "code",
   "execution_count": null,
   "metadata": {
    "id": "1CtsKsLgRc81"
   },
   "outputs": [],
   "source": [
    "X_train"
   ]
  },
  {
   "cell_type": "code",
   "execution_count": null,
   "metadata": {
    "id": "Hlk-z0ZcUS6w"
   },
   "outputs": [],
   "source": [
    "preds"
   ]
  },
  {
   "cell_type": "code",
   "execution_count": null,
   "metadata": {
    "id": "MBUSC5QYYqn2"
   },
   "outputs": [],
   "source": [
    "from sklearn.metrics import classification_report, confusion_matrix, accuracy_score\n",
    "result = confusion_matrix(y_test, preds)\n",
    "#print(confusion_matrix(y_test, preds))\n",
    "\n",
    "sns.heatmap(result, annot=True)\n",
    "\n",
    "result2 = accuracy_score(y_test,preds)\n",
    "print(\"accuracy is \",result2)\n",
    "result1 = classification_report(y_test, preds)\n",
    "print (result1)\n"
   ]
  },
  {
   "cell_type": "code",
   "execution_count": null,
   "metadata": {
    "id": "JXPi82jMWDkj"
   },
   "outputs": [],
   "source": [
    "result1_dict = classification_report(y_test, preds, output_dict = True)\n",
    "result1_df = pd.DataFrame(result1_dict)\n",
    "#result1_df.to_excel('classification_report_xgboost.xlsx')"
   ]
  },
  {
   "cell_type": "markdown",
   "metadata": {
    "id": "n8kvopwvsAB2"
   },
   "source": [
    "## Train and Test Accuracy - XgBoost"
   ]
  },
  {
   "cell_type": "code",
   "execution_count": null,
   "metadata": {
    "id": "e9fhJ1FtsHKm"
   },
   "outputs": [],
   "source": [
    "train_accuracy_xgb = xgb_cl.score(X_train, y_train)\n",
    "test_accuracy_sgb = xgb_cl.score(X_test, y_test)"
   ]
  },
  {
   "cell_type": "code",
   "execution_count": null,
   "metadata": {
    "id": "_47k6fVRsH1u"
   },
   "outputs": [],
   "source": [
    "print(\"Train Accuracy:\", train_accuracy_xgb)\n",
    "print(\"Test Accuracy:\", test_accuracy_sgb)  "
   ]
  },
  {
   "cell_type": "markdown",
   "metadata": {
    "id": "gzW-p62Y9uhn"
   },
   "source": [
    "### Convolutional Neural Network (CNN)"
   ]
  },
  {
   "cell_type": "code",
   "execution_count": null,
   "metadata": {
    "id": "c7xHMWOAYqn2"
   },
   "outputs": [],
   "source": [
    "# Data visualization\n",
    "import matplotlib.pyplot as plt\n",
    "import seaborn as sns\n",
    "import numpy as np\n",
    "import pandas as pd \n",
    "import seaborn as sns\n",
    "# Keras\n",
    "from keras.models import Sequential\n",
    "from keras.layers import Dense, Dropout\n",
    "import tensorflow as tf\n",
    "\n",
    "#from keras.optimizers import SGD, Adam, Adadelta, RMSprop\n",
    "from tensorflow.keras.optimizers import Adam, Adadelta, RMSprop\n",
    "import keras.backend as K\n",
    "# Train-Test\n",
    "from sklearn.model_selection import train_test_split\n",
    "# Scaling data\n",
    "from sklearn.preprocessing import StandardScaler\n",
    "# Classification Report\n",
    "from sklearn.metrics import classification_report"
   ]
  },
  {
   "cell_type": "code",
   "execution_count": null,
   "metadata": {
    "id": "2zDEVtyYYqn2"
   },
   "outputs": [],
   "source": [
    "from keras.utils.np_utils import to_categorical"
   ]
  },
  {
   "cell_type": "code",
   "execution_count": null,
   "metadata": {
    "id": "MHqzL5yQBBKq"
   },
   "outputs": [],
   "source": [
    "from sklearn.preprocessing import StandardScaler\n",
    "from sklearn.preprocessing import MinMaxScaler\n",
    "scaler=MinMaxScaler()\n",
    "sc = StandardScaler()\n",
    "X = pd.DataFrame(sc.fit_transform(X))"
   ]
  },
  {
   "cell_type": "code",
   "execution_count": null,
   "metadata": {
    "id": "o76SIDUGIzdP"
   },
   "outputs": [],
   "source": [
    "X.shape"
   ]
  },
  {
   "cell_type": "code",
   "execution_count": null,
   "metadata": {
    "id": "JbFUoUZnVUla"
   },
   "outputs": [],
   "source": [
    "X.columns"
   ]
  },
  {
   "cell_type": "markdown",
   "metadata": {
    "id": "3Kza-Cuh-w3A"
   },
   "source": [
    "### Build the Model"
   ]
  },
  {
   "cell_type": "code",
   "execution_count": null,
   "metadata": {
    "id": "i3agfP3M-4n4"
   },
   "outputs": [],
   "source": [
    "model = Sequential()\n",
    "model.add(Dense(60, input_shape = (7,), activation = \"relu\"))     # It was input shape = (16,), \n",
    "model.add(Dense(15, activation = \"relu\"))\n",
    "model.add(Dropout(0.2))\n",
    "model.add(Dense(5, activation = \"softmax\"))\n",
    "model.compile(Adam(lr = 0.01), \"sparse_categorical_crossentropy\", metrics = [\"accuracy\"])\n",
    "model.summary()"
   ]
  },
  {
   "cell_type": "code",
   "execution_count": null,
   "metadata": {
    "id": "tc1UEvZD_AUq"
   },
   "outputs": [],
   "source": [
    "model_history = model.fit(X_train, y_train, verbose=1, epochs=150, validation_data=(X_test, y_test))\n",
    "model_history"
   ]
  },
  {
   "cell_type": "markdown",
   "metadata": {
    "id": "VKhdtbdye1fb"
   },
   "source": [
    "After it has finished running, we can plot the accuracy and loss function as a function of epochs for the training and test sets to see how the network performed."
   ]
  },
  {
   "cell_type": "code",
   "execution_count": null,
   "metadata": {
    "id": "ZePudYpRd_WR"
   },
   "outputs": [],
   "source": [
    "# Plot the loss function\n",
    "fig, ax = plt.subplots(1, 1, figsize=(10,6))\n",
    "ax.plot(np.sqrt(model_history.history['loss']), 'r', label='train')\n",
    "ax.plot(np.sqrt(model_history.history['val_loss']), 'b' ,label='val')\n",
    "ax.set_xlabel(r'Epoch', fontsize=20)\n",
    "ax.set_ylabel(r'Loss', fontsize=20)\n",
    "ax.legend()\n",
    "ax.tick_params(labelsize=20)\n",
    "\n",
    "# Plot the accuracy\n",
    "fig, ax = plt.subplots(1, 1, figsize=(10,6))\n",
    "ax.plot(np.sqrt(model_history.history['accuracy']), 'r', label='train')\n",
    "ax.plot(np.sqrt(model_history.history['val_accuracy']), 'b' ,label='val')\n",
    "ax.set_xlabel(r'Epoch', fontsize=20)\n",
    "ax.set_ylabel(r'Accuracy', fontsize=20)\n",
    "ax.legend()\n",
    "ax.tick_params(labelsize=20)"
   ]
  },
  {
   "cell_type": "code",
   "execution_count": null,
   "metadata": {
    "id": "aapFYvek7s77"
   },
   "outputs": [],
   "source": [
    "from tensorflow.keras import callbacks\n",
    "earlystopping = callbacks.EarlyStopping(monitor =\"val_loss\", \n",
    "                                        mode =\"min\", patience = 5, \n",
    "                                        restore_best_weights = True)  #For best weights of neurons"
   ]
  },
  {
   "cell_type": "code",
   "execution_count": null,
   "metadata": {
    "id": "XbObc8nf8028"
   },
   "outputs": [],
   "source": [
    "model_history = model.fit(X_train, y_train, verbose=1, epochs=150, validation_data=(X_test, y_test), callbacks = [earlystopping])\n",
    "model_history"
   ]
  },
  {
   "cell_type": "markdown",
   "metadata": {
    "id": "msGEefuSyeyb"
   },
   "source": [
    "## With new Train dataset"
   ]
  },
  {
   "cell_type": "code",
   "execution_count": null,
   "metadata": {
    "id": "fxmcEJDCrNri"
   },
   "outputs": [],
   "source": [
    "'''\n",
    "model_history_after = model.fit(X_resampled, y_resampled, verbose=1, epochs=150, validation_data=(X_test, y_test))\n",
    "model_history_after\n",
    "'''"
   ]
  },
  {
   "cell_type": "code",
   "execution_count": null,
   "metadata": {
    "id": "Q_Ngvyc2yTPk"
   },
   "outputs": [],
   "source": [
    "'''\n",
    "model_history_after = model.fit(X_resampled, y_resampled, verbose=1, epochs=150, validation_data=(X_test, y_test), callbacks = [earlystopping])\n",
    "model_history_after\n",
    "'''"
   ]
  },
  {
   "cell_type": "markdown",
   "metadata": {
    "id": "BBsy9fmKzQ7z"
   },
   "source": [
    "Let us test the model."
   ]
  },
  {
   "cell_type": "code",
   "execution_count": null,
   "metadata": {
    "id": "IBMegYh7zVsL"
   },
   "outputs": [],
   "source": [
    "score, acc = model.evaluate(X_test, y_test, verbose = 2)\n",
    "print('Test accuracy:', acc)"
   ]
  },
  {
   "cell_type": "markdown",
   "metadata": {
    "id": "VU3K2wg0_GLQ"
   },
   "source": [
    "### Confusion Matrix"
   ]
  },
  {
   "cell_type": "code",
   "execution_count": null,
   "metadata": {
    "id": "naAv9Yqp_JaB"
   },
   "outputs": [],
   "source": [
    "#y_pred_class = model.predict_classes(X_test)\n",
    "from sklearn.metrics import confusion_matrix\n",
    "y_pred = model.predict(X_test)\n",
    "y_pred_class = np.argmax(y_pred, axis=1)\n",
    "#y_test_class = np.argmax(y_test, axis=1)\n",
    "#confusion_matrix(y_test, y_pred_class)\n",
    "y_pred_class"
   ]
  },
  {
   "cell_type": "markdown",
   "metadata": {
    "id": "Q1Yc_hzL_UXz"
   },
   "source": [
    "### Classification Report"
   ]
  },
  {
   "cell_type": "code",
   "execution_count": null,
   "metadata": {
    "id": "9yJVi129Mhe2"
   },
   "outputs": [],
   "source": [
    "from sklearn.metrics import classification_report, confusion_matrix, accuracy_score\n",
    "result = confusion_matrix(y_test, y_pred_class)\n",
    "#print(confusion_matrix(y_test, preds))\n",
    "\n",
    "sns.heatmap(result, annot=True)\n",
    "\n",
    "result2 = accuracy_score(y_test,y_pred_class)\n",
    "print(\"accuracy is \",result2)\n",
    "result1 = classification_report(y_test, y_pred_class)\n",
    "print (result1)"
   ]
  },
  {
   "cell_type": "code",
   "execution_count": null,
   "metadata": {
    "id": "jJ7xZ8BTWXZj"
   },
   "outputs": [],
   "source": [
    "result1_dict = classification_report(y_test, y_pred_class, output_dict = True)\n",
    "result1_df = pd.DataFrame(result1_dict)\n",
    "#result1_df.to_excel('classification_report_CNN.xlsx')"
   ]
  },
  {
   "cell_type": "markdown",
   "metadata": {
    "id": "R9MohTnas2ed"
   },
   "source": [
    "## Train and Test Accuracy - CNN"
   ]
  },
  {
   "cell_type": "code",
   "execution_count": null,
   "metadata": {
    "id": "6Ep80PQVvue2"
   },
   "outputs": [],
   "source": [
    "train_accuracy_cnn = model_history.history['accuracy']\n",
    "test_accuracy_cnn = model_history.history['val_accuracy']"
   ]
  },
  {
   "cell_type": "code",
   "execution_count": null,
   "metadata": {
    "id": "gnNIoinJvgg9"
   },
   "outputs": [],
   "source": [
    "print(\"Train Accuracy:\", train_accuracy_cnn)\n",
    "print(\"Test Accuracy:\", test_accuracy_cnn)  "
   ]
  },
  {
   "cell_type": "markdown",
   "metadata": {
    "id": "p-gx1YagaWXB"
   },
   "source": [
    "### **Since we are able to achieve maximum possible accuracies for model performance, we may not need to any further optimization hereafter.**"
   ]
  },
  {
   "cell_type": "markdown",
   "metadata": {
    "id": "o7CfpMUCKMvp"
   },
   "source": [
    "# Applying Stacking"
   ]
  },
  {
   "cell_type": "markdown",
   "metadata": {
    "id": "aQbVZLa0Kih2"
   },
   "source": [
    "## Voting Classifier - Soft and Hard Voting"
   ]
  },
  {
   "cell_type": "markdown",
   "metadata": {
    "id": "Hu4F-YoAKtp2"
   },
   "source": [
    "If ‘hard’, uses predicted class labels for majority rule voting. Else if ‘soft’, predicts the class label based on the argmax of the sums of the predicted probabilities, which is recommended for an ensemble of well-calibrated classifiers."
   ]
  },
  {
   "cell_type": "code",
   "execution_count": null,
   "metadata": {
    "id": "qg2oHWgyKXfy"
   },
   "outputs": [],
   "source": [
    "vote_est = [\n",
    "    #Ensemble Methods: http://scikit-learn.org/stable/modules/ensemble.html\n",
    "    \n",
    "    ('rfc', ensemble.RandomForestClassifier()),\n",
    "    \n",
    "    #Nearest Neighbor: http://scikit-learn.org/stable/modules/neighbors.html\n",
    "    ('knn', neighbors.KNeighborsClassifier()),\n",
    "    \n",
    "    #xgboost: http://xgboost.readthedocs.io/en/latest/model.html\n",
    "   ('xgb', XGBClassifier()),\n",
    "   ('lgbm',LGBMClassifier())\n",
    "\n",
    "]\n",
    "\n",
    "seed = 123\n",
    "skf = model_selection.ShuffleSplit(n_splits = 10, test_size = .3, train_size = .6, random_state = seed )\n",
    "#Hard Vote or majority rules\n",
    "vote_hard = ensemble.VotingClassifier(estimators = vote_est , voting = 'hard')\n",
    "vote_hard_cv = model_selection.cross_validate(vote_hard, data1_x_bin, data[Target], cv  = skf)\n",
    "vote_hard.fit(data1_x_bin, data[Target])\n",
    "#print(\"Hard Voting Training w/bin score mean: {:.2f}\". format(vote_hard_cv['train_score'].mean()*100)) \n",
    "print(\"Hard Voting Test w/bin score mean: {:.2f}\". format(vote_hard_cv['test_score'].mean()*100))\n",
    "print(\"Hard Voting Test w/bin score 3*std: +/- {:.2f}\". format(vote_hard_cv['test_score'].std()*100*3))\n",
    "print('-'*10)\n",
    "\n",
    "\n",
    "#Soft Vote or weighted probabilities\n",
    "vote_soft = ensemble.VotingClassifier(estimators = vote_est , voting = 'soft')\n",
    "vote_soft_cv = model_selection.cross_validate(vote_soft, data1_x_bin, data[Target], cv  = skf)\n",
    "vote_soft.fit(data1_x_bin, data[Target])\n",
    "\n",
    "#print(\"Soft Voting Training w/bin score mean: {:.2f}\". format(vote_soft_cv['train_score'].mean()*100)) \n",
    "print(\"Soft Voting Test w/bin score mean: {:.2f}\". format(vote_soft_cv['test_score'].mean()*100))\n",
    "print(\"Soft Voting Test w/bin score 3*std: +/- {:.2f}\". format(vote_soft_cv['test_score'].std()*100*3))\n",
    "print('-'*10)"
   ]
  },
  {
   "cell_type": "markdown",
   "metadata": {
    "id": "P0ktvrisK3Mf"
   },
   "source": [
    "## MLExtend"
   ]
  },
  {
   "cell_type": "markdown",
   "metadata": {
    "id": "6WtsxU7zK2t5"
   },
   "source": []
  },
  {
   "cell_type": "code",
   "execution_count": null,
   "metadata": {
    "id": "1aiyna1sKdQf"
   },
   "outputs": [],
   "source": [
    "from mlxtend.classifier import StackingClassifier\n",
    "lgbm_cl = LGBMClassifier(random_state=seed)\n",
    "rf_cl = RandomForestClassifier(10, random_state=seed)\n",
    "gdb_cl = GradientBoostingClassifier(random_state=seed)\n",
    "logreg = LogisticRegression()\n",
    "sclf = StackingClassifier(classifiers=[lgbm_cl, rf_cl,gdb_cl],\n",
    "                          meta_classifier=logreg)\n",
    "\n",
    "label = ['LGBM', 'Random Forest','GDB' 'Stacking Classifier']\n",
    "clf_list = [lgbm_cl, rf_cl,gdb_cl, logreg]\n",
    "\n",
    "for clf, label in zip([lgbm_cl, rf_cl,gdb_cl,sclf], \n",
    "                      ['LGBM', \n",
    "                       'Random Forest', \n",
    "                       'GDB',\n",
    "                       'StackingClassifier']):\n",
    "\n",
    "    scores = model_selection.cross_val_score(clf, data1_x_bin, data[Target], \n",
    "                                              cv=3, scoring='f1')\n",
    "    print(\"Accuracy: %0.2f (+/- %0.2f) [%s]\" \n",
    "          % (scores.mean(), scores.std(), label))"
   ]
  },
  {
   "cell_type": "markdown",
   "metadata": {
    "id": "tvV7lQSXLAqi"
   },
   "source": [
    "## VecStack"
   ]
  },
  {
   "cell_type": "code",
   "execution_count": null,
   "metadata": {
    "id": "u3ndgDFBK8Se"
   },
   "outputs": [],
   "source": [
    "from vecstack import stacking\n",
    "from sklearn.model_selection import train_test_split\n",
    "from sklearn import metrics\n",
    "\n",
    "#1st level model\n",
    "X_train, X_test, y_train, y_test = train_test_split(data1_x_bin, data[Target], test_size=0.2)\n",
    "\n",
    "models = [lgbm_cl,rf_cl,gdb_cl]\n",
    "S_train, S_test = stacking(models, X_train, y_train, X_test, \n",
    "    regression = False, metric = metrics.f1_score, n_folds = 4 , \n",
    "    shuffle = True, random_state = 0, verbose = 2)"
   ]
  },
  {
   "cell_type": "code",
   "execution_count": null,
   "metadata": {
    "id": "LCCbWNJaLSTX"
   },
   "outputs": [],
   "source": [
    "#2nd level model\n",
    "# Initialize 2nd level model\n",
    "model = XGBClassifier(random_state=0, n_jobs=-1, learning_rate=0.1, \n",
    "                      n_estimators=100, max_depth=3)\n",
    "    \n",
    "# Fit 2nd level model\n",
    "model = model.fit(S_train, y_train)\n",
    "\n",
    "# Predict\n",
    "y_pred = model.predict(S_test)\n",
    "\n",
    "# Final prediction score\n",
    "print('Final prediction score: [%.8f]' % metrics.f1_score(y_test, y_pred))"
   ]
  },
  {
   "cell_type": "code",
   "execution_count": null,
   "metadata": {
    "id": "qr7zg9BLLecF"
   },
   "outputs": [],
   "source": [
    "#New Experiment \n",
    "\n",
    "#Level 1\n",
    "X_train, X_test, y_train, y_test = train_test_split(data1_x_bin, data[Target], test_size=0.2)\n",
    "\n",
    "models = [\n",
    "    ExtraTreesClassifier(random_state=0, n_jobs=-1, \n",
    "                         n_estimators=100, max_depth=3),\n",
    "        \n",
    "    RandomForestClassifier(random_state=0, n_jobs=-1, \n",
    "                           n_estimators=100, max_depth=3),\n",
    "        \n",
    "    XGBClassifier(random_state=0, n_jobs=-1, learning_rate=0.1, \n",
    "                  n_estimators=100, max_depth=3)\n",
    "]\n",
    "\n",
    "S_train, S_test = stacking(models,                     # list of models\n",
    "                           X_train, y_train, X_test,   # data\n",
    "                           regression=False,           # classification task (if you need \n",
    "                                                       #     regression - set to True)\n",
    "                           mode='oof_pred_bag',        # mode: oof for train set, predict test \n",
    "                                                       #     set in each fold and vote\n",
    "                           needs_proba=False,          # predict class labels (if you need \n",
    "                                                       #     probabilities - set to True) \n",
    "                           save_dir=None,              # do not save result and log (to save \n",
    "                                                       #     in current dir - set to '.')\n",
    "                           metric=metrics.f1_score,      # metric: callable\n",
    "                           n_folds=4,                  # number of folds\n",
    "                           stratified=True,            # stratified split for folds\n",
    "                           shuffle=True,               # shuffle the data\n",
    "                           random_state=0,             # ensure reproducibility\n",
    "                           verbose=2)     "
   ]
  },
  {
   "cell_type": "code",
   "execution_count": null,
   "metadata": {
    "id": "M2t7ivRwLjLq"
   },
   "outputs": [],
   "source": [
    "#2nd level model\n",
    "# Initialize 2nd level model\n",
    "# model = XGBClassifier(random_state=0, n_jobs=-1, learning_rate=0.1, \n",
    "#                       n_estimators=100, max_depth=3)\n",
    "    \n",
    "model = LogisticRegression()\n",
    "# model = KNeighborsClassifier(n_neighbors=5)\n",
    "# Fit 2nd level model\n",
    "model = model.fit(S_train, y_train)\n",
    "\n",
    "# Predict\n",
    "y_pred = model.predict(S_test)\n",
    "\n",
    "# Final prediction score\n",
    "print('Final prediction score: [%.8f]' % metrics.f1_score(y_test, y_pred))"
   ]
  },
  {
   "cell_type": "markdown",
   "metadata": {
    "id": "HxoopDewLTK5"
   },
   "source": []
  },
  {
   "cell_type": "markdown",
   "metadata": {
    "id": "rCl0k4WJeKZN"
   },
   "source": [
    "#6. Running the Model through Grid Search "
   ]
  },
  {
   "cell_type": "code",
   "execution_count": null,
   "metadata": {
    "id": "O5oOzgMieMYT"
   },
   "outputs": [],
   "source": [
    "# Helper Class for Initilizing GridSearch\n",
    "\n",
    "import pandas as pd\n",
    "import numpy as np\n",
    "\n",
    "from sklearn.model_selection import GridSearchCV\n",
    "\n",
    "class EstimatorSelectionHelper:\n",
    "\n",
    "    def __init__(self, models, params):\n",
    "        if not set(models.keys()).issubset(set(params.keys())):\n",
    "            missing_params = list(set(models.keys()) - set(params.keys()))\n",
    "            raise ValueError(\"Some estimators are missing parameters: %s\" % missing_params)\n",
    "        self.models = models\n",
    "        self.params = params\n",
    "        self.keys = models.keys()\n",
    "        self.grid_searches = {}\n",
    "        self.best_params = {}\n",
    "        self.feature_importance = {}\n",
    "        self.FeatureImportanceAlgo = ['DecisionTreeClassifier','RandomForestClassifier','ExtraTreesClassifier','GradientBoostingClassifier', 'XGBClassifier']\n",
    "        #self.FeatureImportanceAlgo = ['LogisticRegression', 'DecisionTreeClassifier','KNNClassifier','AdaBoostClassifier','GradientBoostingClassifier','XGBClassifier', 'SVC': {'kernel': ['linear']}, 'SVC': {'kernel': ['rbf']}, 'SVC': {'kernel': ['poly']}, 'SVC': {'kernel': ['sigmoid']} ]\n",
    "        #self.FeatureImportanceAlgo = ['DecisionTreeClassifier','KNNClassifier','AdaBoostClassifier','GradientBoostingClassifier','XGBClassifier', 'SVC']\n",
    "\n",
    "    def fit(self, X, y, cv=3, n_jobs=3, verbose=1, scoring=None, refit=True):\n",
    "        for key in self.keys:\n",
    "            print(\"Running GridSearchCV for %s.\" % key)\n",
    "            model = self.models[key]\n",
    "            params = self.params[key]\n",
    "            gs = GridSearchCV(model, params, cv=cv, n_jobs=n_jobs,\n",
    "                              verbose=verbose, scoring=scoring, refit=refit,\n",
    "                              return_train_score=True)\n",
    "            gs.fit(X,y)\n",
    "            self.grid_searches[key] = gs  \n",
    "            self.best_params[key]  = str(gs.best_params_)\n",
    "            if key in self.FeatureImportanceAlgo:\n",
    "              self.feature_importance[key]= gs.best_estimator_ .feature_importances_\n",
    "\n",
    "            # print (gs.best_params_.feature_importances_ )\n",
    "            # try:\n",
    "            #   print(gs.best_params_.feature_importances_ )\n",
    "            #   self.feature_importance[key]= gs.best_params_.feature_importances_ \n",
    "            # except AttributeError:\n",
    "            #   pass\n",
    "\n",
    "    def returnBestParamDF(self):\n",
    "      d = self.best_params\n",
    "      BestParamDF = pd.DataFrame.from_dict([d.keys(), d.values()]).T\n",
    "      return BestParamDF\n",
    "\n",
    "    # def Feature_Importance(self):\n",
    "    #   for each\n",
    "\n",
    "    # def returnFeatureImportance(self):\n",
    "\n",
    "\n",
    "    def score_summary(self, sort_by='mean_score'):\n",
    "        def row(key, scores, params):\n",
    "            d = {\n",
    "                 'estimator': key,\n",
    "                 'min_score': min(scores),\n",
    "                 'max_score': max(scores),\n",
    "                 'mean_score': np.mean(scores),\n",
    "                 'std_score': np.std(scores),\n",
    "            }\n",
    "            return pd.Series({**params,**d})\n",
    "\n",
    "        rows = []\n",
    "        for k in self.grid_searches:\n",
    "            print(k)\n",
    "            params = self.grid_searches[k].cv_results_['params']\n",
    "            scores = []\n",
    "            for i in range(self.grid_searches[k].cv):\n",
    "                key = \"split{}_test_score\".format(i)\n",
    "                r = self.grid_searches[k].cv_results_[key]        \n",
    "                scores.append(r.reshape(len(params),1))\n",
    "\n",
    "            all_scores = np.hstack(scores)\n",
    "            for p, s in zip(params,all_scores):\n",
    "                rows.append((row(k, s, p)))\n",
    "\n",
    "        df = pd.concat(rows, axis=1).T.sort_values([sort_by], ascending=False)\n",
    "\n",
    "        columns = ['estimator', 'min_score', 'mean_score', 'max_score', 'std_score']\n",
    "        columns = columns + [c for c in df.columns if c not in columns]\n",
    "\n",
    "        return df[columns]"
   ]
  },
  {
   "cell_type": "code",
   "execution_count": null,
   "metadata": {
    "id": "O-ZyJk74eTkz"
   },
   "outputs": [],
   "source": [
    "from sklearn.ensemble import RandomForestClassifier\n",
    "from sklearn.ensemble import AdaBoostClassifier\n",
    "from sklearn.ensemble import GradientBoostingClassifier\n",
    "from sklearn.ensemble import ExtraTreesClassifier\n",
    "from sklearn.svm import SVC\n",
    "\n",
    "models1 = {\n",
    "    \n",
    "    'LogisticRegression':LogisticRegression(),\n",
    "    'DecisionTreeClassifier': DecisionTreeClassifier(),\n",
    "    #'RandomForestClassifier': RandomForestClassifier(),\n",
    "    'KNNClassifier': KNeighborsClassifier(),\n",
    "    'SVC': SVC(),\n",
    "    #'ExtraTreesClassifier': ExtraTreesClassifier(),\n",
    "    'AdaBoostClassifier': AdaBoostClassifier(),\n",
    "    'GradientBoostingClassifier': GradientBoostingClassifier(),\n",
    "    'XGBClassifier' : XGBClassifier()\n",
    "    \n",
    "}\n",
    "\n",
    "params1 = {\n",
    "    'LogisticRegression': { \"C\":np.logspace(-3,3,7), \"penalty\":[\"l2\", \"none\"]},  # l1 lasso l2 ridge\n",
    "    #'LogisticRegression': { \"C\":np.logspace(-3,3,7), \"penalty\":[\"l1\",\"l2\", 'none'], [‘l2’, ‘none’]},  # l1 lasso l2 ridge\n",
    "    'DecisionTreeClassifier': {'criterion' : ['gini', 'entropy'], 'splitter' : ['random', 'best'], 'max_depth':[2,5,10], 'min_samples_leaf':[2,5,10]},\n",
    "    #'RandomForestClassifier': { 'n_estimators': [16, 32] },\n",
    "    #'ExtraTreesClassifier': { 'n_estimators': [16, 32] },\n",
    "    'KNNClassifier':{ 'n_neighbors': [5,10,15,20], 'algorithm' : ['auto', 'ball_tree', 'kd_tree', 'brute']},\n",
    "    'AdaBoostClassifier':  { 'n_estimators': [16, 32] },\n",
    "    'XGBClassifier' : {\n",
    "    \"learning_rate\" : [0.001, 0.01, 0.1, 1],\n",
    "    \"n_estimators\" : [30, 40],     # [500, 1000, 1500],\n",
    "    \"max_depth\" : [5, 10, 15, 20],       # 6, \n",
    "    #\"min_child_weight\" : [1, 2, 3, 4, 5],\n",
    "    \"gamma\" : [0, 0.1, 0.3],\n",
    "    #\"subsample\" : [0.5, 0.8, 1.0],\n",
    "    \"colsample_bytree\" : [0.8, 1.5, 2.5],\n",
    "    \"num_class\" : [4],\n",
    "    \"objective\" : ['multi:softprob'],   # ['binary:logistic', 'multi:softprob'],  Error evaluation for multi-class training\n",
    "    #\"nthread\" : [4, 8, 16, 24],\n",
    "    #\"scale_pos_weight\" : [1, 2, 4, 7],\n",
    "    \"min_samples_split\" : [15, 20],\n",
    "    \"min_samples_leaf\" : [3, 4],\n",
    "    \"seed\" : [27]\n",
    "    },\n",
    "    'GradientBoostingClassifier': { 'n_estimators': [16, 32], 'learning_rate': [0.8, 1.0] },\n",
    "    'SVC': [\n",
    "        {'kernel': ['linear'], 'C': [1, 10], 'decision_function_shape' : ['ovo']},\n",
    "        {'kernel': ['rbf'], 'C': [1, 10], 'gamma': [0.001, 0.0001], 'decision_function_shape' : ['ovo']},\n",
    "        {'kernel': ['poly'], 'C': [1, 10], 'gamma': [0.001, 0.0001], 'degree' : [3], 'decision_function_shape' : ['ovo']},\n",
    "        {'kernel': ['sigmoid'], 'C': [1, 10], 'gamma': [0.001, 0.0001], 'decision_function_shape' : ['ovo']},\n",
    "    ]\n",
    "}\n",
    "\n"
   ]
  },
  {
   "cell_type": "code",
   "execution_count": null,
   "metadata": {
    "id": "_4NZ9ZhceeQ3"
   },
   "outputs": [],
   "source": [
    "helper1 = EstimatorSelectionHelper(models1, params1)\n",
    "helper1.fit(X, y, scoring='accuracy', n_jobs=-1)   # scoring = 'f1'"
   ]
  },
  {
   "cell_type": "code",
   "execution_count": null,
   "metadata": {
    "id": "ivmPMwM4TILB"
   },
   "outputs": [],
   "source": [
    "'''\n",
    "X.columns = ['k', 'ca2', 'fe3', 'fe2', 'cl', 'so4', 'hco3', 'co3',\n",
    "       'no2', 'hardness_general', 'no3', 'hardness_temporal', 'ph', 'co2_free',\n",
    "       'co2_infiltrate', 'sio2']\n",
    "'''       \n",
    "X.columns = ['k', 'ca2', 'cl', 'hco3', 'hardness_general', 'co2_free', 'co2_infiltrate']   "
   ]
  },
  {
   "cell_type": "code",
   "execution_count": null,
   "metadata": {
    "id": "06TkdGxfelBs"
   },
   "outputs": [],
   "source": [
    "feature_names = X.columns\n",
    "feat_imp_df = pd.DataFrame.from_dict(helper1.feature_importance)\n",
    "feat_imp_df.index = feature_names\n",
    "feat_imp_df"
   ]
  },
  {
   "cell_type": "code",
   "execution_count": null,
   "metadata": {
    "id": "l7UnHTw5emCu"
   },
   "outputs": [],
   "source": [
    "from sklearn.preprocessing import MinMaxScaler\n",
    "mms = MinMaxScaler()\n",
    "\n",
    "scaled_fi = pd.DataFrame(data=mms.fit_transform(feat_imp_df),\n",
    "                         columns=feat_imp_df.columns,\n",
    "                         index=feat_imp_df.index)\n",
    "\n",
    "scaled_fi['Overall'] = scaled_fi.sum(axis=1)\n",
    "print(scaled_fi.head())\n",
    "ordered_ranking = scaled_fi.sort_values('Overall', ascending=False)\n",
    "fig, ax = plt.subplots(figsize=(12,8), dpi=90)\n",
    "sns.barplot(data=ordered_ranking, y=ordered_ranking.index, x='Overall', palette='magma')\n",
    "ax.spines['right'].set_visible(False)\n",
    "ax.spines['top'].set_visible(False)\n",
    "ax.spines['bottom'].set_visible(False)\n",
    "ax.xaxis.set_visible(False)\n",
    "ax.grid(False)\n",
    "ax.set_title('Feature Importances for all Models');"
   ]
  },
  {
   "cell_type": "code",
   "execution_count": null,
   "metadata": {
    "id": "SNf55cdXJUuX"
   },
   "outputs": [],
   "source": [
    "helper1.score_summary(sort_by='mean_score')"
   ]
  },
  {
   "cell_type": "code",
   "execution_count": null,
   "metadata": {
    "id": "j107o2MeJbL6"
   },
   "outputs": [],
   "source": [
    "helper1.returnBestParamDF()"
   ]
  },
  {
   "cell_type": "markdown",
   "metadata": {
    "id": "stZADfdAOyyb"
   },
   "source": [
    "#7. Explainability"
   ]
  },
  {
   "cell_type": "code",
   "execution_count": null,
   "metadata": {
    "id": "hwKmtLbxS6vj"
   },
   "outputs": [],
   "source": [
    "!pip install shap"
   ]
  },
  {
   "cell_type": "code",
   "execution_count": null,
   "metadata": {
    "id": "--MK0sxrO5Lo"
   },
   "outputs": [],
   "source": [
    "import sklearn\n",
    "from sklearn.model_selection import train_test_split\n",
    "import numpy as np\n",
    "import shap\n",
    "import time\n",
    "import xgboost\n",
    "\n",
    "shap.initjs()"
   ]
  },
  {
   "cell_type": "code",
   "execution_count": null,
   "metadata": {
    "id": "a0oqu9iOh6Df"
   },
   "outputs": [],
   "source": [
    "X_test.shape"
   ]
  },
  {
   "cell_type": "code",
   "execution_count": null,
   "metadata": {
    "id": "ROjE-5WbO19q"
   },
   "outputs": [],
   "source": [
    "X_test"
   ]
  },
  {
   "cell_type": "code",
   "execution_count": null,
   "metadata": {
    "id": "3LNsRisBVrkY"
   },
   "outputs": [],
   "source": [
    "'''\n",
    "X_test.columns = X.columns = ['k', 'ca2', 'fe3', 'fe2', 'cl', 'so4', 'hco3', 'co3',\n",
    "       'no2', 'hardness_general', 'no3', 'hardness_temporal', 'ph', 'co2_free',\n",
    "       'co2_infiltrate', 'sio2']\n",
    "'''       \n",
    "\n",
    "X_test.columns = X.columns = ['k', 'ca2', 'cl', 'hco3', 'hardness_general', 'co2_free', 'co2_infiltrate']       "
   ]
  },
  {
   "cell_type": "code",
   "execution_count": null,
   "metadata": {
    "id": "uspUFMRAWqtu"
   },
   "outputs": [],
   "source": [
    "X_test.shape"
   ]
  },
  {
   "cell_type": "code",
   "execution_count": null,
   "metadata": {
    "id": "iSxeT4npKczx"
   },
   "outputs": [],
   "source": [
    "''''\n",
    "X_test = df2.drop(['EC', 'TDS', 'TH' ,'Bicarbonate'], axis=1)\n",
    "#gc.collect()\n",
    "X_test.shape\n",
    "'''"
   ]
  },
  {
   "cell_type": "code",
   "execution_count": null,
   "metadata": {
    "id": "DBAj8Q8GGf7H"
   },
   "outputs": [],
   "source": [
    "X_test"
   ]
  },
  {
   "cell_type": "code",
   "execution_count": null,
   "metadata": {
    "id": "nCbNGah4Ke-G"
   },
   "outputs": [],
   "source": [
    "'''\n",
    "X_test.columns = X.columns = ['k', 'ca2', 'fe3', 'fe2', 'cl', 'so4', 'hco3', 'co3',\n",
    "       'no2', 'hardness_general', 'no3', 'hardness_temporal', 'ph', 'co2_free',\n",
    "       'co2_infiltrate', 'sio2']\n",
    "'''       \n",
    "X_test      "
   ]
  },
  {
   "cell_type": "code",
   "execution_count": null,
   "metadata": {
    "id": "8VhX4ZVQO6NZ"
   },
   "outputs": [],
   "source": [
    "import xgboost as xgb\n",
    "model_xgb = xgb.XGBClassifier(objective=\"binary:logistic\", max_depth=4, n_estimators=10)\n",
    "model_xgb.fit(X_train, y_train)\n",
    "XGBClassifier(base_score=0.5, booster='gbtree', colsample_bylevel=1,\n",
    "       colsample_bytree=1, gamma=0, learning_rate=0.1, max_delta_step=0,\n",
    "       max_depth=4, min_child_weight=1, missing=None, n_estimators=10,\n",
    "       n_jobs=1, nthread=None, objective='multi:softprob', random_state=0,\n",
    "       reg_alpha=0, reg_lambda=1, scale_pos_weight=1, seed=None,\n",
    "       silent=True, subsample=1)"
   ]
  },
  {
   "cell_type": "code",
   "execution_count": null,
   "metadata": {
    "id": "KGLZPQ-pO93C"
   },
   "outputs": [],
   "source": [
    "#class_names = ['Good', 'Excellent', 'Poor', 'Very Poor']\n",
    "class_names = ['Excellent', 'Good', 'Medium', 'Fair', 'Poor']\n",
    "shap_values = shap.TreeExplainer(model_xgb).shap_values(X_test)\n",
    "shap.summary_plot(shap_values, X_test, class_names = class_names, show = True)"
   ]
  },
  {
   "cell_type": "code",
   "execution_count": null,
   "metadata": {
    "id": "gsvfFfKHQ3qP"
   },
   "outputs": [],
   "source": [
    "y.value_counts()  # 1- Good, 0- Excellent, 2- Poor, 3- Very Poor"
   ]
  },
  {
   "cell_type": "code",
   "execution_count": null,
   "metadata": {
    "id": "Aus284UVJh4u"
   },
   "outputs": [],
   "source": [
    "shap_values = shap.TreeExplainer(model_xgb).shap_values(X)"
   ]
  },
  {
   "cell_type": "code",
   "execution_count": null,
   "metadata": {
    "id": "hFD9Y09OJuPy"
   },
   "outputs": [],
   "source": [
    "shap.summary_plot(shap_values, X, class_names = class_names, show = True)"
   ]
  },
  {
   "cell_type": "code",
   "execution_count": null,
   "metadata": {
    "id": "2GieS8QeKbdp"
   },
   "outputs": [],
   "source": [
    "# we pass \"WQI\" instead of an index because dependence_plot() will find it in X's column names for us\n",
    "\n",
    "shap.dependence_plot(\"hardness_general\", shap_values[0], X, show = False)"
   ]
  },
  {
   "cell_type": "code",
   "execution_count": null,
   "metadata": {
    "id": "vCg3g187XTNl"
   },
   "outputs": [],
   "source": [
    "# we pass \"Fluoride\" instead of an index because dependence_plot() will find it in X's column names for us\n",
    "shap.dependence_plot(\"k\", shap_values[0], X, show = False)"
   ]
  },
  {
   "cell_type": "code",
   "execution_count": null,
   "metadata": {
    "id": "qkIug1O2MGt8"
   },
   "outputs": [],
   "source": [
    "# we pass \"Sulphate\" instead of an index because dependence_plot() will find it in X's column names for us\n",
    "shap.dependence_plot(\"cl\", shap_values[0], X, show = False)"
   ]
  },
  {
   "cell_type": "code",
   "execution_count": null,
   "metadata": {
    "id": "NdCiOp3NY7RX"
   },
   "outputs": [],
   "source": [
    "# we pass \"pH\" instead of an index because dependence_plot() will find it in X's column names for us\n",
    "shap.dependence_plot(\"co2_free\", shap_values[0], X, show = False)"
   ]
  },
  {
   "cell_type": "markdown",
   "metadata": {
    "id": "_y5oXFUhpg5X"
   },
   "source": [
    "#8. Applying Grid Search for Hyperparameter Tuning"
   ]
  },
  {
   "cell_type": "code",
   "execution_count": null,
   "metadata": {
    "id": "InYIN6KboODX"
   },
   "outputs": [],
   "source": [
    "# We have taken XGBoost as a representative model example\n",
    "import xgboost as xgb\n",
    "from sklearn.metrics import accuracy_score\n",
    "\n",
    "xgb_cl = xgb.XGBClassifier(random_state=42)"
   ]
  },
  {
   "cell_type": "code",
   "execution_count": null,
   "metadata": {
    "id": "DaHF6O1grS0W"
   },
   "outputs": [],
   "source": [
    "# Make a dictionary of hypermeter values to search\n",
    "\n",
    "search_space = {\n",
    "    \"learning_rate\" : [0.001, 0.01, 0.1, 1],\n",
    "    \"n_estimators\" : [30, 40],     # [500, 1000, 1500],\n",
    "    \"max_depth\" : [5, 10, 15, 20],       # 6, \n",
    "    #\"min_child_weight\" : [1, 2, 3, 4, 5],\n",
    "    \"gamma\" : [0, 0.1, 0.3],\n",
    "    #\"subsample\" : [0.5, 0.8, 1.0],\n",
    "    \"colsample_bytree\" : [0.8, 1.5, 2.5],\n",
    "    \"num_class\" : [5],\n",
    "    \"objective\" : ['multi:softprob'],   # ['binary:logistic', 'multi:softprob'],  Error evaluation for multi-class training\n",
    "    #\"nthread\" : [4, 8, 16, 24],\n",
    "    #\"scale_pos_weight\" : [1, 2, 4, 7],\n",
    "    \"min_samples_split\" : [15, 20],\n",
    "    \"min_samples_leaf\" : [3, 4],\n",
    "    \"seed\" : [27]\n",
    "}"
   ]
  },
  {
   "cell_type": "code",
   "execution_count": null,
   "metadata": {
    "id": "3hVZvjG-FuNE"
   },
   "outputs": [],
   "source": [
    "from sklearn.model_selection import GridSearchCV\n",
    "# Make a GridSearch object\n",
    "\n",
    "gs = GridSearchCV(estimator = xgb_cl,\n",
    "                  param_grid = search_space,\n",
    "                  scoring = 'accuracy',     #   ['f1', 'accuracy', 'precision', 'recall','neg_log_loss' ],\n",
    "                  refit = True,     # = make_scorer('roc_auc_score'),\n",
    "                  cv= 5,\n",
    "                  verbose = 4\n",
    "                  )"
   ]
  },
  {
   "cell_type": "code",
   "execution_count": null,
   "metadata": {
    "id": "mQe3iTpyP0S_"
   },
   "outputs": [],
   "source": [
    "X_train.shape, y_train.shape"
   ]
  },
  {
   "cell_type": "code",
   "execution_count": null,
   "metadata": {
    "id": "-m_75d2GPIfO"
   },
   "outputs": [],
   "source": [
    "gs.fit(X_train, y_train)"
   ]
  },
  {
   "cell_type": "code",
   "execution_count": null,
   "metadata": {
    "id": "lPJzPs-qSLUD"
   },
   "outputs": [],
   "source": [
    "#To get the complete details of the best model\n",
    "print(gs.best_estimator_)"
   ]
  },
  {
   "cell_type": "code",
   "execution_count": null,
   "metadata": {
    "id": "elTjbQURSnDb"
   },
   "outputs": [],
   "source": [
    "# To get the best set of hyperparameter values we search for\n",
    "print(gs.best_params_)"
   ]
  },
  {
   "cell_type": "code",
   "execution_count": null,
   "metadata": {
    "id": "wU74PTc9Tda6"
   },
   "outputs": [],
   "source": [
    "# To get best score according to the metric we passed in refit\n",
    "print(gs.best_score_)"
   ]
  },
  {
   "cell_type": "code",
   "execution_count": null,
   "metadata": {
    "id": "3cdNiT-YUIXq"
   },
   "outputs": [],
   "source": [
    "print(gs.cv_results_)"
   ]
  },
  {
   "cell_type": "code",
   "execution_count": null,
   "metadata": {
    "id": "Kf0Cyt5r_SMr"
   },
   "outputs": [],
   "source": [
    "#xgb_cl = xgb.XGBClassifier(random_state=42)\n",
    "#{'colsample_bytree': 0.8, 'gamma': 0, 'learning_rate': 0.001, 'max_depth': 5, 'min_samples_leaf': 3, 'min_samples_split': 15, 'n_estimators': 30, 'num_class': 4, 'objective': 'multi:softprob', 'seed': 27}\n",
    "#{'colsample_bytree': 0.8, 'gamma': 0, 'learning_rate': 1, 'max_depth': 10, 'min_samples_leaf': 3, 'min_samples_split': 15, 'n_estimators': 40, 'num_class': 4, 'objective': 'multi:softprob', 'seed': 27}\n",
    "xgb_tuned = xgb.XGBClassifier(colsample_bytree = 0.8,\n",
    "                              gamma = 0, \n",
    "                              learning_rate = 1, \n",
    "                              max_depth = 5, \n",
    "                              min_samples_leaf = 3, \n",
    "                              min_samples_split = 15, \n",
    "                              n_estimators = 40, \n",
    "                              num_class = 5, \n",
    "                              objective = 'multi:softprob', \n",
    "                              seed = 27).fit(X_train, y_train)                      \n",
    "                              "
   ]
  },
  {
   "cell_type": "code",
   "execution_count": null,
   "metadata": {
    "id": "BYIOUnSgJAEv"
   },
   "outputs": [],
   "source": [
    "X_test"
   ]
  },
  {
   "cell_type": "code",
   "execution_count": null,
   "metadata": {
    "id": "erISKJ_zGGKE"
   },
   "outputs": [],
   "source": [
    "#X_test = X_test.rename(columns={x:y for x,y in zip(X_test.columns,range(0,len(df.columns)))})  #Converting column names to numbers"
   ]
  },
  {
   "cell_type": "code",
   "execution_count": null,
   "metadata": {
    "id": "unEwQRF0Ke6Z"
   },
   "outputs": [],
   "source": [
    "#y_test.shape"
   ]
  },
  {
   "cell_type": "code",
   "execution_count": null,
   "metadata": {
    "id": "1CWynNmA-yJz"
   },
   "outputs": [],
   "source": [
    "\n",
    "#X_train.columns  = ['so4', 'sio2', 'hardness_temporal', 'cl', 'co3', 'hco3', 'hardness_general', 'no3', 'fe3', 'co2_infiltrate', 'ca2', 'ph', 'fe2', 'k','no2', 'co2_free']\n",
    "'''\n",
    "X_train.columns  = ['k', 'ca2', 'fe3', 'fe2', 'cl', 'so4', 'hco3', 'co3', \\\n",
    "       'no2', 'hardness_general', 'no3', 'hardness_temporal', 'ph', 'co2_free',  \\\n",
    "       'co2_infiltrate', 'sio2']\n",
    "'''\n",
    "\n",
    "X_train.columns = ['k', 'ca2', 'cl', 'hco3', 'hardness_general', 'co2_free', 'co2_infiltrate']\n",
    "#X_train.columns = ['hco3', 'cl', 'co2_infiltrate', 'ca2', 'hardness_general', 'co2_free', 'k']\n",
    "X_train"
   ]
  },
  {
   "cell_type": "code",
   "execution_count": null,
   "metadata": {
    "id": "3jBeeTvJKwh0"
   },
   "outputs": [],
   "source": [
    "X_test.shape, X_train.shape"
   ]
  },
  {
   "cell_type": "code",
   "execution_count": null,
   "metadata": {
    "id": "yUXdgAZHBk8c"
   },
   "outputs": [],
   "source": [
    "y_pred = xgb_tuned.predict(X_test)\n",
    "#y_pred.shape\n",
    "#confusion_matrix(y_test, y_pred)"
   ]
  },
  {
   "cell_type": "code",
   "execution_count": null,
   "metadata": {
    "id": "E0-jEBp6B_hq"
   },
   "outputs": [],
   "source": [
    "from sklearn.metrics import f1_score\n",
    "xgb_tuned_f1 = f1_score(y_test, y_pred, average = 'macro')\n",
    "xgb_tuned_f1"
   ]
  },
  {
   "cell_type": "code",
   "execution_count": null,
   "metadata": {
    "id": "Ta0Z59-wCW2m"
   },
   "outputs": [],
   "source": [
    "print(classification_report(y_test, y_pred))   "
   ]
  },
  {
   "cell_type": "code",
   "execution_count": null,
   "metadata": {
    "id": "k2IvU8dTbqBj"
   },
   "outputs": [],
   "source": [
    "xgb_tuned_accuracy_score = accuracy_score(y_test, y_pred)\n",
    "print(\"Acccuracy after tuning is \", xgb_tuned_accuracy_score)"
   ]
  },
  {
   "cell_type": "markdown",
   "metadata": {
    "id": "LPsE5xBrdk1s"
   },
   "source": [
    "Micro avg and weighted avg have been improved after tuning."
   ]
  },
  {
   "cell_type": "markdown",
   "metadata": {
    "id": "r3muFmRMetaJ"
   },
   "source": [
    "Follwoing same approach We can apply GrodSearch to other classifers to be able to optimize the model performance. "
   ]
  }
 ],
 "metadata": {
  "colab": {
   "provenance": [],
   "toc_visible": true
  },
  "kernelspec": {
   "display_name": "Python 3 (ipykernel)",
   "language": "python",
   "name": "python3"
  },
  "language_info": {
   "codemirror_mode": {
    "name": "ipython",
    "version": 3
   },
   "file_extension": ".py",
   "mimetype": "text/x-python",
   "name": "python",
   "nbconvert_exporter": "python",
   "pygments_lexer": "ipython3",
   "version": "3.9.16"
  }
 },
 "nbformat": 4,
 "nbformat_minor": 4
}
